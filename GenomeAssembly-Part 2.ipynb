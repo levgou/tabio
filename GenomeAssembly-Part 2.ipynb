{
  "cells": [
    {
      "cell_type": "markdown",
      "metadata": {
        "pycharm": {}
      },
      "source": "# Practical Session - Genome Assembly\n# Part 2\n\nIn this practical session you will:\n- Construct a De Bruijn graph from read-pairs\n- Find Contigs in a De Bruijn graph\n- Assemble a real viral genome\n\n#### How exciting! Let\u0027s start!\n\u003eStudents names: Lev Gourevitch"
    },
    {
      "cell_type": "markdown",
      "metadata": {
        "pycharm": {}
      },
      "source": [
        "The following functions are implemented functions from the previous practical session, you can use them."
      ]
    },
    {
      "cell_type": "code",
      "execution_count": 4,
      "metadata": {
        "pycharm": {
          "is_executing": false
        }
      },
      "outputs": [],
      "source": [
        "def create_graph(nodes, edges):\n",
        "    graph \u003d nx.MultiDiGraph()\n",
        "    graph.add_nodes_from(nodes)\n",
        "    graph.add_edges_from(edges)\n",
        "    \n",
        "    return graph"
      ]
    },
    {
      "cell_type": "code",
      "execution_count": 5,
      "metadata": {
        "pycharm": {
          "is_executing": false
        }
      },
      "outputs": [],
      "source": [
        "def composition(text, k):\n",
        "    kmers \u003d []\n",
        "    for i in range(len(text) - k + 1):\n",
        "        kmers.append(text[i:i+k])\n",
        "    return kmers"
      ]
    },
    {
      "cell_type": "code",
      "execution_count": 6,
      "metadata": {
        "pycharm": {
          "is_executing": false
        }
      },
      "outputs": [],
      "source": [
        "import networkx as nx\n",
        "\n",
        "def debruijn(kmers):\n",
        "    graph \u003d nx.MultiDiGraph()\n",
        "\n",
        "    for kmer in kmers:\n",
        "        kmer_perfix \u003d kmer[:-1]\n",
        "        kmer_suffix \u003d kmer[1:]\n",
        "\n",
        "        graph.add_edge(kmer_perfix, kmer_suffix)\n",
        "    \n",
        "    return graph"
      ]
    },
    {
      "cell_type": "code",
      "execution_count": 7,
      "metadata": {
        "pycharm": {
          "is_executing": false
        }
      },
      "outputs": [],
      "source": [
        "from IPython.display import Image\n",
        "\n",
        "def draw_graph(g):\n",
        "    d \u003d nx.drawing.nx_pydot.to_pydot(g)\n",
        "\n",
        "    png_str \u003d d.create_png()\n",
        "    img \u003d Image(data\u003dpng_str)\n",
        "    display(img)"
      ]
    },
    {
      "cell_type": "code",
      "execution_count": 8,
      "metadata": {
        "pycharm": {
          "is_executing": false
        }
      },
      "outputs": [],
      "source": [
        "def eulerize(graph):\n",
        "    \"\"\"\n",
        "    Adds an edge between two nodes in order to create an euler cycle\n",
        "    \n",
        "    Args:\n",
        "        graph: a graph with an Euler path\n",
        "\n",
        "    Returns:\n",
        "        The starting node of an eulerian path\n",
        "    \"\"\"\n",
        "    \n",
        "    left_node \u003d -1\n",
        "    right_node \u003d -1\n",
        "    for node in graph.nodes:\n",
        "        if graph.out_degree(node) \u003e graph.in_degree(node):\n",
        "            right_node \u003d node\n",
        "        elif graph.out_degree(node) \u003c graph.in_degree(node):\n",
        "            left_node \u003d node\n",
        "            \n",
        "    if left_node !\u003d -1 and right_node !\u003d -1:\n",
        "        graph.add_edge(left_node, right_node)\n",
        "        \n",
        "    return right_node"
      ]
    },
    {
      "cell_type": "code",
      "execution_count": 9,
      "metadata": {
        "pycharm": {
          "is_executing": false
        }
      },
      "outputs": [],
      "source": "def path_to_genome(kmers):\n    \"\"\"Concatanates a list of kmers to a string\"\"\"\n    text \u003d kmers[0]\n    for kmer in kmers[1:]:\n        text +\u003d kmer[-1]\n        \n    return text       "
    },
    {
      "cell_type": "code",
      "execution_count": 10,
      "metadata": {
        "pycharm": {
          "is_executing": false
        }
      },
      "outputs": [],
      "source": [
        "def get_euler_cycle_nodes(graph, src_node):\n",
        "    \"\"\"\n",
        "    Finds an euler path in a graph\n",
        "    \n",
        "    Args:\n",
        "        graph: a graph with an Euler path\n",
        "\n",
        "    Returns:\n",
        "        The nodes of an eulerian path\n",
        "    \"\"\"\n",
        "    cycle \u003d nx.eulerian_circuit(graph, source\u003dsrc_node)\n",
        "    cycle_nodes \u003d [e[0] for e in cycle]\n",
        "    \n",
        "    return cycle_nodes"
      ]
    },
    {
      "cell_type": "code",
      "execution_count": 11,
      "metadata": {
        "pycharm": {
          "is_executing": false
        }
      },
      "outputs": [],
      "source": [
        "def get_euler_path(graph):\n",
        "    \"\"\"Returns an euler path \"\"\"\n",
        "    src_node \u003d eulerize(graph)\n",
        "    nodes \u003d get_euler_cycle_nodes(graph, src_node)\n",
        "\n",
        "    return nodes"
      ]
    },
    {
      "cell_type": "markdown",
      "metadata": {
        "pycharm": {}
      },
      "source": "## 1. Debruijn of read-pairs\n\nBuild a De Bruijn graph from read-pairs, and construct the genome\n\n- Input: A list of read-pairs of k-mers, with distance $d$ between each pair of k-mers\n- Output: A reconstructed genome\n\n**Sample Input:**   \n$k\u003d4$  \n$d\u003d2$  \n(\u0027GAGA\u0027, \u0027TTGA\u0027)  \n(\u0027TCGT\u0027, \u0027GATG\u0027)  \n(\u0027CGTG\u0027, \u0027ATGT\u0027)  \n(\u0027TGGT\u0027, \u0027TGAG\u0027)  \n(\u0027GTGA\u0027, \u0027TGTT\u0027)  \n(\u0027GTGG\u0027, \u0027GTGA\u0027)  \n(\u0027TGAG\u0027, \u0027GTTG\u0027)  \n(\u0027GGTC\u0027, \u0027GAGA\u0027)\n(\u0027GTCG\u0027, \u0027AGAT\u0027)\n\n**Sample Output:**   \nGTGGTCGTGAGATGTTGA"
    },
    {
      "cell_type": "code",
      "execution_count": 12,
      "metadata": {
        "pycharm": {
          "is_executing": false
        }
      },
      "outputs": [],
      "source": "from typing import List, Tuple\n\ndef debruijn_from_read_pairs(read_pairs: List[Tuple[str, str]]):\n    \n    graph \u003d nx.MultiDiGraph()\n    \n    #write your code here\n    for p_0, p_1 in read_pairs:\n        graph.add_edge(f\"{p_0[:-1]}\\n{p_1[:-1]}\", f\"{p_0[1:]}\\n{p_1[1:]}\")\n\n    return graph"
    },
    {
      "cell_type": "markdown",
      "metadata": {
        "pycharm": {}
      },
      "source": [
        "Let\u0027s look at the graph:"
      ]
    },
    {
      "cell_type": "code",
      "execution_count": 13,
      "metadata": {
        "pycharm": {
          "is_executing": false
        }
      },
      "outputs": [
        {
          "data": {
            "image/png": "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\u003d\n",
            "text/plain": "\u003cIPython.core.display.Image object\u003e"
          },
          "metadata": {},
          "output_type": "display_data"
        }
      ],
      "source": [
        "read_pairs \u003d [(\u0027GAGA\u0027, \u0027TTGA\u0027), (\u0027TCGT\u0027, \u0027GATG\u0027), (\u0027CGTG\u0027, \u0027ATGT\u0027), (\u0027TGGT\u0027, \u0027TGAG\u0027), (\u0027GTGA\u0027, \u0027TGTT\u0027), (\u0027GTGG\u0027, \u0027GTGA\u0027), \n",
        "              (\u0027TGAG\u0027, \u0027GTTG\u0027), (\u0027GGTC\u0027, \u0027GAGA\u0027), (\u0027GTCG\u0027, \u0027AGAT\u0027)]\n",
        "k \u003d 4\n",
        "d \u003d 2\n",
        "\n",
        "graph \u003d debruijn_from_read_pairs(read_pairs)\n",
        "draw_graph(graph)"
      ]
    },
    {
      "cell_type": "code",
      "execution_count": 14,
      "metadata": {
        "pycharm": {
          "is_executing": false
        }
      },
      "outputs": [],
      "source": "from functools import reduce\ndef read_pairs_path_to_genome(kmer_pairs, k, d):\n    \"\"\"\n    Reconstructs a genome from a path of read pairs\n    \n    Args:\n        kmer_pairs: a list of read pairs that form a path in a debruijn graph\n\n    Returns:\n        A genome represented by the path if exists, else an empty string\n    \"\"\"\n    \n    #write your code here\n    first_part \u003d reduce(lambda acc, node: acc + node.split(\u0027\\n\u0027)[0][-1],\n                        kmer_pairs[1:],\n                        kmer_pairs[0].split(\u0027\\n\u0027)[0])\n    second_part \u003d reduce(lambda acc, node: acc + node.split(\u0027\\n\u0027)[1][-1],\n                        kmer_pairs[1:],\n                        kmer_pairs[0].split(\u0027\\n\u0027)[1])\n    \n    genome \u003d first_part[:k+d] + second_part\n    return genome"
    },
    {
      "cell_type": "markdown",
      "metadata": {
        "pycharm": {}
      },
      "source": [
        "Test your code:"
      ]
    },
    {
      "cell_type": "code",
      "execution_count": 15,
      "metadata": {
        "pycharm": {
          "is_executing": false
        }
      },
      "outputs": [],
      "source": [
        "read_pairs \u003d [(\u0027GAGA\u0027, \u0027TTGA\u0027), (\u0027TCGT\u0027, \u0027GATG\u0027), (\u0027CGTG\u0027, \u0027ATGT\u0027), (\u0027TGGT\u0027, \u0027TGAG\u0027), (\u0027GTGA\u0027, \u0027TGTT\u0027), (\u0027GTGG\u0027, \u0027GTGA\u0027), \n",
        "              (\u0027TGAG\u0027, \u0027GTTG\u0027), (\u0027GGTC\u0027, \u0027GAGA\u0027), (\u0027GTCG\u0027, \u0027AGAT\u0027)]\n",
        "k \u003d 4\n",
        "d \u003d 2\n",
        "\n",
        "graph \u003d debruijn_from_read_pairs(read_pairs)\n",
        "path \u003d get_euler_path(graph)\n",
        "\n",
        "assert \u0027GTGGTCGTGAGATGTTGA\u0027 \u003d\u003d read_pairs_path_to_genome(path, k, d)"
      ]
    },
    {
      "cell_type": "markdown",
      "metadata": {
        "pycharm": {}
      },
      "source": [
        "## 2. Non-branching paths\n",
        "\n",
        "In this part of will find all non-branching paths in a De-Bruijn graph (that represent contigs)\n",
        "\n",
        "A node $v$ in a directed graph Graph is called a **1-in-1-out node** if its indegree and outdegree are both equal to 1.   \n",
        "A \"maximal non-branching path\" is a path whose internal nodes are 1-in-1-out nodes and whose initial and final nodes are not 1-in-1-out nodes.  \n",
        "A special case of a \"maximal non-branching path\" is an **isolated cycle**: a cycle in which all nodes are 1-in-1-out nodes.\n",
        "\n",
        "#### Solve the Maximal non-branching paths problem.\n",
        "- Input: A graph\n",
        "- Output: The collection of all maximal nonbranching paths in this graph\n",
        "\n",
        "**Sample Input:**   \n",
        "1 -\u003e 1,2  \n",
        "2 -\u003e 3  \n",
        "3 -\u003e 4,4,5  \n",
        "6 -\u003e 7  \n",
        "7 -\u003e 6  \n",
        "\n",
        "**Sample Output:**   \n",
        "1 -\u003e 2 -\u003e 3  \n",
        "1 -\u003e 1  \n",
        "3 -\u003e 4  \n",
        "3 -\u003e 4  \n",
        "3 -\u003e 5  \n",
        "7 -\u003e 6 -\u003e 7  "
      ]
    },
    {
      "cell_type": "markdown",
      "metadata": {
        "pycharm": {}
      },
      "source": [
        "The following methods could be useful:  \n",
        "`list(graph.neighbors(node))` returns a list of neighbors of a node   \n",
        "`len(graph.get_edge_data(node1, node2))` returns the number of edges between two nodes  \n",
        "See example below:"
      ]
    },
    {
      "cell_type": "code",
      "execution_count": 16,
      "metadata": {
        "pycharm": {
          "is_executing": false
        }
      },
      "outputs": [
        {
          "name": "stdout",
          "text": [
            "[4, 5]\n2\n"
          ],
          "output_type": "stream"
        }
      ],
      "source": [
        "nodes \u003d list(range(1, 8))\n",
        "edges \u003d [(1, 1), (1, 2), (2, 3), (3, 4), (3, 4), (3, 5), (6, 7), (7, 6)]\n",
        "\n",
        "graph \u003d create_graph(nodes, edges)\n",
        "\n",
        "#get the neighbors of a node\n",
        "print(list(graph.neighbors(3)))\n",
        "\n",
        "#get the number of edges between two nodes\n",
        "print(len(graph.get_edge_data(3, 4)))"
      ]
    },
    {
      "cell_type": "code",
      "execution_count": 17,
      "metadata": {
        "pycharm": {
          "is_executing": false
        }
      },
      "outputs": [
        {
          "data": {
            "image/png": "[encoded data removed]",
            "text/plain": "\u003cIPython.core.display.Image object\u003e"
          },
          "metadata": {},
          "output_type": "display_data"
        }
      ],
      "source": [
        "draw_graph(graph)"
      ]
    },
    {
      "cell_type": "code",
      "execution_count": 113,
      "metadata": {
        "pycharm": {
          "is_executing": false
        }
      },
      "outputs": [],
      "source": "def iter_contig_start_nodes(graph: nx.MultiDiGraph):\n    for n in graph:\n        if graph.in_degree(n) !\u003d 1 or graph.out_degree(n) !\u003d 1:\n            if graph.out_degree(n):\n                yield n\n\n\ndef find_regular_paths(graph: nx.MultiDiGraph):\n    paths \u003d []\n    \n    #write your code here\n    def valid_path_node(node): \n        return graph.in_degree(node) \u003d\u003d 1 and graph.out_degree(node) \u003d\u003d 1  \n    \n    for node in iter_contig_start_nodes(graph):\n        for neighbour in graph.neighbors(node):\n            cur_path \u003d [node]\n            cur_node \u003d neighbour\n            \n            while valid_path_node(cur_node): \n                cur_path.append(cur_node)\n                cur_node \u003d next(graph.neighbors(cur_node))\n                \n            cur_path.append(cur_node)\n            [paths.append(cur_path) for _ in range(graph.number_of_edges(cur_path[-2], cur_path[-1]))]\n    \n    return paths\n\n\ndef find_two_node_cycle_paths(graph: nx.MultiDiGraph):\n    paths \u003d []\n    for cycle in nx.simple_cycles(graph):\n        if len(cycle) \u003e 1 and \\\n                all(graph.out_degree(n) \u003d\u003d 1 and graph.in_degree(n) \u003d\u003d 1 \n                    for n in cycle):\n            paths.append(cycle + [cycle[0]])    \n    return paths\n\n\ndef max_non_branching_paths(graph: nx.MultiDiGraph):\n    \"\"\"\n    Finds non branching paths in a graph, including isolated cycles\n    \n    Args:\n        graph: a debruijn graph\n\n    Returns:\n        A list of paths, each path is a list\n    \"\"\"\n    paths \u003d []\n    \n    #write your code here\n    paths.extend(find_regular_paths(graph))\n    paths.extend(find_two_node_cycle_paths(graph))\n    \n    return paths\n\n"
    },
    {
      "cell_type": "markdown",
      "metadata": {
        "pycharm": {}
      },
      "source": [
        "Test your code"
      ]
    },
    {
      "cell_type": "code",
      "execution_count": 114,
      "metadata": {
        "pycharm": {
          "is_executing": false
        }
      },
      "outputs": [
        {
          "name": "stdout",
          "text": [
            "[\u00271 1\u0027, \u00271 2 3\u0027, \u00273 4\u0027, \u00273 4\u0027, \u00273 5\u0027, \u00276 7 6\u0027] [\u00276 7 6\u0027, \u00273 5\u0027, \u00271 1\u0027, \u00271 2 3\u0027, \u00273 4\u0027, \u00273 4\u0027]\n"
          ],
          "output_type": "stream"
        }
      ],
      "source": "nodes \u003d list(range(1, 8))\nedges \u003d [(1, 1), (1, 2), (2, 3), (3, 4), (3, 4), (3, 5), (6, 7), (7, 6)]\n\ngraph \u003d create_graph(nodes, edges)\npaths \u003d max_non_branching_paths(graph)\n\nexpected_paths \u003d [[6, 7, 6],\n[3, 5],\n[1, 1],\n[1, 2, 3],\n[3, 4],\n[3, 4]\n]\n\npaths_str \u003d [\u0027 \u0027.join([str(node) for node in path]) for path in paths]\nexpected_paths_str \u003d [\u0027 \u0027.join([str(node) for node in path]) for path in expected_paths]\n\nprint(paths_str, expected_paths_str)\nassert sorted(expected_paths_str) \u003d\u003d sorted(paths_str)"
    },
    {
      "cell_type": "markdown",
      "metadata": {
        "pycharm": {}
      },
      "source": [
        "## 3. Find Contigs\n",
        "\n",
        "#### Contig Generation Problem: Generate the contigs from a collection of reads (with imperfect coverage).\n",
        "- Input: A collection of k-mers $Patterns$. \n",
        "- Output: All contigs in $DeBruijn(Patterns)$.\n",
        "\n",
        "**Sample Input:**   \n",
        "ATG  \n",
        "ATG   \n",
        "TGT  \n",
        "TGG  \n",
        "CAT  \n",
        "GGA  \n",
        "GAT  \n",
        "AGA  \n",
        "\n",
        "**Sample Output:**   \n",
        "AGA ATG ATG CAT GAT TGGA TGT"
      ]
    },
    {
      "cell_type": "markdown",
      "metadata": {
        "pycharm": {}
      },
      "source": [
        "\u003e **This problem was already solved for you. Solve the next problem - contigs from read pairs**"
      ]
    },
    {
      "cell_type": "code",
      "execution_count": 115,
      "metadata": {
        "pycharm": {
          "is_executing": false
        }
      },
      "outputs": [
        {
          "data": {
            "image/png": "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\u003d\u003d\n",
            "text/plain": "\u003cIPython.core.display.Image object\u003e"
          },
          "metadata": {},
          "output_type": "display_data"
        }
      ],
      "source": "patterns \u003d [\u0027ATG\u0027,\n\u0027ATG\u0027,\n\u0027TGT\u0027,\n\u0027TGG\u0027,\n\u0027CAT\u0027,\n\u0027GGA\u0027,\n\u0027GAT\u0027,\n\u0027AGA\u0027]\n\ndef get_cotings(patterns):\n    graph \u003d debruijn(patterns)\n    paths \u003d max_non_branching_paths(graph)\n    \n    return [path_to_genome(path) for path in paths]\n\ndraw_graph(debruijn(patterns))"
    },
    {
      "cell_type": "code",
      "execution_count": 116,
      "metadata": {
        "pycharm": {
          "is_executing": false
        }
      },
      "outputs": [
        {
          "name": "stdout",
          "text": [
            "{\u0027ATG\u0027, \u0027CAT\u0027, \u0027TGGA\u0027, \u0027GAT\u0027, \u0027TGT\u0027, \u0027AGA\u0027}\n"
          ],
          "output_type": "stream"
        }
      ],
      "source": "print(set(get_cotings(patterns)) )\nassert set(get_cotings(patterns)) \u003d\u003d set([\u0027AGA\u0027, \u0027ATG\u0027, \u0027ATG\u0027, \u0027CAT\u0027, \u0027GAT\u0027, \u0027TGGA\u0027, \u0027TGT\u0027])"
    },
    {
      "cell_type": "markdown",
      "metadata": {
        "pycharm": {}
      },
      "source": [
        "### Solve the Contig Generation Problem for read pairs.\n",
        "- Input: A collection of read pairs $Patterns$. \n",
        "- Output: All contigs in $DeBruijn(Patterns)$.\n",
        "\n",
        "**Sample Input:**   \n",
        "$k\u003d2$  \n",
        "$d\u003d1$  \n",
        "(\u0027TC\u0027, \u0027GT\u0027)  \n",
        "(\u0027CA\u0027, \u0027TT\u0027)  \n",
        "(\u0027AG\u0027, \u0027TA\u0027)  \n",
        "(\u0027GA\u0027, \u0027TG\u0027)  \n",
        "(\u0027AC\u0027, \u0027GC\u0027)  \n",
        "(\u0027CT\u0027, \u0027CA\u0027)\n",
        "\n",
        "**Sample Output:**   \n",
        "[\u0027TCAGTTA\u0027, \u0027GACTGCA\u0027]"
      ]
    },
    {
      "cell_type": "code",
      "execution_count": 117,
      "metadata": {
        "pycharm": {
          "is_executing": false
        }
      },
      "outputs": [],
      "source": "def get_contigs_from_read_pairs(read_pairs, k, d):\n    \n    #write your code here\n    graph \u003d debruijn_from_read_pairs(read_pairs)\n    paths \u003d max_non_branching_paths(graph)\n    \n    contigs \u003d [read_pairs_path_to_genome(p, k, d) for p in paths]\n    \n    return contigs\n"
    },
    {
      "cell_type": "markdown",
      "metadata": {
        "pycharm": {}
      },
      "source": [
        "Test your code"
      ]
    },
    {
      "cell_type": "code",
      "execution_count": 118,
      "metadata": {
        "pycharm": {
          "is_executing": false
        }
      },
      "outputs": [],
      "source": [
        "k \u003d 2\n",
        "d \u003d 1\n",
        "read_pairs \u003d [(\u0027TC\u0027, \u0027GT\u0027),  \n",
        "(\u0027CA\u0027, \u0027TT\u0027),  \n",
        "(\u0027AG\u0027, \u0027TA\u0027),  \n",
        "(\u0027GA\u0027, \u0027TG\u0027),  \n",
        "(\u0027AC\u0027, \u0027GC\u0027),  \n",
        "(\u0027CT\u0027, \u0027CA\u0027)]\n",
        "\n",
        "expected_contigs \u003d [\u0027GACTGCA\u0027, \u0027TCAGTTA\u0027]\n",
        "\n",
        "contigs \u003d get_contigs_from_read_pairs(read_pairs, k, d)\n",
        "\n",
        "assert sorted(contigs) \u003d\u003d expected_contigs"
      ]
    },
    {
      "cell_type": "markdown",
      "metadata": {
        "pycharm": {}
      },
      "source": [
        "## 4. Final Challenge\n",
        "\n",
        "*Leuconostoc phage L5* is a small virus with a small genome (only 2435 bp).\n",
        "\n",
        "Given a collection of simulated error-free read-pairs (with exact distance $d \u003d 50$ between reads of length $k \u003d 100$ within a read-pair), use the paired de Bruijn graph to reconstruct the *Leuconostoc phage L5* genome. \n",
        "\n",
        "Compare this assembly to the assembly obtained from the classic de Bruijn graph (i.e., when all we know is the reads themselves and do not know the distance between paired reads) in order to better appreciate the benefits of read-pairs. "
      ]
    },
    {
      "cell_type": "markdown",
      "metadata": {
        "pycharm": {}
      },
      "source": [
        "The read pairs are in the file *read_pairs.txt*"
      ]
    },
    {
      "cell_type": "code",
      "execution_count": 119,
      "metadata": {
        "pycharm": {
          "is_executing": false
        }
      },
      "outputs": [],
      "source": "k \u003d 10\nd \u003d 50\n\nread_pairs \u003d []\nkmers \u003d []\n\nwith open(\u0027read_pairs.txt\u0027) as f:\n    for line in f:\n        read_pairs.append(tuple(line.strip().split(\u0027|\u0027)))\n    \nwith open(\u0027kmers.txt\u0027) as f:\n    for line in f:\n        kmers.append(line[:-1])\n        "
    },
    {
      "cell_type": "code",
      "execution_count": 120,
      "metadata": {
        "pycharm": {
          "is_executing": false
        }
      },
      "outputs": [
        {
          "data": {
            "text/plain": "[\u0027ggccgctagtaatcgtgtaattcaaattgataaacgattattagacgtattaaagagatataagcgcgtttctggtttattggtacaagtaacaagagaagcgattaatcacgttctaacaaaagatttaaagcacatagaagcaaaaaacgttacctttcacgccttgcgccatagccatgcaagttatttatt\u0027,\n \u0027tttaaagcacatagaagcaaaaaacgttacctttcacgccttgcgccatagccatgcaagttatttattatctaagggtgtttcaattcaatatgtaagcgagcgtttgggacattccaatgttggaattacagaaaatgtgtattctcatttattaaaaacgctcagggaaaacgaagaaaaaaagatcactgatttaatggattttcagtgatttttttgtgcgatttttgtgcgatgtgcgcaaatttgtgcgatttttttgcgtttatttgcttttgtttgcgttggtttgaacgggctgaaagccttggtacgactgcgtttaagcaaacaaaaagctctatatcaactttcgtcaatatagagcctaaatgccccaaacaggcacaaggtaagcctatattacagcgtttctagcctgttgttgtgcaattgttgtgcaaattatttgttgttttcaatttctttttttagccattttgtaattatcgaagatacactttcgttcttttcaattgctaaaattcttatctgtttgataacttcttcatctaatgtagttgtaaatttctttttcatataaataactatactcttttatagtgtattgacaatacacactaaagtgtatattgtatatttcagatacgaaagggaatatataaggcatgttaaaagaagttaaatatgaagatgcagtacacaacaaaatttttaatgatttcgtaagcaaaaggata\u0027,\n \u0027tttaaagcataaaaaaagagcgtctaaccaattaaggccagacgcttttaatttatttatttatttatttcgtgcgggtgcagctgattgaacagcggctaaactagcttgtgcttcaactacagccttttgagctgctgatactgcatcagattgagcttttgtagttgcggcc\u0027,\n \u0027taaaagaagttaaatatgaagatgcagtacacaacaaaatttttaatgatttcgtaagcaaaaggatagtggccgtaattccagcacacaacgaagaacacgatataactaatgctttaaaatcgcttacaatacaaagcgtcccaaaggactacattttaagcgtctttgttattgaagacaattgtaacgatagtactgacaaagaagtaagggcattttctgatcaattaaatttatatgtaataaagacagttaataataaagatcgaaaagcaggtgcattaaataccttttatcgtttgatgtttggtgataatactaaagattcattagaagcttgtatattaaggcggttaataaaatcgaagcttttctagctatggacgctgatgttattcttgccagagattgtttgtcaactatgtataaagagctaaaaagtacttacggtgttgcttcgattagtgcaaacgttcagtgtttgctaccggaaaacgttaaaaaagtaccgcttaacgttcccgatcgagagtatttaattaaacatggtaaatatggaaatgctttcgcacgttggattactgttttacaaaatgtttcttttgccagttggtcattaaagcaaaaatccaataactattcgattgaaattgcaaacggtcaaaccacccttttttctttccaagctttgaaaagtgtttacgataataataaaatgaatattttgtatcaaatagtacagatacggaagatgaaaagttaacgaagaccttagacgcttaggttggacttgtaaaatatcaaataatgcccgtacttatgcggatagtatgaaaacaatgagttcatggtatcgacaggctaa\u0027,\n \u0027atatcaaataatgcccgtacttatgcggatagtatgaaaacaatgagttcatggtatcgacaggctaaaaaatggcattctgggcttgtgcagcaacaactagaatcaggaatttctacagcctattcacgagttttgtggggaaggcaatttatattatggattaacgcaattatcaggcttttactgattgtcttagttcggtagcttatcaataaggaatatcaatggaactatatatatttcttacgattttatttctgcaatcttaaattttgtttcaatgctaaaaacacctatgaaactcccgattgatgctttgtttgcattgactaccattccatcagaatttcaagtgtggttagacattattgttgatataagtgtgtggcgtgatatgtttcgagttactaaagtagatggctggctattcaatatgctgctgaaaacggtacattaaagaaaaatcacaattgatatatataagtcttactttaatagttgctattgtctttggcttttatatgaagtggttaagtgttacgctagttgtcaataccattaaaccttatctaaatgcaggatttaatattctaacttatttaacgatagttatgtttttattcatgctgattcaattgaataaatttagaggtaattttaaagcataaaaaaagagcgtctaaccaattaaggccagacgcttttaatttatttatttatttatt\u0027]"
          },
          "metadata": {},
          "output_type": "execute_result",
          "execution_count": 120
        }
      ],
      "source": "#create contigs from read pairs\nget_contigs_from_read_pairs(read_pairs, k, d)\n"
    },
    {
      "cell_type": "code",
      "execution_count": 122,
      "metadata": {
        "pycharm": {
          "is_executing": false
        }
      },
      "outputs": [
        {
          "name": "stdout",
          "text": [
            "[\u0027ggccgctagtaatcgtgtaattcaaattgataaacgattattagacgtattaaagagatataagcgcgtttctggtttattggtacaagtaacaagagaagcgattaatcacgttctaacaaaagatttaaagca\u0027, \u0027tttaaagcacatagaagcaaaaa\u0027, \u0027tttaaagcataaaaaaaga\u0027, \u0027aagcaaaaaacgtta\u0027, \u0027aagcaaaaatccaataactat\u0027, \u0027aaaacgttacctttcacgccttgcgccatagccatgcaagttatttatt\u0027, \u0027aaaacgttaaaaaagtac\u0027, \u0027ttatttattatctaagggtgtttcaat\u0027, \u0027ttatttattt\u0027, \u0027ttatttattt\u0027, \u0027ttatttattt\u0027, \u0027tgtttcaattcaatat\u0027, \u0027tgtttcaatgctaaaaacacctatgaaactcccgattgatgctttgtttgc\u0027, \u0027attcaatatg\u0027, \u0027attcaatatg\u0027, \u0027ttcaatatgtaagcgagcgtttgggacattccaatgttggaattacagaaaatgtgtattctcatttattaaaaacgctcagggaaaacgaagaa\u0027, \u0027ttcaatatgctgctgaaaacggtacattaaagaaaaatcacaattgatatatataag\u0027, \u0027aacgaagaaaaaaaga\u0027, \u0027aacgaagaacacgatataactaatgctttaaaatcgcttacaatacaaagcgtcccaaaggactacattttaagcgtctttgttattgaagacaattgtaacgatag\u0027, \u0027aaaaaaagatcactgatttaatggattttcagtgattttttt\u0027, \u0027aaaaaaagagcgtctaaccaattaaggccagacgcttttaatttattta\u0027, \u0027gatttttttg\u0027, \u0027gatttttttg\u0027, \u0027atttttttgtgc\u0027, \u0027atttttttgcgtttatttgcttttgtttgc\u0027, \u0027tttttgtgcg\u0027, \u0027tttttgtgcg\u0027, \u0027ttttgtgcga\u0027, \u0027ttttgtgcga\u0027, \u0027tttgtgcgat\u0027, \u0027tttgtgcgat\u0027, \u0027tttgtgcgat\u0027, \u0027ttgtgcgatt\u0027, \u0027ttgtgcgatt\u0027, \u0027ttgtgcgatgtgcgcaaatttgtgcga\u0027, \u0027tgtgcgattt\u0027, \u0027tgtgcgattt\u0027, \u0027gtgcgatttt\u0027, \u0027gtgcgatttt\u0027, \u0027tgcgattttt\u0027, \u0027tgcgattttt\u0027, \u0027gcgatttttgtgc\u0027, \u0027gcgattttttt\u0027, \u0027tttgtttgcgttggtttgaacgggctgaaagccttggtacgactgcgtttaagcaaacaaaaagctctatatcaactttcgtcaatatagagcctaaatgccccaaacaggcacaaggtaagcctatattacagcgtttctagcctgttgttgtgc\u0027, \u0027tttgtttgcattgactaccattccatcagaatttcaagtgtggttagacattattgttgatataagtgtgtggcgtgatatgtttcgagttactaaagtagatggctggctattcaatat\u0027, \u0027ttgttgtgca\u0027, \u0027ttgttgtgca\u0027, \u0027tgttgtgcaa\u0027, \u0027tgttgtgcaa\u0027, \u0027gttgtgcaattgttgtgc\u0027, \u0027gttgtgcaaattatttgttgttttcaatt\u0027, \u0027ttttcaatttcttt\u0027, \u0027ttttcaattgctaaaattcttatctgtttgataacttcttcatctaatgtagttgtaaatttcttt\u0027, \u0027aatttctttt\u0027, \u0027aatttctttt\u0027, \u0027atttcttttt\u0027, \u0027atttcttttt\u0027, \u0027tttctttttttagccattttgtaattatcgaagatacactttcgttcttttcaatt\u0027, \u0027tttctttttcatataaataactat\u0027, \u0027aataactatactcttttatagtgtattgacaatacacactaaagtgtatattgtatatt\u0027, \u0027aataactattcgattgaaattgcaaacggtcaaaccacccttttttctttccaagctttgaaaagtgtttacgataataataa\u0027, \u0027ttgtatatttcagatacgaaagggaatatataag\u0027, \u0027ttgtatattaaggcggttaataaaat\u0027, \u0027atatataaggcatgttaaaagaa\u0027, \u0027atatataagtcttactttaatagttgctattgtctttggcttttatatgaagtggttaagtgttacgctagttgtcaataccattaaaccttatctaaatgcaggatttaatattctaacttatttaacgatag\u0027, \u0027taaaagaagttaaatatgaagatgcagtacacaacaaaatttttaatgatttcgtaagcaaaaggatagtggccgtaattccagcacacaacgaagaa\u0027, \u0027taacgatagt\u0027, \u0027taacgatagt\u0027, \u0027aacgatagtactgacaaagaagtaagggcattttctgatcaattaaatttatat\u0027, \u0027aacgatagttatgtttttattcatgctgattcaattgaataaatttagaggtaattttaaagca\u0027, \u0027aatttatatgtaataaaga\u0027, \u0027aatttatattatggattaacgcaattatcaggcttttactgattgtcttagttcggtagcttatcaataaggaatatcaatggaactatatatatttcttacgattttatttctgcaatcttaaattttgtttcaat\u0027, \u0027taataaagacagttaataataa\u0027, \u0027taataaagatcgaaaagcaggtgcattaaataccttttatcgtttgatgtttggtgataatactaaagattcattagaagcttgtatatt\u0027, \u0027taataataaa\u0027, \u0027taataataaa\u0027, \u0027aataataaaga\u0027, \u0027aataataaaat\u0027, \u0027taataaaatcgaagcttttctagctatggacgctgatgttattcttgccagagattgtttgtcaactatgtataaagagctaaaaagtac\u0027, \u0027taataaaatgaatattttgtatcaaata\u0027, \u0027aaaaagtacttacggtgttgcttcgattagtgcaaacgttcagtgtttgctaccggaaaacgtta\u0027, \u0027aaaaagtaccgcttaacgttcccgatcgagagtatttaattaaacatggtaaatatggaaatgctttcgcacgttggattactgttttacaaaatgtttcttttgccagttggtcattaaagcaaaaa\u0027, \u0027tatcaaatagtacagatacggaagatgaaaagttaacgaagaccttagacgcttaggttggacttgtaaaatatcaaa\u0027, \u0027tatcaaataatgcccgtacttatgcggatagtatgaaaacaatgagttcatggtatcgacaggctaaaaaatggcattctgggcttgtgcagcaacaactagaatcaggaatttctacagcct\u0027, \u0027atatcaaata\u0027, \u0027ctacagcctattcacgagttttgtggggaaggcaatttatat\u0027, \u0027ctacagccttttgagctgctgatactgcatcagattgagcttttgtagttgcggcc\u0027, \u0027atttatttat\u0027, \u0027atttatttat\u0027, \u0027atttatttat\u0027, \u0027tttatttatt\u0027, \u0027tttatttatt\u0027, \u0027tttatttatt\u0027, \u0027tatttattta\u0027, \u0027tatttattta\u0027, \u0027tatttatttcgtgcgggtgcagctgattgaacagcggctaaactagcttgtgcttcaactacagcct\u0027]\n"
          ],
          "output_type": "stream"
        }
      ],
      "source": "#create contigs from regular reads\ncs \u003d get_cotings(kmers)\nsorted(cs)\n"
    }
  ],
  "metadata": {
    "kernelspec": {
      "name": "pycharm-536c4646",
      "language": "python",
      "display_name": "PyCharm (GenomeAssembly-Part 2.ipynb)"
    },
    "language_info": {
      "codemirror_mode": {
        "name": "ipython",
        "version": 3
      },
      "file_extension": ".py",
      "mimetype": "text/x-python",
      "name": "python",
      "nbconvert_exporter": "python",
      "pygments_lexer": "ipython3",
      "version": "3.6.4"
    }
  },
  "nbformat": 4,
  "nbformat_minor": 2
}