{
  "cells": [
    {
      "cell_type": "markdown",
      "metadata": {
        "pycharm": {}
      },
      "source": "# Practical Session - Motifs - Part 2\n\nThis practical session is based on what you have learned during the [practical session](https://www.cs.bgu.ac.il/~tabio192/Practical_Sessions) regarding Motifs - part 2.\n\nIn this practical session you will:\n- Find oriC in *E. coli*\n- Find potential DnaA boxes in *E. coli* that underwent mutations\n\n\n#### How exciting! Let\u0027s start!\n\n\u003eStudents names: Lev Gourevitch"
    },
    {
      "cell_type": "markdown",
      "metadata": {
        "pycharm": {}
      },
      "source": [
        "## 1. Finding the location of oriC in a genome"
      ]
    },
    {
      "cell_type": "markdown",
      "metadata": {
        "pycharm": {}
      },
      "source": "In the previous part, the oriC was given. But if it is not given, we have to find it ourselves by using a technique we learned in the practical session.\n\nLet\u0027s locate the approximate location of oriC inside a genome, by using the **Skew** diagram.\nSince we don\u0027t know the location of oriC in a circular genome, let\u0027s linearize it (i.e., select an arbitrary position and pretend that the genome begins here), resulting in a linear string Genome. \n\nWe define $Skew_i(Genome)$ as the difference between the total number of occurrences of G and the total number of occurrences of C (#G-#C) in the first $i$ nucleotides of Genome. The skew diagram is defined by plotting $Skew_i(Genome)$ (as *i* ranges from 0 to |Genome|), where $Skew_0(Genome)\u003d0$.\n\n**For example:**\n$Skew_5(ACAGGTTT)\u003d-1$\n\n### 1.1. Create a skew diagram\n- Input: A DNA string **Genome**.\n- Output: All values of $Skew_i(Genome)$ among all values of i (from 0 to |Genome|).\n\n**Sample Input:**   \n\u0027TAAAGACTGCCGAGAGGCCAACACGAGTGCTA\u0027\n\n**Sample Output:**   \n[0, 0, 0, 0, 0, 1, 1, 0, 0, 1, 0, -1, 0, 0, 1, 1, 2, 3, 2, 1, 1, 1, 0, 0, -1, 0, 0, 1, 1, 2, 1, 1, 1]\n"
    },
    {
      "cell_type": "code",
      "execution_count": 82,
      "metadata": {
        "pycharm": {
          "is_executing": false
        }
      },
      "outputs": [],
      "source": "def skew_diagram(genome: str):\n    l \u003d [0]\n    cur \u003d 0\n    \n    for c in genome:\n        if c \u003d\u003d \u0027G\u0027:\n            cur +\u003d 1  \n        elif c \u003d\u003d \u0027C\u0027:\n            cur -\u003d 1\n            \n        l.append(cur)\n    \n    return l\n        "
    },
    {
      "cell_type": "markdown",
      "metadata": {
        "pycharm": {}
      },
      "source": [
        "Test your code"
      ]
    },
    {
      "cell_type": "code",
      "execution_count": 83,
      "metadata": {
        "pycharm": {
          "is_executing": false
        }
      },
      "outputs": [],
      "source": "genome \u003d \u0027TAAAGACTGCCGAGAGGCCAACACGAGTGCTA\u0027\nd \u003d skew_diagram(genome)\nassert d \u003d\u003d [0, 0, 0, 0, 0, 1, 1, 0, 0, 1, 0, -1, 0, 0, 1, 1, 2, 3, 2, 1, 1, 1, 0, 0, -1, 0, 0, 1, 1, 2, 1, 1, 1]"
    },
    {
      "cell_type": "markdown",
      "metadata": {
        "pycharm": {}
      },
      "source": [
        "This function plots the skew diagram you created"
      ]
    },
    {
      "cell_type": "code",
      "execution_count": 84,
      "metadata": {
        "pycharm": {
          "is_executing": false
        }
      },
      "outputs": [],
      "source": [
        "%matplotlib inline \n",
        "import matplotlib.pyplot as plt\n",
        "\n",
        "def plot_skew_diagram(skew_vals):\n",
        "    plt.title(\u0027Skew Diagram\u0027)\n",
        "    plt.xlabel(\u0027Position\u0027)\n",
        "    plt.ylabel(\u0027Skew\u0027)\n",
        "    plt.plot(skew_vals)"
      ]
    },
    {
      "cell_type": "code",
      "execution_count": 85,
      "metadata": {
        "pycharm": {
          "is_executing": false
        }
      },
      "outputs": [
        {
          "data": {
            "text/plain": "\u003cFigure size 432x288 with 1 Axes\u003e",
            "image/png": "[encoded data removed]"
          },
          "metadata": {
            "needs_background": "light"
          },
          "output_type": "display_data"
        }
      ],
      "source": "genome \u003d \u0027TAAAGACTGCCGAGAGGCCAACACGAGTGCTA\u0027\nskew_vals \u003d skew_diagram(genome)\nplot_skew_diagram(skew_vals)"
    },
    {
      "cell_type": "markdown",
      "metadata": {
        "pycharm": {}
      },
      "source": [
        "In the practical session, we saw that the skew is decreasing along the reverse half-strand and increasing along the forward half-strand. Thus, the skew should achieve a minimum at the position where the reverse half-strand ends and the forward half-strand begins, which is exactly the location of oriC!\n",
        "\n",
        "### 1.2. Minimum Skew Problem: Find a position in a genome where the skew diagram attains a minimum.\n",
        "- Input: All values of $Skew_i(Genome)$ among all values of i (from 0 to |Genome|)\n",
        "- Output: All integer(s) i minimizing $Skew_i(Genome)$ among all values of i (from 0 to |Genome|).\n",
        "\n",
        "**Sample Input:**   \n",
        "[0, 0, 0, 0, 0, 1, 1, 0, 0, 1, 0, -1, 0, 0, 1, 1, 2, 3, 2, 1, 1, 1, 0, 0, -1, 0, 0, 1, 1, 2, 1, 1, 1]\n",
        "\n",
        "**Sample Output:**   \n",
        "[11, 24]"
      ]
    },
    {
      "cell_type": "code",
      "execution_count": 86,
      "metadata": {
        "pycharm": {
          "is_executing": false
        }
      },
      "outputs": [],
      "source": "def minimum_skew(skew_vals):\n    skew_min \u003d min(skew_vals)\n    return [i for i, val in enumerate(skew_vals) if val \u003d\u003d skew_min]\n    "
    },
    {
      "cell_type": "markdown",
      "metadata": {
        "pycharm": {}
      },
      "source": [
        "Test your code"
      ]
    },
    {
      "cell_type": "code",
      "execution_count": 87,
      "metadata": {
        "pycharm": {
          "is_executing": false
        }
      },
      "outputs": [],
      "source": "genome \u003d \u0027TAAAGACTGCCGAGAGGCCAACACGAGTGCTA\u0027\nskew_vals \u003d skew_diagram(genome)\n\nassert minimum_skew(skew_vals) \u003d\u003d [11, 24]\n"
    },
    {
      "cell_type": "markdown",
      "metadata": {
        "pycharm": {}
      },
      "source": "### 1.3 Skew diagram of E. coli\n"
    },
    {
      "cell_type": "code",
      "execution_count": 88,
      "metadata": {
        "scrolled": true,
        "pycharm": {
          "is_executing": false
        }
      },
      "outputs": [
        {
          "name": "stdout",
          "text": [
            "4639675\n"
          ],
          "output_type": "stream"
        },
        {
          "data": {
            "text/plain": "\u003cFigure size 432x288 with 1 Axes\u003e",
            "image/png": "iVBORw0KGgoAAAANSUhEUgAAAZ0AAAEWCAYAAAC9qEq5AAAABHNCSVQICAgIfAhkiAAAAAlwSFlzAAALEgAACxIB0t1+/AAAADl0RVh0U29mdHdhcmUAbWF0cGxvdGxpYiB2ZXJzaW9uIDMuMC4zLCBodHRwOi8vbWF0cGxvdGxpYi5vcmcvnQurowAAIABJREFUeJzt3Xl8VdW5//HPlxlUBhEVAQ0oDjihRsQ6VBRlai/aasW2Sq0ttw73V21vbXAWHFBbbW2tikOLt47XoXJFQcQBrQoGRUARiYACokaQSZQpz++PvXKyE5KQQM7ZJ+c879frvFh77b3Pfs7R5Mlae+21ZGY455xzmdAk6QCcc87lD086zjnnMsaTjnPOuYzxpOOccy5jPOk455zLGE86zjnnMsaTjnO1kPQzSa8lHUdVktZK6pF0HM7Vlycdl/ckHSvpdUmrJK2Q9G9JRyYUywmSykJSWStpiaTHqsZjZjua2YIkYnRue3jScXlNUlvgGeAvwM5AF+BaYH2CYX1qZjsCOwF9gQ+AVyWdlO4LS2qW7mu4/OZJx+W7fQHM7GEz22xm35jZ82Y2q7qDJd0i6TVJ7cL2zyXNlfSVpEmS9gr110r6Syg3l/S1pFvCdmtJ30raubbALLLEzK4C7gVuisVhkvYJ5SGS3pG0WtJiSddUifkcSR9LWi7pSkmLJPUP+66R9Likf0paDfxMUh9Jb0haKWmZpL9KalHl2hdImi9pjaTRkvYOrcXVoWXWAueq4UnH5bsPgc2SxkkaJKlDdQdJaiLpHuAQ4BQzWyVpKHAZ8AOgE/Aq8HA45RXghFA+EvgMOD5sHw3MM7MV9YjzSeBwSTtUs+9r4BygPTAEOF/SqSHuXsDfgJ8AnYF2RK25uKHA4+H8B4HNwCXALiHWk4ALqpwzADiCqCV2KTAW+CnQDTgIOKsen83lEU86Lq+Z2WrgWMCAe4BSSeMl7RY7rDlRMtkZ+L6ZrQv1vwJuNLO5ZrYJuAHoHVo7bwA9JXUkSjb3AV0k7Qh8lygp1cengIgSQ9XP8LKZzTazstBCezhcA+B04P/M7DUz2wBcFT5r3Btm9q9w/jdmNsPM3jSzTWa2CLg79n7lbjaz1Wb2HjAHeN7MFpjZKuA54LB6fj6XJzzpuLwXksbPzKwr0V/pewB/ih2yD1Fr4Nrwi7vcXsCfQzfUSmAFUWLoYmbfAMVEv6yPJ0oyrwPHsG1JpwtRslhZdYekoyS9JKlU0iqiZLhL2L0HsDj2WdcBy6u8xeL4hqR9JT0j6bPQ5XZD7P3KfR4rf1PN9o51/mQur3jScS7GzD4A/kGUfMrNBc4FnpO0X6x+MfCfZtY+9mptZq+H/a8AJxL91f9W2B4A9AGm1jO004C3zezravY9BIwHuplZO+AuouQHsAzoWn6gpNZAxyrnV2353Ek0eKGnmbUl6kIUzjUATzour0naX9JvJXUN292I7ke8GT/OzB4m+uX7gqS9Q/VdwEhJB4Zz20k6I3baK0T3Wt4PLaSXgV8AC82stA6xSVIXSVeH8y6r4dCdgBVm9q2kPsCPY/seB74v6Tvh5v41bD2B7ASsBtZK2h84f2uxOldXnnRcvlsDHAVMk/Q1UbKZA/y26oFmNg4YBbwoqcDMniIaUfZI6IaaAwyKnfI60JqKVs37wLdsvZWzh6S1wFqiFtLBwAlm9nwNx18AjJK0huiezWOxmN8D/gt4hKjVsxb4gtqHhP83UeJaQ3Sf69GtxOtcnckXcXMuf4SBDCuJus4WJh2Pyz/e0nEux0n6vqQ2Ybj1H4DZwKJko3L5ypOOc7lvKNGQ60+BnsAw8y4OlxDvXnPOOZcx3tJxzjmXMT65XxW77LKLFRQUJB2Gc841KjNmzPjSzDpt7ThPOlUUFBRQXFycdBjOOdeoSPq4Lsd595pzzrmM8aTjnHMuYzzpOOecyxhPOs455zLGk45zzrmM8aTjnHMuYzzpOOecy5jEko6kbmG1w/clvSfp16H+GklLJc0Mr8Gxc0ZKKpE0T9KAWP3AUFciqShW313StFD/aFhPxOWRp2cu5fYp85MOwzkXJDb3mqTOQGcze1vSTsAM4FTgR8BaM/tDleN7Ea393odoCd4XgH3D7g+Bk4ElROuPnGVm70t6DHjSzB6RdBfwrpndWVtchYWF5g+H5oaCoglb1M2/fhDNm3oD37mGJmmGmRVu7bjEfvrMbJmZvR3Ka4iWBO5SyylDgUfMbH1YB6SEKAH1AUrMbEFYnfERYKgkES0V/Hg4fxxRUnN5YPna6tco63n5cxmOxDkXlxV/8kkqIFpHflqoukjSLEn3S+oQ6roQrUlfbkmoq6m+I7DSzDZVqa/u+iMkFUsqLi3d6irCLstt3FzGEde9kNpeeONg5o4amNq++5WPkgjLOUcWJJ2wkuETwMVmthq4E9gb6E20vO4f0x2DmY01s0IzK+zUaavz1bksd/SNL6bKr17aD0m0btE0VXfjcx8kEZZzjoSTjqTmRAnnQTN7EsDMPjezzWZWRrQ+e59w+FKgW+z0rqGupvrlQHtJzarUuxx26h3/5svQtfboiL5027lNtcdVd7/HOZd+SY5eE3AfMNfMbo3Vd44ddhowJ5THA8MktZTUnWgFxOlEAwd6hpFqLYBhwPiwMuJLwOnh/OHA0+n8TC5ZZsbMxStT20f16Fhp/4IbBvPnYb0zHZZzLibJls4xwNnAiVWGR98sabakWUA/4BIAM3sPeAx4H5gIXBhaRJuAi4BJRIMRHgvHAvwe+I2kEqJ7PPdl8PO5DDv7vump8qIxQ7bY36SJGNq7Cy3C6LXx736asdiccxFfrroKHzLdeJV3mU28+Dj2371tjcct+vJrTvjDy1G5muTknKu/rB8y7VxDiv/xVFvCASjYZYeKctEEysr8Dy/nMsWTjssJe1/27Daf22M7znXO1Y8nHZcTyhsrz/36uDod/9ENgytt+2g25zLDk45r9EY8UHEP7oDOtXetlWvaRCwaM4Q7f3J4qu6haZ/w7cbNDR6fc66CJx3XqJWuWc/z73++zecPOrhihP5lT81m/ysneqvHuTTypOMatSOvr5juJj7VTX18eN2gLep+cu+b2xyTc65mnnRco7V2/aZUec61AypNdVMfLZo1YdGYIZWGT/+7ZPl2x+ec25InHdfolJUZBUUTOOjqSQD03HVHdmzZbCtn1U088axat7FB3tM5V8GTjmt0qg5x/lMDT21z/gl7A3DoqOcpKJrAxs1lDfr+zuUzTzqu0frdgP0Y2nsPDtyjXYO+76UD9qu07WvwONdwGqZPwrkMWbbqm1T5wn77pOUakji6R0feWOD3dZxraN7ScY3CxDnLKCiakFor55fHdU/r9R4e0bfS/R0fRu1cw/Ck4xqFX/3z7Urblw/plZHrPjqib6q8dOU3tRzpnKsLTzouq5kZY6qs9DnzqpMzdv2jenTk7rOPAOCYMS9WGqbtnKs/v6fjslr3kRUj1W4781BOO6xrxmPof8BuqfJBV09i7qiB2/xMkHP5zls6LmtVvY+SRMKBaJ62w/Zsn9o+4KqJicThXC5IcrnqbpJekvS+pPck/TrU7yxpsqT54d8OoV6SbpdUImmWpMNj7zU8HD9f0vBY/RFhFdKScK4y/0ndttiwqeLZmKm/60fJ9VtOVZNJT11wDG+MPDHRGJzLBUm2dDYBvzWzXkBf4EJJvYAiYIqZ9QSmhG2AQUDP8BoB3AlRkgKuBo4C+gBXlyeqcMwvY+dt2+RcLmPWfLuRq5+ew75XVDwbs2fHNjRrmnyjvHO71qlyQdEEXv/oywSjca5xSuwn2cyWmdnbobwGmAt0AYYC48Jh44BTQ3ko8IBF3gTaS+oMDAAmm9kKM/sKmAwMDPvamtmbFi0r+UDsvVwWmvphKQdf8zzj3vg4VffB6Oz6O2H0qQelyj++Z5oPpXaunpL/8xGQVAAcBkwDdjOzZWHXZ0D5XdwuwOLYaUtCXW31S6qpd1loQelazrl/eqW6OdcOoFXz7Lphf3bfvVh4oy8A59y2SjzpSNoReAK42MxWx/eFFkraF7CXNEJSsaTi0tLSdF/OVePEP76SKpfP+NxQk3g2NEm8dXn/SnUFRRNY/a1PEOrc1iSadCQ1J0o4D5rZk6H689A1Rvj3i1C/FOgWO71rqKutvms19Vsws7FmVmhmhZ06ddq+D+Xq7al3KhqkVZeRzladdmpZacYCgEOueZ6ysrT/jeRco5bk6DUB9wFzzezW2K7xQPkItOHA07H6c8Iotr7AqtANNwk4RVKHMIDgFGBS2LdaUt9wrXNi7+WywFdfb6CgaAKXPPouAKOHHkjTJo1rgOGiMUN4JDZrQXwAhHNuS0m2dI4BzgZOlDQzvAYDY4CTJc0H+odtgGeBBUAJcA9wAYCZrQBGA2+F16hQRzjm3nDOR4D/RsgSm8uMw0ZPrlR39tEFyQSznfr26Mirl/YDYJO3dJyrVWKd5mb2GlDTn7UnVXO8ARfW8F73A/dXU18MHLTlGS5pe8fWxHnnypPpsEOLBKPZft12bpMqf776W3Zr2yrBaJzLXokPJHD57bXf92v0CafccT13AeCoG6YkHIlz2cuTjsu4kU/OSpW7dmhTy5GNywM/75MqT37/8wQjcS57edJxGfVR6Voenh49VnVBWBY6V0hit7YtAfjlA8Ws2+AzUjtXlScdlzET53zGSbHncS4duH+C0aTHtMsqnt/pddUkf3DUuSo86biMMDN+9c8Zqe2qz7jkknOPKai0fcZdrycTiHNZyJOOS7tV6zZWWhcnlxMOwNXfP5Anzv8OfzjjUADeWvSVt3icCzzpuLS68+WPOHTU86ntbJvAM12O2KsDpx9Ref2fxSvWJRSNc9nDk45LiydmLKGgaAI3TaxYavrq7/fKugk8023RmCH85azDADju5pcoXbM+4YicS5YnHdfglny1jt/+77tb1J97TPcEoknegAN3T5WPvP4Flq78JsFonEuWJx3X4I696aVUeb/dduKD0QNz/j5ObVo0q/xjdsyYF4km2HAu/3jScQ3qkemfpMoLbxzMpEuOz7suteosGjOEob33SG3fPqUkwWicS44nHddgCoomUPTkbCC6fxNN7u3K/XnYYdxw2sEA3PbChwlH41wyPOm4BnHFv2ZX2s7X+zdb8+Oj9kyVv1jzbYKROJcMTzquQfzzzYputW47t04wkuxXuFcHAPpcP4XFK9bxzidfJRyRc5mTnesBu0Zl+dqKYcD5PGCgrh76Zd/UYm/H3RwNurj59EP4UWG32k5zLid4S8dttyOuewGAnVr63zB10aJZE845eq9KdZc+Psuf4XF5wZOO2y63Tq64IT7rmlMSjKRxGTX0IBaNGcJ71w5I1R15/QsJRuRcZiSadCTdL+kLSXNidddIWlplCevyfSMllUiaJ2lArH5gqCuRVBSr7y5pWqh/VFJurBaWJb7duJnbp8wH4PLBB/hotW2wQ8tmzLuuYmqggqIJrFy3IcGInEuvpFs6/wCqm4zrNjPrHV7PAkjqBQwDDgzn/E1SU0lNgTuAQUAv4KxwLMBN4b32Ab4Czkvrp8kz+185MVX+5fE9EoykcWvZrPJzTMeMeTGhSJxLv0STjplNBVbU8fChwCNmtt7MFgIlQJ/wKjGzBWa2AXgEGKroz+4TgcfD+eOAUxv0A+SpbzZsrjRr8oO/OCrBaHLDojFDUt2TX1f5fp3LJUm3dGpykaRZofutQ6jrAiyOHbMk1NVU3xFYaWabqtRvQdIIScWSiktLSxvyc+ScTZvLOOCqihbO1d/vxTH77JJgRLmjbavmlbbfXbwyoUicS59sTDp3AnsDvYFlwB/TfUEzG2tmhWZW2KlTp3RfrlHb5/LnKm3HH3Z02y8+GGPoHf9OMBLn0iPrko6ZfW5mm82sDLiHqPsMYCkQf5Cha6irqX450F5Ssyr1bhu9XeUhxkVjhmxxP8Jtn7atmld61slbOy7XZF3SkdQ5tnkaUD6ybTwwTFJLSd2BnsB04C2gZxip1oJosMF4i6bxfQk4PZw/HHg6E58hV/3gb9Gyy7u1bekPgabZpQP3A6LWjt/fcbkk6SHTDwNvAPtJWiLpPOBmSbMlzQL6AZcAmNl7wGPA+8BE4MLQItoEXARMAuYCj4VjAX4P/EZSCdE9nvsy+PFyyn2vLUyVX/v9iQlGkh+GHVm527KszJdCcLlBvq5HZYWFhVZcXJx0GFnDzBj1zPv8/d+LUnXeysmcAbdNZd7nazhwj7ZM+H/HJR2OczWSNMPMCrd2XNZ1r7nsYWZ0H/msJ5wEjRp6IADvfbo64UicaxiedFyNuo98ttK2J5zMO6pHx1TZeyVcLvCk46oVv3l9108P54PR1U0c4TKp6h8BzjVGnnTcFo4P0+0DPPDzPgw8qLMvOZ2gSRcfnyr7SDbX2HnScVv4ZMU6AP7rxH04fl9/WDZp++2+U6XtbzZsTigS57afJx1XydxlFTesf3vKfglG4uLi99Pi0xA519h40nEpZsagP78KQOd2rRKOxlU1d5TfV3ONnyedPPXpym9Yuz6aC/Xj5V/zwvufV7pR/cbIk5IKzdWgdYuK+2rXT3g/wUic23a+vnAeKl60gtPveqPG/R/dMLjGfS5Zj4zoy7Cxb3LPqwvZsKmMa4celHRIztWLt3TyjJnVmnAAmjbxFUCzVd/Yczvj3vg4wUic2zaedPJMvAvt3GMKGHjg7ky8uGJ6lXeuPDmJsFw9xO/t/GLcWwlG4lz9efdaHpm1pGKa/MmXHE/P3SqG4i68cTBl5q2cxqB1i6b84YxD+e//fZcX5n7Bug2baNPCf5Rd4+AtnTzyH3+NFgXrscsOlRIOgCRPOI3I6Ud0TZV7XTUpwUicqx9POnki/iT7+P86NsFIXEMpuX5Qqrxpc1mCkThXd5508sDSld+kygUd27BjS++KyQXNmjbhgM5tgS2XEXcuW3nSyXGfLF/HMWNeBODQbu15+Xf9Eo7INaQnz/9OqhyfM8+5bJX0yqH3S/pC0pxY3c6SJkuaH/7tEOol6XZJJZJmSTo8ds7wcPx8ScNj9UeEVUhLwrl5d9Oi/22vpMpP/OroBCNx6dC6RVMm/L+ou/STFevY6N1sLssl3dL5B1B1bo8iYIqZ9QSmhG2AQUDP8BoB3AlRkgKuBo4C+gBXlyeqcMwvY+fl1Twim8uMDZuiX0If3TCYZk2T/s/t0uHAPdqlyj29m81luUR/C5nZVGBFleqhwLhQHgecGqt/wCJvAu0ldQYGAJPNbIWZfQVMBgaGfW3N7E2LVr96IPZeOW9zmbH3ZdEzObu3beUj03LcsCO7pcoFRRO499UFCUbjXM2y8U/f3cxsWSh/BuwWyl2AxbHjloS62uqXVFO/BUkjJBVLKi4tLd3+T5AFyhMOwAPn9UkwEpcJY354CEMO7pzavm7CXBZ9+XWCETlXvWxMOimhhZL2NXrNbKyZFZpZYadOjX/9mLKyiq/sph8ezL5VnslxuemOnxxeafuEP7zMtxt97R2XXbIx6XweusYI/34R6pcC3WLHdQ11tdV3raY+5/3u8Vmp8plH7plgJC7TFo0ZUmntnf2v9LV3XHbJxqQzHigfgTYceDpWf04YxdYXWBW64SYBp0jqEAYQnAJMCvtWS+obRq2dE3uvnPbE21Gv4jP+EGjemnddxZiZG5+bm2AkzlWW9JDph4E3gP0kLZF0HjAGOFnSfKB/2AZ4FlgAlAD3ABcAmNkKYDTwVniNCnWEY+4N53wE5PzQnqhHMnJQl3a1HOlyWctmTfn7uUcCcPcrC7jjpZKEI3IuovgvKQeFhYVWXFycdBj1UlZmXP6vOTw8/ZNK9fFuFpef4tMfAcy+5hR2atU8oWhcLpM0w8wKt3ZcNnavuXq65v/e2yLhXD74gISicdnkg9GVH007+JrnE4rEuYgnnRzwQDWLeZ17TEHmA3FZp1XzprzyuxMq1Z1wi0+X45LjMz82clPmfp4qe3eaq85eHXfg5f8+gRP+8DIAi5avS3W7/f3cI+m3364JRufyjbd0GrGCogmcNy66/3TS/v6Lw9WsYJcdmHzJ8VvUn/t3X3nUZZYnnUbq1ufnVdq+++wjEorENRY9d9uJRWOG0ETQ/4DdUvVfr9+UYFQu39Qp6Uh6TdL1kgZK8sfbs8DtL1YMgZXwyTxdnS24cQj3Di/kP4/vAcCBV/vKoy5z6vqb6mxgHvBD4PUwT9lt6QvL1SY+DHbRmCEsvNHv5bj6Kxq0f6rsrR2XKXVKOma2kGj25inAVKAN4GNyE/CbR2emyvvv7o1Ot+3iy0t5a8dlSl271z4C/kU04/N9wEFmlldr02SD10u+5Ml3ounjjuu5CxMv3vLGsHP1MfOqk1Plp2fmxdSELmF17V67HfgEOAv4f8BwSXunLSpXrR/fOy1V/p/zjkowEpcr2rdpkSr/+pGZtRzpXMOoa/fan83sDKK50GYA1wAfpjEuV0X8Ps7CGwcnGInLNfH/ny59/N0EI3H5oK7da3+UNA2YBhwCXEW0/LPLgKrzZ8X74p3bXvH/nx4rXsIny9clGI3LdXXtXnsD+A8zO9DMfmlm48zM18PNgLPvm1Zpu+pcWs41hPhsFsff8hIr121IMBqXy+qadJ4kWm7gSgBJe0ryNZDTbNJ7n/Hq/C8BuPY/DmTRmCG0at404ahcroonnt6jJicYictldZ177Q6gDDiRaO2aNcATwJFpiitvfbz8a757y8tb1A//TkHGY3H5Z/rlJ9Hn+ilJh+FyWF1bOkeZ2YXAtwBm9hXQovZTXH2VlVm1CWfBDT5wwGXGrju1SpVL16xPMBKXq+qadDZKagoYgKRORC2ftJG0SNJsSTMlFYe6nSVNljQ//Nsh1EvS7ZJKJM2SdHjsfYaH4+dLGl7T9ZK03xXPUVA0gR6XPbvFvuIr+tOkiQ8ccJlz/L6dADjy+hcSjsTlorp2r90OPAXsKul64HTgyrRFVaGfmX0Z2y4CppjZGElFYfv3wCCi0XQ9gaOAO4GjJO0MXA0UEiXMGZLGh5Za1li/qXL+nn7ZSezatlUNRzuXXv/42ZGpP4DMzEdLugZV1+d0HgQuBW4ElgGnmtlj6QysBkOBcaE8Djg1Vv+ARd4E2kvqDAwAJpvZipBoJgNZNfzrzy/MT5UP7dqOqb/r5wnHJSresu4+8ln63/pKgtG4XFPX53TOM7MPzOwOM/urmc2VNCbNsRnwvKQZkkaEut3MbFkof0Y0LQ9AF2Bx7Nwloa6m+kokjQiTmBaXlpY25GfYqtteqHjG9umLjmXPjm0yen3nqvPmyJNS5ZIv1jLpvc8SjMblkrre0/mhpJ+Ub0i6A+iUnpBSjjWzw4m6zi6UVGmiMTMzwj2m7WVmY82s0MwKO3VK98eq8O3GzamyDxZw2WT3dq249UeHprb/839mUFA0gaufnpNgVC4X1DnpAD+TdJakccAmMzsvjXFhZkvDv18Q3U/qA3weus0I/34RDl8KdIud3jXU1VSfFUY/836q7IMFXLb5weFd+ajKH0Pj3vg4oWhcrqg16YTRYjsDrYFfEN20XwNcG+rTQtIO5YvFSdoBOAWYA4wHykegDQeeDuXxwDlhFFtfYFXohpsEnCKpQxjpdkqoywoPTvsE8FkGXPZqWs0fQ1WnZXKuPrY2em0GUReWYv8ODi+AHmmKazfgqTBqphnwkJlNlPQW8Jik84CPgR+F458NMZUA64BzAcxshaTRQPlC8KPMbEWaYq6XZ2Z9mir7LAMum5XPVDBh1jIufOhtIEo8/Q/YlXuH+/Phrn62lnTOBBaX37wPz7n8EFhENNN0WoR53Q6tpn45cFI19QZcWMN73Q/c39Axbo+yMuOih95JOgzn6mXIIZ258KGK7RfmfsH0hSvo0z1tnR4uB23tns5dwHqAcCP/RqKhyquAsekNLXc9VlwxoC4+35Vz2a7q/68/uvuNhCJxjdXWWjpNY91RZwJjzewJ4AlJvuLTNpizdBVFT84G4K6fHr6Vo53LPovGDMHM6D4yeoB04+Yymjet65gkl++29n9KU0nliekk4MXYvrrOZuBivveX11LlgQd1TjAS57adJIb23gOAnpc/l3A0rjHZWtJ5GHhF0tPAN8CrAJL2Iepic/Vwwi0vpcp/OrN3gpE4t/1+P3D/VNlHtLm6qrW1YmbXS5oCdAaeDzfsIUpW/5Xu4HLNorAio8+t5nLBHu1bc2ZhNx4N9yhXrdtIuzbNE47KZbutdsSa2Ztm9pSZfR2r+9DM3k5vaLkl/pegJxyXK246/ZBU+dBRzycYiWss/O5fBox8claqfMWQAxKMxLmGF5+1YNW6jQlG4hoDTzoZ8PD0qPvh2H124RfHpet5WueSEZ+14NBRz7N+0+Zajnb5zpNOBv3zF0clHYJzaRGfsHa/KyYmGInLdp500qxi7IVzuatJE/GvC49JOgzXCHjSSbO3P1kJ4FOFuJzXu1v7VPnCB32ckaueJ500++GdrwNw/gl7JxyJc+n31x8fBsCE2csoK/NWvtuSJ500KV2zvtIw6X777ZpgNM5lxvcO2SNV9nnZXHU86aTBNxs2c+T1LyQdhnOJmHddtD5U8cdfsdlbO64KTzoNbOW6DRxwVeXROz6TtMsnLZtVrA+192XPJhiJy0aedBpY71GTU+WZV53sCcflpQ+vG5QqFxRN4NOV3yQYjcsmOZ90JA2UNE9SiaSidF5ryVfrKm23b9MinZdzLmu1aNaEM47omtr+zpgX2bS5LMGIXLbI6aQjqSlwBzAI6AWcJalXOq61YVMZx95UMYu0t3BcvrvljMqL/+7jSyA4cjzpAH2AEjNbYGYbgEeAoem40NipH6XKC28cXMuRzuWPRWOGMPuaU1Lbd778US1Hu3yQ60mnC7A4tr0k1FUiaYSkYknFpaWl23ShfXbdkeZNxQejByJp6yc4lyd2atWcc48pAOCmiR9w76sLkg3IJSrXk06dmNlYMys0s8JOnTpt03sMPKgz80YPolXzpls/2Lk8c/X3D0yVr5swN8FIXNJyPeksBbrFtruGurRo0sRbOM7VJH6fs6Bogg8syFO5nnTeAnpK6i7d/lgnAAATcElEQVSpBTAMGJ9wTM7lrYKObVJlH1iQn3I66ZjZJuAiYBIwF3jMzN5LNirn8tfLv+vHr75bMQ/hV19vSDAal4ScTjoAZvasme1rZnub2fVJx+NcvisatD89dtkBgMNGT97K0S7X5HzScc5ln8m/+W6qvNHv7eQVTzrOuYxr2kSUP1nQ0+/t5BVPOs65RMSXuI4vA+Jymycd51wiJPHjo/ZMbQ+/f3qC0bhM8aTjnEvMDacdzE4tmwHwyoelvPLhts0I4hoPTzrOuUTNvnZAqjz8/une1ZbjPOk45xLns7Ina8OmMgqKJjBxzrK0X8uTjnMuK1SdJmfj5jLmLludYET5Y98rohGEv/rn22m/licd51zWGH3qQalyz8ufY9CfX+WSR2cmGFHuKyuzVPnNkSel/XqedJxzWePsvntxxZADKtU99U7a5uh1QI/Lnk2Vd2/XKu3X86TjnMsqvziuB69e2o9/F52YqvM1eNIjPmjjjZEn1nJkw/Gk45zLOt12bkOX9q35+8+OBKI1eAqKJrB+0+aEI8sd8z5bkyoP7b0Hndu1zsh1Pek457JWv/13rbS93xUTE4okt9z/2kIG/GkqAKf23oM/DzssY9f2pOOcy2rvXnUKZxzRNbW9YZNPELotzIw1326koGgCo555P1V/25m9MxpHs4xezTnn6qldm+bccsahfLFmPa98WMrw+6fz8Ii+SYfVKHzw2Wr+XbKc0bEkE5fE81GedJxzjcJffnwYh1zzPG8sWJ50KI3C4hXrGPinV6vd98HogbRq3jTDEUWyrntN0jWSlkqaGV6DY/tGSiqRNE/SgFj9wFBXIqkoVt9d0rRQ/2hYsto51wi1bdU8VX56pg+jrs0Hn63muJtfqlS3d6do4bwHft4nsYQDWZh0gtvMrHd4PQsgqRcwDDgQGAj8TVJTSU2BO4BBQC/grHAswE3hvfYBvgLOy/QHcc41nB8c1gWAXz/iD4zWJt7CuajfPgw6aHem/PYEFo0ZwvH7dkowsuxNOtUZCjxiZuvNbCFQAvQJrxIzW2BmG4BHgKGSBJwIPB7OHwecmkDczrkG8scfHZoq3/Ds3AQjaRzmXz+I/x6wH3f+9IikQ0nJ1qRzkaRZku6X1CHUdQEWx45ZEupqqu8IrDSzTVXqtyBphKRiScWlpT61unPZSuXLjQJjpy7g2dnpn6CysYk/8Nm8afb9ik8kIkkvSJpTzWsocCewN9AbWAb8Md3xmNlYMys0s8JOnZJtejrnavfOlSenyhc8+LYvhRDz/b+8lioXX9E/wUhqlkjSMbP+ZnZQNa+nzexzM9tsZmXAPUTdZwBLgW6xt+ka6mqqXw60l9SsSr1zrhHrsEML7vrp4ZXqzhr7ZkLRZA8zY/bSVQBM+e132WXHlglHVL2sa3tJ6hzbPA2YE8rjgWGSWkrqDvQEpgNvAT3DSLUWRIMNxpuZAS8Bp4fzhwNPZ+IzOOfSa+BBnVk0ZgjH9dwFgDcWLKegaEJqiv589K/YiL69O+2YYCS1y7qkA9wsabakWUA/4BIAM3sPeAx4H5gIXBhaRJuAi4BJwFzgsXAswO+B30gqIbrHc19mP4pzLp3+57yjKm3n82wFlzz6LhC1crJZ1j0camZn17LveuD6auqfBZ6tpn4BFd1zzrk8MPXD0sSHBWda1LETyeZWDmRnS8c55+pswQ2Duf9nhantc+6fnmA0mffOJ1/RfeQWf3NnLU86zrlGrUkTceL+u/HetalJSihdsz7BiDKj5Iu1FBRN4LS/vZ6qm/q7fglGVDeedJxzOWGHls1o0yKa3uXI619IOJr0+nbjZvrf+kqluplXncyeHdskFFHdedJxzuWMmVedkiov+WpdgpGk1/5XVqwrNOW332XRmCG0b9M4ppb0pOOcyxktmlX8Sjv2ppdqObJxOvPuNyo9DDvjiv5ZP3CgKk86zrmcsvDG1MT0rPh6Q4KRNKxnZn3KtIUrKtV1zNIHQGvjScc5l1MkcXpYafTw0ZNzYraCBaVrueihdyrX3TC4hqOzW9Y9p+Occ9vr9wP35/EZS4BotgIzqzRZaGOyucw48Y8VgwbmjhpI6xbJrYezvbyl45zLOZ12aslfzjostd1YVxs1M/a+rOIZnFcv7deoEw540nHO5ajvH7oHT5x/NAA/vmdawtHU36pvNlZ66PO5Xx9Ht52zf0j01njScc7lrCP22jlVbkxLIHxUupZDr30+tX1A57Yc0LltghE1HL+n45zLGwVFE1g0ZkjSYWzVHS+WpMoLbxzcaO9HVcdbOs65nFY1yXyV5cOoS9es58l3omUK3rny5JxKOOBJxzmXB+KJ57DRkxOMpHZmVmkKnw47NI5ZBurDk45zLi/MvqZiipy3P/kqwUhqFh848IczDk0wkvTxpOOcyws7tWrO7wbsB8AP/vY6q77ZmHBENfvohsGpB1xzTSJJR9IZkt6TVCapsMq+kZJKJM2TNCBWPzDUlUgqitV3lzQt1D8alqwmLGv9aKifJqkgU5/POZedLuy3T6ocHx2WDdZv2pwqN22SW/dx4pJq6cwBfgBMjVdK6gUMAw4EBgJ/k9RUUlPgDmAQ0As4KxwLcBNwm5ntA3wFnBfqzwO+CvW3heOcc3kuvu5OyRdrmPfZmgSjqfDYW4sB+PFReyYcSXolknTMbK6Zzatm11DgETNbb2YLgRKi5ab7ACVmtsDMNgCPAEMVDes4EXg8nD8OODX2XuNC+XHgJOXaMBDnXL3t0LLiSZH+t05lwJ+m8u3GzbWckRlXPv0eACOO65FwJOmVbfd0ugCLY9tLQl1N9R2BlWa2qUp9pfcK+1eF47cgaYSkYknFpaWlDfRRnHPZ6qkLvlNpe/8rJ1JQNAEzSySeFz/4PFUu2GWHRGLIlLQlHUkvSJpTzWtouq65rcxsrJkVmllhp06dkg7HOZdmh+3ZgXvOKdyiPj56LJN+/o9iIPe71iCNMxKYWf9tOG0p0C223TXUUUP9cqC9pGahNRM/vvy9lkhqBrQLxzvnHCf32i31/M5lT83moWmfAPDq/FKO65mZPz5/dPcbTI+tkXPDaQdn5LpJyrbutfHAsDDyrDvQE5gOvAX0DCPVWhANNhhvUVv4JeD0cP5w4OnYew0P5dOBFy2ptrNzLqvdcNrBjBp6IABn3zc97dcrKJpAQdGESglnp1b5MStZUkOmT5O0BDgamCBpEoCZvQc8BrwPTAQuNLPNoRVzETAJmAs8Fo4F+D3wG0klRPds7gv19wEdQ/1vgNQwa+ecq+qcowtS5RNuSc9S19MWLK9x4tHZ1wyotj7XyP/4r6ywsNCKi4uTDsM5l4BnZy/jggffBmDE8T24bPABDfbei1es47ibK5JZ21bNOP+EfTj/hL0b7BpJkjTDzLa8UVZFfrTnnHOuDgYf3Jnd27bis9XfMnbqAsZOXUCPXXbgxf8+YbvfO55w/u+iYzm4a7vtfs/GyJOOc87FvHnZSZW6wBZ8+XWl7e1dGmHBDYNpksMzDmxNtg0kcM65xNWWWE6+9ZV6v188aeVzwgFPOs45V61FY4ZUSj4tmkW/Lud/sXab33PYkd22flCO84EEVfhAAudcTbalm+3oG6ewbNW39TqnMarrQAJv6TjnXB29c+XJqXJNQ5/LmRkFRRNSCef5S45Pa2yNhScd55yrow47tOC8Y7untsvKau4p+t5fXqu0ve9uO6UtrsbEk45zztXDld/rlSr3uKzmudre+3Q1AF3at87pbrX68qTjnHP19ObIk1Ll6rrZ/jJlfqr876ITMxJTY+FJxznn6mn3dq34ad+KGaELiibw3OxlAFz5rzn8cfKHAJy4/66JxJfNPOk459w2uO7Ug7m4f8/U9vlh+pz/efPjVN19w7c6mCvveNJxzrltdHH/fWndvGlqO96ttmjMEHyx4i150nHOue0wd/TA1Eqk5d1qrmaedJxzbjsdtmeHStvvXn1KQpFkP086zjnXAGZdEyWaPdq1ol3r5glHk718lmnnnGsAbVs19+dx6iCplUPPkPSepDJJhbH6AknfSJoZXnfF9h0habakEkm3K9yhk7SzpMmS5od/O4R6heNKJM2SdHjmP6lzzrm4pLrX5gA/AKZWs+8jM+sdXr+K1d8J/BLoGV4DQ30RMMXMegJTqFiWelDs2BHhfOeccwlKJOmY2Vwzm1fX4yV1Btqa2ZsWTYv9AHBq2D0UGBfK46rUP2CRN4H24X2cc84lJBsHEnSX9I6kVyQdF+q6AEtixywJdQC7mdmyUP4M2C12zuIazqlE0ghJxZKKS0tLG+RDOOec21LaBhJIegHYvZpdl5vZ0zWctgzY08yWSzoC+JekA+t6TTMzSfVeIMjMxgJjIVpPp77nO+ecq5u0JR0z678N56wH1ofyDEkfAfsCS4GusUO7hjqAzyV1NrNlofvsi1C/FOhWwznOOecSkFXda5I6SWoayj2IBgEsCN1nqyX1DaPWzgHKW0vjgeGhPLxK/TlhFFtfYFWsG84551wCkhoyfZqkJcDRwARJk8Ku44FZkmYCjwO/MrMVYd8FwL1ACfAR8FyoHwOcLGk+0D9sAzwLLAjH3xPOd845lyBFg8FcOUmlwMdbPbB6uwBfNmA4jZV/D/4dlPPvIZIP38NeZtZpawd50mlAkorNLO/nMvfvwb+Dcv49RPx7qJBV93Scc87lNk86zjnnMsaTTsMam3QAWcK/B/8Oyvn3EPHvIfB7Os455zLGWzrOOecyxpOOc865jPGk00AkDZQ0L6zfU7T1M7KDpPslfSFpTqyu3msUSRoejp8vaXisPuvXQZLUTdJLkt4P6zz9Ok+/h1aSpkt6N3wP14b67pKmhVgeldQi1LcM2yVhf0HsvUaG+nmSBsTqq/052ZZrpPm7aKpo4uFn8vU7SBsz89d2voCmRLMk9ABaAO8CvZKOq46xHw8cDsyJ1d0MFIVyEXBTKA8mmglCQF9gWqjfmWj2h52BDqHcIeybHo5VOHfQtlwjzd9BZ+DwUN4J+BDolYffg4AdQ7k5MC1c+zFgWKi/Czg/lC8A7grlYcCjodwr/Ay0BLqHn42mtf2c1PcaGfgufgM8BDyzLfHlwneQtu826QBy4UU0nc+k2PZIYGTScdUj/gIqJ515QOdQ7gzMC+W7gbOqHgecBdwdq7871HUGPojVp46r7zUy/H08DZycz98D0AZ4GziK6En6ZlX/XwcmAUeHcrNwnKr+/19+XE0/J+Gcel0jzZ+9K9GCkCcCz2xLfI39O0jny7vXGkad1+5pJOq7RlFt9WlbBykdQtfFYUR/5efd9xC6lWYSzdY+meiv8pVmtqmaOFIxhv2rgI61xF5TfcdtuEY6/Qm4FCgL29sSX2P/DtLGk46rlUV/XqV1XH0mrlEXknYEngAuNrPV8X358j2Y2WYz6030134fYP8k48k0Sd8DvjCzGUnHkqs86TSMXFu753OFpb1VtzWKaquvdR2kelwjrSQ1J0o4D5rZk9sYY6P/HsqZ2UrgJaJunvaSytfeiseRijHsbwcsp/7fz/JtuEa6HAP8h6RFwCNEXWx/3ob4GvN3kFaedBrGW0DPMPqkBdHNvvEJx7Q96rtG0STgFEkdwuirU4j6oxvFOkghtvuAuWZ2a2xXvn0PnSS1D+XWRPe15hIln9NriLE89tOBF0NrbTwwLIy66k60LtZ0avg5CefU9xppYWYjzayrmRWE+F40s59sQ3yN9jtIu6RvKuXKi2i00YdEfeCXJx1PPeJ+mGiZ8I1E/cjnEfUXTwHmAy8AO4djBdwRPuNsoDD2Pj8nWruoBDg3Vl8IzAnn/JWKWTDqfY00fgfHEnVrzQJmhtfgPPweDgHeCd/DHOCqUN+D6BdmCfC/QMtQ3ypsl4T9PWLvdXmIfR5hpF5tPyfbco0MfB8nUDF6LS+/g3S8fBoc55xzGePda8455zLGk45zzrmM8aTjnHMuYzzpOOecyxhPOs455zLGk45zaSZps6SZkuZI+l9JbbbhPe6V1CuUL6uy7/WGitW5dPMh086lmaS1ZrZjKD8IzLDKD6Fu8/s519h4S8e5zHoV2AdA0m9C62eOpItD3Q6SJiha02aOpDND/cuSCiWNAVqHltODYd/a8K8k3RLOmx0794Rw/uOSPpD0YJgZwbmMa7b1Q5xzDSHMmzUImCjpCOBcoqUDBEyT9ArRU+mfmtmQcE67+HuYWZGkiyyalLOqHwC9gUOBXYC3JE0N+w4DDgQ+Bf5NNMfYaw38EZ3bKm/pOJd+rcNyAcXAJ0TzvB0LPGVmX5vZWuBJ4DiiKW9OlnSTpOPMbFU9rnMs8LBFM0V/DrwCHBn2TTezJWZWRjTNT0GDfDLn6slbOs6l3zdVWyY19W6Z2YeKlqYeDFwnaYqZjWqAGNbHypvxn32XEG/pOJeMV4FTJbWRtANwGvCqpD2AdWb2T+AWoqXEq9oYlmKo7j3PDAuxdSJainx6muJ3bpv4XzvOJcDM3pb0DyqSwr1m9o6kAcAtksqIZv4+v5rTxwKzJL1t0bT75Z4iWv/mXaJZsy81s88k5dVCbC67+ZBp55xzGePda8455zLGk45zzrmM8aTjnHMuYzzpOOecyxhPOs455zLGk45zzrmM8aTjnHMuY/4/rUE5Trc7Y0gAAAAASUVORK5CYII\u003d\n"
          },
          "metadata": {
            "needs_background": "light"
          },
          "output_type": "display_data"
        }
      ],
      "source": "e_coli_genome \u003d open(\u0027E_coli.txt\u0027).readlines()[0].strip()\nprint (len(e_coli_genome))\nskew_vals \u003d skew_diagram(e_coli_genome)\nplot_skew_diagram(skew_vals)\n"
    },
    {
      "cell_type": "code",
      "execution_count": 89,
      "metadata": {
        "pycharm": {
          "is_executing": false
        }
      },
      "outputs": [],
      "source": [
        "assert minimum_skew(skew_vals) \u003d\u003d [3923620, 3923621, 3923622, 3923623]"
      ]
    },
    {
      "cell_type": "markdown",
      "metadata": {
        "pycharm": {}
      },
      "source": [
        "Solving the **Minimum Skew Problem** now provides us with an approximate location of ori at position **3923620** of **E. coli**."
      ]
    },
    {
      "cell_type": "code",
      "execution_count": 90,
      "metadata": {
        "pycharm": {
          "is_executing": false
        }
      },
      "outputs": [
        {
          "data": {
            "text/plain": "\u0027AATGATGATGACGTCAAAAGGATCCGGATAAAACATGGTGATTGCCTCGCATAACGCGGTATGAAAATGGATTGAAGCCCGGGCCGTGGATTCTACTCAACTTTGTCGGCTTGAGAAAGACCTGGGATCCTGGGTATTAAAAAGAAGATCTATTTATTTAGAGATCTGTTCTATTGTGATCTCTTATTAGGATCGCACTGCCCTGTGGATAACAAGGATCCGGCTTTTAAGATCAACAACCTGGAAAGGATCATTAACTGTGAATGATCGGTGATCCTGGACCGTATAAGCTGGGATCAGAATGAGGGGTTATACACAACTCAAAAACTGAACAACAGTTGTTCTTTGGATAACTACCGGTTGATCCAAGCTTCCTGACAGAGTTATCCACAGTAGATCGCACGATCTGTATACTTATTTGAGTAAATTAACCCACGATCCCAGCCATTCTTCTGCCGGATCTTCCGGAATGTCGTGATCAAGAATGTTGATCTTCAGTG\u0027"
          },
          "metadata": {},
          "output_type": "execute_result",
          "execution_count": 90
        }
      ],
      "source": [
        "start_pos \u003d 3923620\n",
        "e_coli_potential_oric \u003d e_coli_genome[start_pos:start_pos+500]\n",
        "e_coli_potential_oric"
      ]
    },
    {
      "cell_type": "markdown",
      "metadata": {
        "pycharm": {}
      },
      "source": [
        "## 2. Frequent words in oriC of E. coli"
      ]
    },
    {
      "cell_type": "markdown",
      "metadata": {
        "pycharm": {}
      },
      "source": "Here is the function from part 1, that locates exact frequent words in a string.\n\n- Input: A string **Text** and integers **k, c**.\n- Output: Pairs of k-mers and their reverse compliments in **Text** that apear **c** or more times, and their number of occurrences, without duplications.\n"
    },
    {
      "cell_type": "code",
      "execution_count": 91,
      "metadata": {
        "pycharm": {
          "is_executing": false
        }
      },
      "outputs": [],
      "source": [
        "from collections import Counter\n",
        "\n",
        "def reversec(pattern):\n",
        "    \n",
        "    reverse_letter \u003d {\u0027A\u0027:\u0027T\u0027, \u0027T\u0027:\u0027A\u0027, \u0027C\u0027:\u0027G\u0027, \u0027G\u0027:\u0027C\u0027}\n",
        "        \n",
        "    return \u0027\u0027.join([reverse_letter[ch] for ch in pattern[::-1]])\n",
        "\n",
        "def freq_words2(text, k, c):\n",
        "    result \u003d []\n",
        "    result_kmers \u003d set()\n",
        "\n",
        "    words \u003d Counter([text[i:i+k] for i in range(len(text)-k)])\n",
        "            \n",
        "    for word, count in words.items():\n",
        "        reverse_word \u003d reversec(word)\n",
        "        count_reverse \u003d words[reverse_word] if reverse_word in words else 0\n",
        "        \n",
        "        if count + count_reverse \u003e\u003d c and word not in result_kmers:\n",
        "            result.append((word, count, reverse_word, count_reverse, count+count_reverse))\n",
        "            result_kmers.add(word)\n",
        "            result_kmers.add(reverse_word)\n",
        "            \n",
        "    return result"
      ]
    },
    {
      "cell_type": "markdown",
      "metadata": {
        "pycharm": {}
      },
      "source": [
        "We will use this function to find exact words in E. coli oriC"
      ]
    },
    {
      "cell_type": "code",
      "execution_count": 92,
      "metadata": {
        "pycharm": {
          "is_executing": false
        }
      },
      "outputs": [
        {
          "data": {
            "text/plain": "[]"
          },
          "metadata": {},
          "output_type": "execute_result",
          "execution_count": 92
        }
      ],
      "source": [
        "freq_words2(e_coli_potential_oric, 9, 3)"
      ]
    },
    {
      "cell_type": "markdown",
      "metadata": {
        "pycharm": {}
      },
      "source": [
        "There are **no 9-mers** (along with their reverse complements) that appear **three or more times**!\n",
        "Even if we have located ori in E. coli, it appears that we still have not found the DnaA boxes that jump-start replication in this bacterium."
      ]
    },
    {
      "cell_type": "markdown",
      "metadata": {
        "pycharm": {}
      },
      "source": [
        "Before we give up, we\u0027ve seen in class that there could be **approximate** occurrences."
      ]
    },
    {
      "cell_type": "markdown",
      "metadata": {
        "pycharm": {}
      },
      "source": [
        "## 3. Approximate frequent words\n",
        "We say that position $i$ in k-mers $p_1 … p_k$ and $q_1 … q_k$ is a mismatch if $p_i \\neq q_i$. For example, CGAAT and CGGAC have two mismatches. The number of mismatches between strings *p* and *q* is called the **Hamming distance** between these strings and is denoted $HammingDistance(p, q)$.\n",
        "\n",
        "### 3.1. Hamming Distance Problem: Compute the Hamming distance between two strings.\n",
        "- Input: Two strings of equal length.\n",
        "- Output: The Hamming distance between these strings.\n",
        "\n",
        "**Sample Input:**  \n",
        "GGGCCGTTGGT  \n",
        "GGACCGTTGAC  \n",
        "\n",
        "**Sample Output:**  \n",
        "3"
      ]
    },
    {
      "cell_type": "code",
      "execution_count": 100,
      "metadata": {
        "pycharm": {
          "is_executing": false
        }
      },
      "outputs": [],
      "source": "def hamming(p, q):\n    return sum(1 for _p, _q in zip(p, q) if _p !\u003d _q)\n    "
    },
    {
      "cell_type": "markdown",
      "metadata": {
        "pycharm": {}
      },
      "source": [
        "Test your code"
      ]
    },
    {
      "cell_type": "code",
      "execution_count": 101,
      "metadata": {
        "pycharm": {
          "is_executing": false
        }
      },
      "outputs": [],
      "source": [
        "assert hamming(\u0027GGGCCGTTGGT\u0027,\u0027GGACCGTTGAC\u0027) \u003d\u003d 3"
      ]
    },
    {
      "cell_type": "markdown",
      "metadata": {
        "pycharm": {}
      },
      "source": [
        "### 3.2. Approximate Pattern Matching\n",
        "\n",
        "We say that a k-mer $Pattern$ appears as a substring of Text with at most *d* mismatches if there is some k-mer substring $Pattern\u0027$ of Text having *d* or fewer mismatches with Pattern, i.e., $HammingDistance(Pattern, Pattern\u0027) \\leq d$. Our observation that a DnaA box may appear with slight variations leads to the following generalization of the Pattern Matching Problem.\n",
        "\n",
        "#### Find all approximate occurrences of a pattern in a string.\n",
        "- Input: Strings **Pattern** and **Text** along with an integer **d**.\n",
        "- Output: The number of times that **Pattern** appears as a substring of **Text** with at most **d** mismatches.\n",
        "\n",
        "**Sample Input:**  \n",
        "text \u003d CGCCCGAATCCAGAACGCATTCCCATATTTCGGGACCACTGGCCTCCACGGTACGGACGTCAATCAAAT  \n",
        "pattern \u003d ATTCTGGA  \n",
        "d \u003d 3  \n",
        "\n",
        "**Sample Output:**  \n",
        "4"
      ]
    },
    {
      "cell_type": "code",
      "execution_count": 102,
      "metadata": {
        "pycharm": {
          "is_executing": false
        }
      },
      "outputs": [],
      "source": "def sliding_window(text, pattern):\n    l \u003d len(pattern)\n    for i in range(len(text) - l + 1):\n        yield text[i: i + l]\n\ndef approximate_pattern_matching(text, pattern, d):\n    return sum(1 for w in sliding_window(text, pattern) if hamming(pattern, w) \u003c\u003d d)   \n    "
    },
    {
      "cell_type": "markdown",
      "metadata": {
        "pycharm": {}
      },
      "source": "Test your algorithm:\n"
    },
    {
      "cell_type": "code",
      "execution_count": 103,
      "metadata": {
        "pycharm": {
          "is_executing": false
        }
      },
      "outputs": [],
      "source": [
        "text \u003d \u0027CGCCCGAATCCAGAACGCATTCCCATATTTCGGGACCACTGGCCTCCACGGTACGGACGTCAATCAAAT\u0027  \n",
        "pattern \u003d \u0027ATTCTGGA\u0027  \n",
        "d \u003d 3  \n",
        "\n",
        "assert approximate_pattern_matching(text, pattern, d) \u003d\u003d 4"
      ]
    },
    {
      "cell_type": "markdown",
      "metadata": {
        "pycharm": {}
      },
      "source": "### 3.3. Frequent Words with Mismatches and Reverse Complements Problem \n\nFind the most frequent k-mers (with mismatches and reverse complements) in a string.\n\nImplement an algorithm that runs in $O(4^k|Text|k)$\n\n- Input: A DNA string **Text** as well as integers $k$ and $d$.\n- Output: All k-mers $Pattern$ maximizing the sum $Count_d(Text, Pattern)+ Count_d(Text, Pattern_{rc})$ over all possible k-mers.   \nThe output should be a dictionary that looks like this: {($Pattern$ , $Pattern_{rc}$): $Count_d(Text, Pattern)+ Count_d(Text, Pattern_{rc})$)}\n\n\u003e$Count_d(Text, Pattern)$ is the total number of occurrences of $Pattern$ in $Text$ with at most *d* mismatches.  \n\u003e$Pattern_{rc}$ is the reverse compliment of $Pattern$ \n\n**Sample Input:**   \ntext \u003d ACGTTGCATGTCGCATGATGCATGAGAGCT  \nk \u003d 4  \nd \u003d 1  \n\n**Sample Output:**  \n{(\u0027ACAT\u0027, \u0027ATGT\u0027): 9}\n\n\u003e The function *get_patterns(k)* creates all possible $4^k$ strings, it is given below\n"
    },
    {
      "cell_type": "code",
      "execution_count": 104,
      "metadata": {
        "pycharm": {
          "is_executing": false
        }
      },
      "outputs": [],
      "source": [
        "CHARS \u003d [\u0027A\u0027, \u0027C\u0027, \u0027G\u0027, \u0027T\u0027]\n",
        "\n",
        "def get_patterns(k):\n",
        "    patterns \u003d []\n",
        "    get_patterns_rec(k, \u0027\u0027, patterns)\n",
        "    return patterns\n",
        "\n",
        "def get_patterns_rec(k, pattern, patterns):\n",
        "    if k \u003d\u003d 0:\n",
        "        patterns.append(pattern)\n",
        "        return\n",
        "    \n",
        "    for char in CHARS:\n",
        "        get_patterns_rec(k-1, pattern+char, patterns)"
      ]
    },
    {
      "cell_type": "code",
      "execution_count": 105,
      "metadata": {
        "pycharm": {
          "is_executing": false
        }
      },
      "outputs": [
        {
          "data": {
            "text/plain": "[\u0027AA\u0027,\n \u0027AC\u0027,\n \u0027AG\u0027,\n \u0027AT\u0027,\n \u0027CA\u0027,\n \u0027CC\u0027,\n \u0027CG\u0027,\n \u0027CT\u0027,\n \u0027GA\u0027,\n \u0027GC\u0027,\n \u0027GG\u0027,\n \u0027GT\u0027,\n \u0027TA\u0027,\n \u0027TC\u0027,\n \u0027TG\u0027,\n \u0027TT\u0027]"
          },
          "metadata": {},
          "output_type": "execute_result",
          "execution_count": 105
        }
      ],
      "source": [
        "get_patterns(2)"
      ]
    },
    {
      "cell_type": "markdown",
      "metadata": {
        "pycharm": {}
      },
      "source": "\u003e Guidence: the dictionary `result` will contain a tuple as key `(left_pattern, right_pattern)`, and the sum of their counts as a value. The `left_pattern` comes before `right_pattern` in lexicographic order, this can be decided by `min` and `max` functions. See the code below.\n"
    },
    {
      "cell_type": "code",
      "execution_count": 108,
      "metadata": {
        "pycharm": {
          "is_executing": false
        }
      },
      "outputs": [],
      "source": "def approx_frequent_words1(text, k, d):\n    \n    result \u003d {}\n    apm \u003d lambda ptrn: approximate_pattern_matching(text, ptrn, d)\n    \n    # get all possible 4^k patterns\n    patterns \u003d get_patterns(k)\n            \n    max_count \u003d 0\n    for pattern in patterns:\n        \n        reverse_pattern \u003d reversec(pattern)\n        \n        #lexicographical comparison\n        left_pattern, right_pattern \u003d min(pattern, reverse_pattern), max(pattern, reverse_pattern)\n            \n        if (left_pattern , right_pattern) in result:\n            continue\n            \n        res \u003d result[(left_pattern , right_pattern)] \u003d apm(left_pattern) + apm(right_pattern)\n        max_count \u003d max(max_count, res)\n    \n    result \u003d {t: val for t, val in result.items() if val \u003d\u003d max_count}\n    return result\n"
    },
    {
      "cell_type": "markdown",
      "metadata": {
        "pycharm": {}
      },
      "source": "Test your code\n"
    },
    {
      "cell_type": "code",
      "execution_count": 110,
      "metadata": {
        "pycharm": {
          "is_executing": false
        }
      },
      "outputs": [
        {
          "name": "stdout",
          "text": [
            "{(\u0027ACAT\u0027, \u0027ATGT\u0027): 9}\n"
          ],
          "output_type": "stream"
        }
      ],
      "source": "assert approx_frequent_words1(\u0027ACGTTGCATGTCGCATGATGCATGAGAGCT\u0027, 4, 1) \u003d\u003d {(\u0027ACAT\u0027, \u0027ATGT\u0027): 9}\n"
    },
    {
      "cell_type": "markdown",
      "metadata": {
        "pycharm": {}
      },
      "source": [
        "Now let\u0027s find fruquent words with mismtaches in the e. coli OriC we extracted"
      ]
    },
    {
      "cell_type": "code",
      "execution_count": 111,
      "metadata": {
        "pycharm": {
          "is_executing": false
        }
      },
      "outputs": [
        {
          "name": "stdout",
          "text": [
            "{(\u0027ATGATC\u0027, \u0027GATCAT\u0027): 25, (\u0027GATCCA\u0027, \u0027TGGATC\u0027): 25}\n"
          ],
          "output_type": "stream"
        }
      ],
      "source": [
        "k \u003d 6\n",
        "d \u003d 1\n",
        "assert approx_frequent_words1(e_coli_potential_oric, k, d) \u003d\u003d {(\u0027ATGATC\u0027, \u0027GATCAT\u0027): 25, (\u0027GATCCA\u0027, \u0027TGGATC\u0027): 25}"
      ]
    },
    {
      "cell_type": "markdown",
      "metadata": {
        "pycharm": {}
      },
      "source": [
        "You can see that it takes a while for $k\u003d6$. For a larger and more realistic $k$(\u003d9), it can take a very long time"
      ]
    },
    {
      "cell_type": "markdown",
      "metadata": {
        "pycharm": {}
      },
      "source": [
        "### 3.4. Efficient implementation of *Frequent Words with Mismatches*"
      ]
    },
    {
      "cell_type": "markdown",
      "metadata": {
        "pycharm": {}
      },
      "source": [
        "### 3.4.1. Finding neighbors\n",
        "\n",
        "We want to find these patterns as efficiently as possible. Therefore we will use the algorithm we learned at the practical session.\n",
        "\n",
        "First, we will need a function for finding neighbors of a pattern. This was already implemented for you.\n",
        "\n",
        "### Finding neighbors of a pattern\n",
        "- Input: A DNA pattern and integer d.\n",
        "- Output: All neighbors of the pattern, with up to d mismatches\n",
        "\n",
        "**Sample Input:**   \n",
        "pattern \u003d AC    \n",
        "d \u003d 1  \n",
        "\n",
        "**Sample Output:**  \n",
        "\\[\u0027AA\u0027, \u0027AC\u0027, \u0027AG\u0027, \u0027AT\u0027, \u0027CC\u0027, \u0027GC\u0027, \u0027TC\u0027\\]"
      ]
    },
    {
      "cell_type": "code",
      "execution_count": 113,
      "metadata": {
        "pycharm": {
          "is_executing": false
        }
      },
      "outputs": [],
      "source": "def find_neighbors(pattern, d):\n    neighbors \u003d []\n    chars \u003d [\u0027A\u0027, \u0027C\u0027, \u0027G\u0027, \u0027T\u0027]\n\n    find_neighbors_rec(pattern, 0, list(pattern), d, 0, chars, neighbors)\n    \n    return neighbors\n\ndef find_neighbors_rec(pattern, pos, neighbor_lst, d, mismatches, chars, neighbors):\n    \n    if mismatches \u003e d:\n        return\n    elif pos \u003d\u003d len(pattern):\n        neighbors.append(\u0027\u0027.join(neighbor_lst))\n        return\n    \n    for char in chars:\n        neighbor_lst[pos] \u003d char\n        if char !\u003d pattern[pos]:\n            find_neighbors_rec(pattern, pos+1, neighbor_lst, d, mismatches+1, chars, neighbors)\n        else:\n            find_neighbors_rec(pattern, pos+1, neighbor_lst, d, mismatches, chars, neighbors)\n            "
    },
    {
      "cell_type": "markdown",
      "metadata": {
        "pycharm": {}
      },
      "source": "Let\u0027s check that it finds all neighbors at distance 1 from \u0027AC\u0027\n"
    },
    {
      "cell_type": "code",
      "execution_count": 114,
      "metadata": {
        "pycharm": {
          "is_executing": false
        }
      },
      "outputs": [
        {
          "data": {
            "text/plain": "[\u0027AA\u0027, \u0027AC\u0027, \u0027AG\u0027, \u0027AT\u0027, \u0027CC\u0027, \u0027GC\u0027, \u0027TC\u0027]"
          },
          "metadata": {},
          "output_type": "execute_result",
          "execution_count": 114
        }
      ],
      "source": "d \u003d 1\nfind_neighbors(\u0027AC\u0027, d)\n"
    },
    {
      "attachments": {},
      "cell_type": "markdown",
      "metadata": {
        "pycharm": {}
      },
      "source": "### 3.4.2. Efficient implementation of *Frequent Words with Mismatches and Reverse Complements Problem*\n\nNow, let\u0027s implement an efficient algorithm for *Frequent Words with Mismatches and Reverse Complements Problem*, by using only the neighbors of all k-mers in text as potential patterns. This results in a running time of $𝑶(𝟑^𝒅 𝒌^𝒅 |𝑻𝒆𝒙𝒕|∙𝒌)$\n\n- Input: A DNA string Text as well as integers k and d.\n- Output: All k-mers $Pattern$ and their reverse complement maximizing the sum $Count_d(Text, Pattern)+ Count_d(Text, Pattern_{rc})$ over all possible k-mers.\n\nSample Input:  \ntext \u003d ACGTTGCATGTCGCATGATGCATGAGAGCT  \nk \u003d 4  \nd \u003d 1  \n\nSample Output:  \n{(\u0027ACAT\u0027, \u0027ATGT\u0027): 9}\n\n#### Psuedo Code\n\n- For each k-mer in Text, find its neighbors and add them to a counter - these are all the potential patterns **(this was already implemented for you)**\n- Go over all patterns and return all patterns that maximize $Count_d(Text, Pattern)+ Count_d(Text, Pattern_{rc})$\n"
    },
    {
      "cell_type": "code",
      "execution_count": 115,
      "metadata": {
        "pycharm": {
          "is_executing": false
        }
      },
      "outputs": [],
      "source": "from collections import Counter\n\ndef get_patterns(text, k, d):\n    \"\"\"returns a counter of all neighbors of all k-mers in text\"\"\"\n    patterns \u003d Counter()\n    for i in range(len(text)-k+1):\n        pattern \u003d text[i:i+k]\n        neighbors \u003d find_neighbors(pattern, d)\n        patterns.update(neighbors)\n        \n    return patterns\n\ndef approx_frequent_words2(text, k, d):\n    \n    result \u003d {}\n    apm \u003d lambda ptrn: approximate_pattern_matching(text, ptrn, d)\n    \n    patterns \u003d get_patterns(text, k, d)\n            \n    max_count \u003d 0\n    for pattern, count in patterns.items():\n        \n        reverse_pattern \u003d reversec(pattern)\n        #lexicographical comparison\n        left_pattern, right_pattern \u003d min(pattern, reverse_pattern), max(pattern, reverse_pattern)\n            \n        #write your code here\n        if (left_pattern , right_pattern) in result:\n            continue\n            \n        res \u003d result[(left_pattern , right_pattern)] \u003d apm(left_pattern) + apm(right_pattern)\n        max_count \u003d max(max_count, res)\n        \n    result \u003d {t: val for t, val in result.items() if val \u003d\u003d max_count}\n    return result\n"
    },
    {
      "cell_type": "markdown",
      "metadata": {
        "pycharm": {}
      },
      "source": [
        "Test your algorithm:"
      ]
    },
    {
      "cell_type": "code",
      "execution_count": 120,
      "metadata": {
        "pycharm": {
          "is_executing": false
        }
      },
      "outputs": [],
      "source": [
        "k \u003d 4\n",
        "d \u003d 1\n",
        "assert approx_frequent_words2(\u0027ACGTTGCATGTCGCATGATGCATGAGAGCT\u0027, k, d) \u003d\u003d {(\u0027ACAT\u0027, \u0027ATGT\u0027): 9}"
      ]
    },
    {
      "cell_type": "markdown",
      "metadata": {
        "pycharm": {}
      },
      "source": [
        "And now let\u0027s use our efficiant algorithm to find all freuquent words with mismatches in e. coli OriC"
      ]
    },
    {
      "cell_type": "code",
      "execution_count": 121,
      "metadata": {
        "scrolled": true,
        "pycharm": {
          "is_executing": false
        }
      },
      "outputs": [],
      "source": [
        "assert approx_frequent_words2(e_coli_potential_oric, 9, 1) \u003d\u003d {(\u0027AAGAGATCT\u0027, \u0027AGATCTCTT\u0027): 4,\n",
        " (\u0027AAGGATCCT\u0027, \u0027AGGATCCTT\u0027): 4,\n",
        " (\u0027AATGATCCG\u0027, \u0027CGGATCATT\u0027): 4,\n",
        " (\u0027AGAACAACA\u0027, \u0027TGTTGTTCT\u0027): 4,\n",
        " (\u0027AGCTGGGAT\u0027, \u0027ATCCCAGCT\u0027): 4,\n",
        " (\u0027AGGATCAAC\u0027, \u0027GTTGATCCT\u0027): 4,\n",
        " (\u0027CAGAAGATC\u0027, \u0027GATCTTCTG\u0027): 4,\n",
        " (\u0027CCAGGATCC\u0027, \u0027GGATCCTGG\u0027): 4,\n",
        " (\u0027CTGTTGATC\u0027, \u0027GATCAACAG\u0027): 4,\n",
        " (\u0027CTGGGATCA\u0027, \u0027TGATCCCAG\u0027): 4,\n",
        " (\u0027GATCCCAGC\u0027, \u0027GCTGGGATC\u0027): 4,\n",
        " (\u0027GGTTATCCA\u0027, \u0027TGGATAACC\u0027): 4,\n",
        " (\u0027GTGGATAAC\u0027, \u0027GTTATCCAC\u0027): 4,\n",
        " (\u0027TCTGGATAA\u0027, \u0027TTATCCAGA\u0027): 4,\n",
        " (\u0027TGATCAACA\u0027, \u0027TGTTGATCA\u0027): 4,\n",
        " (\u0027TGTGAATAA\u0027, \u0027TTATTCACA\u0027): 4,\n",
        " (\u0027TGTGGATAA\u0027, \u0027TTATCCACA\u0027): 4}"
      ]
    },
    {
      "cell_type": "markdown",
      "metadata": {
        "pycharm": {}
      },
      "source": [
        "The region which starts 37 nucleotides after position **3923620**, where the skew reaches its minimum value, is experimentally verified oriC of E. coli.\n",
        "\n",
        "**TTATCCACA** is experimentally confirmed DnaA box in E. coli. along with its reverse complement **TGTGGATAA**.\n",
        "\n",
        "However, it is not the only one,  there are other 9-mers that appear with their reverse compliment 4 times with 1 mismatch.\n",
        "\n",
        "## Conclusion\n",
        "\n",
        "We do not know what purpose — if any — these other 9-mers serve in the E. coli genome, but we do know that there are **many different types of hidden messages** in genomes; these hidden messages have a tendency to cluster within a genome, and most of them have nothing to do with replication. \n",
        "\n",
        "One example is the regulatory DNA motifs responsible for gene expression that you studied in the lecture. The important lesson is that existing approaches to oriC prediction remain imperfect and are sometimes inconclusive. However, even providing biologists with a small collection of 9-mers as candidate DnaA boxes is a great aid as long as one of these 9-mers is correct.\n",
        "\n",
        "Thus, the moral of this chapter is that even though computational predictions can be powerful, bioinformaticians should collaborate with biologists to verify their computational predictions.\n",
        "\n",
        "## Hope you enjoyed!"
      ]
    },
    {
      "cell_type": "markdown",
      "metadata": {
        "pycharm": {}
      },
      "source": [
        "### Don\u0027t forget to submit to the [submission system](https://cs-serv.cs.bgu.ac.il/cs_service/subsys.html)\n",
        "\n"
      ]
    }
  ],
  "metadata": {
    "kernelspec": {
      "name": "pycharm-536c4646",
      "language": "python",
      "display_name": "PyCharm (GenomeAssembly-Part 2.ipynb)"
    },
    "language_info": {
      "codemirror_mode": {
        "name": "ipython",
        "version": 3
      },
      "file_extension": ".py",
      "mimetype": "text/x-python",
      "name": "python",
      "nbconvert_exporter": "python",
      "pygments_lexer": "ipython3",
      "version": "3.6.4"
    }
  },
  "nbformat": 4,
  "nbformat_minor": 2
}