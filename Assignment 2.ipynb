{
 "cells": [
  {
   "cell_type": "markdown",
   "metadata": {
    "pycharm": {}
   },
   "source": [
    "# Assignment 2 - BLAST\n",
    "\n",
    "In this assignment, you will implement a Heuristic Local Sequence Alignment Search algorithm, using filtration concepts as in BLAST.   \n",
    "You will compare your local alignment algorithm from Assignment 1 to the one you’ll implement here. \n",
    "Please read the entire Assignment before starting your implementation.\n",
    "\n",
    "## BLAST overview\n",
    "\n",
    "From Wiki:\n",
    "\n",
    "“In bioinformatics, BLAST for Basic Local Alignment Search Tool is an algorithm for comparing primary biological sequence information, such as the amino-acid sequences of different proteins or the nucleotides of DNA sequences. A BLAST search enables a researcher to compare a query sequence with a library or database of sequences, and identify library sequences that resemble the query sequence above a certain threshold.”\n",
    "\n",
    "For this assignment, BLAST will be defined according to this variant:\n",
    "\n",
    "The input is a **Database (DB)** sequence, and one or more **query** sequences.\n",
    "\n",
    "1. **Database pre-process**:\n",
    "  \n",
    "  Mapping each $w$-mer (a substrings of length $w$) from the DB to its index in the DB string. Mapping can be done in various ways – you can implement it using a data structure of your choice. This is done once for the DB sequence, and used for multiple queries. \n",
    "        \n",
    "2. **Query processing - Finding hits**:\n",
    "  \n",
    "  For each $w$-mer in the query (\"sliding window\"), make a list of neighbour words. \n",
    "  **Reminder**: A neighbour word $𝑠′$ of a $w$-mer $𝑠$ is a word of length $|s|=w$, with $score(s,s')\\geq T$ (using a scoring matrix). $T$ is a chosen threshold. \n",
    "  \n",
    "  For each neighbor, find the indexes of its appearances in the text (**hits**), using the data structures constructed in stage **1**. A **hit** is called an HSP (High-Scoring Segment Pair).\n",
    "\n",
    "3. **Extension of HSPs**:\n",
    "    \n",
    "    Extend the hits found in stage **2** to obtain MSPs (Maximal Scoring Pairs). Extension stops when the extended HSP score drops X below the maximal score obtained so far.\n",
    "\n",
    "4. **Reporting MSPs**:\n",
    "\n",
    "    Report top scoring MSPs of the query, after removing duplicate MSPs.\n",
    "\n",
    "## Part 1:\n",
    "\n",
    "Implement BLAST as described above, for one query sequence and one database sequence. The scoring matrix is the same from Assignment 1.\n",
    "\n",
    "**Bonus**: Implement an efficient way to avoid going over $23^w$[\\*] possible neighbors of each $w$-mer. This was briefly discussed in the practical session.\n",
    "\n",
    "[\\*] Note that in the scoring matrix, there are 23 amino acids because of 3 additional letters: **X**, **B** and **Z**.     \n",
    "   **X** - undetermined amino acid. **B** - the amino acid is either asparagine or aspartic acid; **Z** - either glutamic acid or glutamine\n",
    "\n"
   ]
  },
  {
   "cell_type": "code",
   "execution_count": 1,
   "metadata": {
    "pycharm": {
     "is_executing": false
    }
   },
   "outputs": [],
   "source": [
    "S = [\n",
    "    [4, -1, -2, -2,  0, -1, -1,  0, -2, -1, -1, -1, -1, -2, -1,  1,  0, -3, -2,  0, -2, -1,  0, -4],\n",
    "    [-1,  5,  0, -2, -3,  1,  0, -2,  0, -3, -2,  2, -1, -3, -2, -1, -1, -3, -2, -3, -1,  0, -1, -4],\n",
    "    [-2,  0,  6,  1, -3,  0,  0,  0,  1, -3, -3,  0, -2, -3, -2,  1,  0, -4, -2, -3,  3,  0, -1, -4],\n",
    "    [-2, -2,  1,  6, -3,  0,  2, -1, -1, -3, -4, -1, -3, -3, -1,  0, -1, -4, -3, -3,  4,  1, -1, -4],\n",
    "    [0, -3, -3, -3,  9, -3, -4, -3, -3, -1, -1, -3, -1, -2, -3, -1, -1, -2, -2, -1, -3, -3, -2, -4],\n",
    "    [-1,  1,  0,  0, -3,  5,  2, -2,  0, -3, -2,  1, 0, -3, -1,  0, -1, -2, -1, -2,  0,  3, -1, -4],\n",
    "    [-1,  0,  0,  2, -4,  2,  5, -2,  0, -3, -3,  1, -2, -3, -1,  0, -1, -3, -2, -2,  1,  4, -1, -4],\n",
    "    [0, -2,  0, -1, -3, -2, -2,  6, -2, -4, -4, -2, -3, -3, -2,  0, -2, -2, -3, -3, -1, -2, -1, -4],\n",
    "    [-2,  0,  1, -1, -3,  0,  0, -2,  8, -3, -3, -1, -2, -1, -2, -1, -2, -2,  2, -3,  0,  0, -1, -4],\n",
    "    [-1, -3, -3, -3, -1, -3, -3, -4, -3,  4,  2, -3, 1,  0, -3, -2, -1, -3, -1,  3, -3, -3, -1, -4],\n",
    "    [-1, -2, -3, -4, -1, -2, -3, -4, -3,  2,  4, -2, 2,  0, -3, -2, -1, -2, -1,  1, -4, -3, -1, -4],\n",
    "    [-1,  2,  0, -1, -3,  1,  1, -2, -1, -3, -2,  5, -1, -3, -1,  0, -1, -3, -2, -2,  0,  1, -1, -4],\n",
    "    [-1, -1, -2, -3, -1,  0, -2, -3, -2,  1,  2, -1, 5,  0, -2, -1, -1, -1, -1,  1, -3, -1, -1, -4],\n",
    "    [-2, -3, -3, -3, -2, -3, -3, -3, -1,  0,  0, -3, 0,  6, -4, -2, -2,  1,  3, -1, -3, -3, -1, -4],\n",
    "    [-1, -2, -2, -1, -3, -1, -1, -2, -2, -3, -3, -1, -2, -4,  7, -1, -1, -4, -3, -2, -2, -1, -2, -4],\n",
    "    [1, -1,  1,  0, -1,  0,  0,  0, -1, -2, -2,  0, -1, -2, -1,  4,  1, -3, -2, -2,  0,  0,  0, -4],\n",
    "    [0, -1,  0, -1, -1, -1, -1, -2, -2, -1, -1, -1, -1, -2, -1,  1,  5, -2, -2,  0, -1, -1,  0, -4],\n",
    "    [-3, -3, -4, -4, -2, -2, -3, -2, -2, -3, -2, -3, -1,  1, -4, -3, -2, 11,  2, -3, -4, -3, -2, -4],\n",
    "    [-2, -2, -2, -3, -2, -1, -2, -3,  2, -1, -1, -2, -1,  3, -3, -2, -2,  2,  7, -1, -3, -2, -1, -4],\n",
    "    [0, -3, -3, -3, -1, -2, -2, -3, -3,  3,  1, -2, 1, -1, -2, -2,  0, -3, -1,  4, -3, -2, -1, -4],\n",
    "    [-2, -1,  3,  4, -3,  0,  1, -1,  0, -3, -4,  0, -3, -3, -2,  0, -1, -4, -3, -3,  4,  1, -1, -4],\n",
    "    [-1,  0,  0,  1, -3,  3,  4, -2,  0, -3, -3,  1, -1, -3, -1,  0, -1, -3, -2, -2,  1,  4, -1, -4],\n",
    "    [0, -1, -1, -1, -2, -1, -1, -1, -1, -1, -1, -1, -1, -1, -2,  0,  0, -2, -1, -1, -1, -1, -1, -4],\n",
    "    [-4, -4, -4, -4, -4, -4, -4, -4, -4, -4, -4, -4, -4, -4, -4, -4, -4, -4, -4, -4, -4, -4, -4,  1]\n",
    "]\n",
    "\n",
    "AA = {\n",
    "    'A': 0,\n",
    "    'R': 1,\n",
    "    'N': 2,\n",
    "    'D': 3,\n",
    "    'C': 4,\n",
    "    'Q': 5,\n",
    "    'E': 6,\n",
    "    'G': 7,\n",
    "    'H': 8,\n",
    "    'I': 9,\n",
    "    'L': 10,\n",
    "    'K': 11,\n",
    "    'M': 12,\n",
    "    'F': 13,\n",
    "    'P': 14,\n",
    "    'S': 15,\n",
    "    'T': 16,\n",
    "    'W': 17,\n",
    "    'Y': 18,\n",
    "    'V': 19,\n",
    "    'B': 20,\n",
    "    'Z': 21,\n",
    "    'X': 22,\n",
    "}\n"
   ]
  },
  {
   "cell_type": "code",
   "execution_count": 2,
   "metadata": {
    "pycharm": {
     "is_executing": false
    },
    "scrolled": true
   },
   "outputs": [],
   "source": [
    "# imports\n",
    "from pprint import pprint\n",
    "from typing import Dict, List, Iterator, Tuple\n",
    "from collections import defaultdict\n",
    "from functools import reduce, lru_cache\n",
    "from itertools import product\n",
    "from operator import add\n",
    "from collections import Counter\n",
    "from tqdm import tqdm_notebook, tqdm\n",
    "\n",
    "def acid_gen() -> Iterator[str]:\n",
    "    for k in AA.keys():\n",
    "        yield k\n",
    "\n",
    "SCORE_MATRIX_CALC = lambda c1, c2: S[AA[c1]][AA[c2]]\n",
    "SCORE_MATRIX = {(a1, a2): SCORE_MATRIX_CALC(a1, a2) for a1, a2 in product(acid_gen(), repeat=2)}\n"
   ]
  },
  {
   "cell_type": "code",
   "execution_count": 3,
   "metadata": {
    "pycharm": {
     "is_executing": false
    }
   },
   "outputs": [],
   "source": [
    "# implement BLAST here\n",
    "def sliding_window(string: str, w: int) -> Iterator[str]:\n",
    "    for i in range(len(string) - w + 1):\n",
    "        yield string[i:i+w], i\n",
    "\n",
    "        \n",
    "def sliding_window_file(file_path: str, w: int) -> Iterator[str]:\n",
    "    with open(file_path) as f:\n",
    "        f_str = ''.join(f.readlines()[1:]).replace('\\n', '')\n",
    "    return sliding_window(f_str, w)        \n",
    "\n",
    "\n",
    "def get_wmer_map(db_file: str, w: int) -> Dict[str, List[str]]:\n",
    "    wmer_dict = defaultdict(list)\n",
    "    for wmer, index in sliding_window_file(db_file, w):\n",
    "        wmer_dict[wmer].append(index)\n",
    "    return wmer_dict\n",
    "\n",
    "\n",
    "@lru_cache(maxsize=1000)\n",
    "def align_score(w1: str, w2: str) -> int:\n",
    "    acc = 0\n",
    "    for t1, t2 in zip(w1, w2):\n",
    "        acc += SCORE_MATRIX[t1, t2]\n",
    "            \n",
    "    return acc\n",
    "\n",
    "\n",
    "def rec_iter_neighbours(cur_word: str, cur_negative: int, wmer: str, T: int) -> Iterator[str]:\n",
    "    if len(cur_word) == len(wmer):\n",
    "        if align_score(cur_word, wmer) >= T:\n",
    "            yield cur_word\n",
    "        return\n",
    "    \n",
    "    for c in acid_gen():\n",
    "        cur_score = SCORE_MATRIX[wmer[len(cur_word)], c]\n",
    "        \n",
    "        if cur_score < 0 and cur_negative + cur_score < 0:\n",
    "            continue\n",
    "        elif cur_score < 0:\n",
    "            yield from rec_iter_neighbours(cur_word + c, cur_negative + cur_score, wmer, T)\n",
    "        else:\n",
    "            yield from rec_iter_neighbours(cur_word + c, cur_negative, wmer, T)\n",
    "\n",
    "            \n",
    "def iter_neighbours(wmer: str, T: int) -> Iterator[str]:\n",
    "    best_score = align_score(wmer, wmer)\n",
    "    max_negative_allowed = best_score - T\n",
    "    return rec_iter_neighbours('', max_negative_allowed, wmer, T)\n",
    "\n",
    "\n",
    "def iter_hsps(wmer: str, T: int, db_map: Dict[str, List[int]]) -> Iterator[int]:\n",
    "    for n in iter_neighbours(wmer, T):\n",
    "        for indx in db_map[n]:\n",
    "            yield indx\n",
    "\n",
    "\n",
    "_MAX_SCORE = 0\n",
    "_DB = _LEN_DB = None\n",
    "_QUERY = _LEN_QUERY = None\n",
    "def iter_msps(hsp_index: int, query_index: int, length: int, \n",
    "              X: int, db: str, query: str) -> Iterator[Tuple[Tuple[int, int], int]]:\n",
    "    \n",
    "    global _MAX_SCORE, _DB, _LEN_DB, _QUERY, _LEN_QUERY\n",
    "    \n",
    "    _MAX_SCORE = 0\n",
    "    _DB, _LEN_DB = db, len(db)\n",
    "    _QUERY, _LEN_QUERY = query, len(query)\n",
    "    \n",
    "    return iter_msps_(hsp_index, query_index, length, X)\n",
    "\n",
    "\n",
    "def incorrect_request(hsp_index: int, query_index: int, length: int):\n",
    "    return any([hsp_index < 0, \n",
    "            query_index < 0,\n",
    "            hsp_index + length > _LEN_DB -1,\n",
    "            query_index + length > _LEN_QUERY -1])\n",
    "\n",
    "\n",
    "@lru_cache(maxsize=1000)\n",
    "def iter_msps_(hsp_index: int, query_index: int, length: int, X: int) -> Iterator[Tuple[Tuple[int, int], int]]:\n",
    "    \n",
    "    global _MAX_SCORE    \n",
    "    if incorrect_request(hsp_index, query_index, length):\n",
    "        return\n",
    "    \n",
    "    cur_align_score = align_score(_DB[hsp_index: hsp_index+length], _QUERY[query_index: query_index+length])\n",
    "    if cur_align_score < _MAX_SCORE - X:\n",
    "        return\n",
    "    \n",
    "    _MAX_SCORE = cur_align_score if cur_align_score > _MAX_SCORE else _MAX_SCORE\n",
    "    \n",
    "    yield (hsp_index, length), _MAX_SCORE\n",
    "    yield from iter_msps_(hsp_index, query_index, length+1, X)\n",
    "    yield from iter_msps_(hsp_index-1, query_index-1, length+1, X)\n",
    "    \n"
   ]
  },
  {
   "cell_type": "code",
   "execution_count": 4,
   "metadata": {
    "pycharm": {
     "is_executing": false
    },
    "scrolled": false
   },
   "outputs": [],
   "source": [
    "from collections import namedtuple\n",
    "from operator import attrgetter\n",
    "MSP = namedtuple('MSP', ['db_index', 'len', 'score'])\n",
    "\n",
    "def blast_it_to_orbit(\n",
    "    db_file: str, query_file: str, w: int, T: int, X: int) -> Iterator[Tuple[Tuple[int, int], int]]:\n",
    "    \"\"\"\n",
    "\n",
    "    :param db_file: path to db file\n",
    "    :param query_file: path to query file\n",
    "    :param w: the size of a wmer\n",
    "    \n",
    "    :param T: A neighbour word 𝑠′ of a 𝑤-mer 𝑠 is a word of length \n",
    "             |𝑠|=𝑤, with 𝑠𝑐𝑜𝑟𝑒(𝑠,𝑠′)≥𝑇 (using a scoring matrix). 𝑇 is a chosen threshold.\n",
    "             \n",
    "    :param X: Extend the hits found in stage 2 to obtain MSPs (Maximal Scoring Pairs). \n",
    "              Extension stops when the extended HSP score drops X below the maximal score obtained so far.  \n",
    "\n",
    "    :return: iterator over not pruned msp's with their score\n",
    "    \"\"\"\n",
    "\n",
    "    db = ''.join(open(db_file).readlines()[1:]).replace('\\n', '')\n",
    "    query = ''.join(open(query_file).readlines()[1:]).replace('\\n', '')\n",
    "\n",
    "    wmer_map = get_wmer_map(db_file, w)\n",
    "    \n",
    "    global _MAX_SCORE\n",
    "    \n",
    "    for window ,query_index in tqdm_notebook(sliding_window_file(query_file, w), desc='Window', total=len(query) - w):\n",
    "        for hsp in iter_hsps(window, T, wmer_map):\n",
    "            for msp, cur_max in iter_msps(hsp, query_index, w, X, db, query):\n",
    "                cur_msp = MSP(*msp, cur_max)\n",
    "                yield cur_msp\n",
    "\n",
    "SORT_KEY = attrgetter(\"score\", \"len\")\n",
    "def k_best_msps(\n",
    "    db_file: str, query_file: str, w: int, T: int, X: int, k: int) -> Tuple[Tuple[int, int], int]:\n",
    "    \n",
    "    msp_sorted =  sorted(blast_it_to_orbit(db_file, query_file, w, T, X), key=SORT_KEY)\n",
    "    unique_msp_indeces = {msp.db_index for msp in msp_sorted}\n",
    "    return  list(uniqify_indeces(msp_sorted, k))\n",
    "\n",
    "\n",
    "UNIQ_DIST = 20\n",
    "OVERLAP_TO_BE_SAME = 200\n",
    "def _does_overlap(ref: MSP, tested: MSP):\n",
    "    ref_start, ref_end = ref.db_index, ref.db_index + ref.len\n",
    "    tested_start, tested_end = tested.db_index, tested.db_index + tested.len\n",
    "    \n",
    "    if ref_start < tested_start and ref_end - tested_start > OVERLAP_TO_BE_SAME:\n",
    "        return True\n",
    "    \n",
    "    if tested_start < ref_start and tested_end - ref_start > OVERLAP_TO_BE_SAME:\n",
    "        return True\n",
    "    \n",
    "    return False\n",
    "          \n",
    "\n",
    "def uniqify_indeces(msp_sorted, k):\n",
    "    unique_indeces = {}\n",
    "    \n",
    "    for msp in reversed(msp_sorted):\n",
    "        if len(unique_indeces) == k:\n",
    "            return\n",
    "        \n",
    "        if msp.db_index in unique_indeces:\n",
    "            continue\n",
    "        \n",
    "        # check start index radius\n",
    "        if any([abs(msp.db_index - x) < UNIQ_DIST for x in unique_indeces]):\n",
    "            continue\n",
    "            \n",
    "        # check overlap\n",
    "        if any([_does_overlap(ref_msp, msp) for ref_msp in unique_indeces.values()]):\n",
    "            continue\n",
    "        \n",
    "        unique_indeces[msp.db_index] = msp\n",
    "        yield msp\n",
    "    "
   ]
  },
  {
   "cell_type": "code",
   "execution_count": 5,
   "metadata": {},
   "outputs": [],
   "source": [
    "import cProfile, pstats, io\n",
    "import time\n",
    "\n",
    "def profile_it(runnable):\n",
    "\n",
    "    pr = cProfile.Profile()\n",
    "    pr.enable()\n",
    "\n",
    "    ret = runnable()\n",
    "    \n",
    "    pr.disable()\n",
    "    sortby = 'tottime'\n",
    "    s = io.StringIO()\n",
    "    ps = pstats.Stats(pr, stream=s).sort_stats(sortby)\n",
    "    ps.print_stats()\n",
    "    print(s.getvalue())\n",
    "    \n",
    "    return ret\n",
    "\n",
    "def time_that(that):\n",
    "    start_time = time.time()\n",
    "    that()\n",
    "    return time.time() - start_time"
   ]
  },
  {
   "cell_type": "markdown",
   "metadata": {
    "pycharm": {}
   },
   "source": [
    "## Part 2\n",
    "### Input files:\n",
    "- query1.fasta\n",
    "- db1.fasta\n",
    "\n",
    "*query1.fasta* contains the query from Assignment 1, and *db1.fasta* contains the database from Assignment 1. In this part you will run your BLAST using the query in *query1.fasta* and the Database in *db1.fasta*.\n",
    "\n",
    "1. For $w$=3 and different values of $T$, plot a graph of the avarge number of neighbors for each $w$-mer. \n",
    "\n",
    "2. Measure running time (in seconds) using different parameters of $w$, $T$ and $X$. Plot the results using a graph or several graphs.\n",
    "\n",
    "3. Compare **3 top scoring** MSPs (without duplicate MSPs) to Local Alignemnt results from Assignment 1.  \n",
    "The optimal local alignment of the query and DB is between *query[16:1382]* and *target[2999:4352]*.\n",
    "    - Pick $w$, $T$ and $X$ that give you an MSP that is closest to the optimal alignment, while the running time is still fast.\n",
    "    - The running time of the local alignment is 5 minutes. How much improvement in running time did you get?\n",
    "    - Discuss the results. \n",
    "        - Is there an MSP which is identical to the optimal Local Alignment? \n",
    "        - If not, why do you think so?\n",
    "        - Calculate MSP coverage (MSP length divided by query length*100) for each of the 3 top scoring MSPs.\n",
    "        - How can BLAST be improved, in order to get more similar results to Local Alignment?"
   ]
  },
  {
   "cell_type": "code",
   "execution_count": 6,
   "metadata": {
    "pycharm": {}
   },
   "outputs": [
    {
     "data": {
      "application/vnd.jupyter.widget-view+json": {
       "model_id": "0df1efcbb894490f854f67e2ae5fc4af",
       "version_major": 2,
       "version_minor": 0
      },
      "text/plain": [
       "HBox(children=(IntProgress(value=0, description='T', max=5, style=ProgressStyle(description_width='initial')),…"
      ]
     },
     "metadata": {},
     "output_type": "display_data"
    },
    {
     "data": {
      "application/vnd.jupyter.widget-view+json": {
       "model_id": "bbde3f363c524c0e8ba7ddb41bcfd513",
       "version_major": 2,
       "version_minor": 0
      },
      "text/plain": [
       "HBox(children=(IntProgress(value=0, description='wmer', max=12165, style=ProgressStyle(description_width='init…"
      ]
     },
     "metadata": {},
     "output_type": "display_data"
    },
    {
     "data": {
      "application/vnd.jupyter.widget-view+json": {
       "model_id": "6ae4b60bf32f423daf5b3ff7cd64eb5a",
       "version_major": 2,
       "version_minor": 0
      },
      "text/plain": [
       "HBox(children=(IntProgress(value=0, description='wmer', max=12165, style=ProgressStyle(description_width='init…"
      ]
     },
     "metadata": {},
     "output_type": "display_data"
    },
    {
     "data": {
      "application/vnd.jupyter.widget-view+json": {
       "model_id": "3c844a6da47548c594180aec23b37166",
       "version_major": 2,
       "version_minor": 0
      },
      "text/plain": [
       "HBox(children=(IntProgress(value=0, description='wmer', max=12165, style=ProgressStyle(description_width='init…"
      ]
     },
     "metadata": {},
     "output_type": "display_data"
    },
    {
     "data": {
      "application/vnd.jupyter.widget-view+json": {
       "model_id": "9cfaf73d8f9240b89bddaa6457a0b19f",
       "version_major": 2,
       "version_minor": 0
      },
      "text/plain": [
       "HBox(children=(IntProgress(value=0, description='wmer', max=12165, style=ProgressStyle(description_width='init…"
      ]
     },
     "metadata": {},
     "output_type": "display_data"
    },
    {
     "data": {
      "application/vnd.jupyter.widget-view+json": {
       "model_id": "48cafc7506b24061a6a2bf69699b99a8",
       "version_major": 2,
       "version_minor": 0
      },
      "text/plain": [
       "HBox(children=(IntProgress(value=0, description='wmer', max=12165, style=ProgressStyle(description_width='init…"
      ]
     },
     "metadata": {},
     "output_type": "display_data"
    },
    {
     "name": "stdout",
     "output_type": "stream",
     "text": [
      "\n"
     ]
    }
   ],
   "source": [
    "# 1. Avg number of neighbours per T:\n",
    "\n",
    "db_file='db1.fasta'\n",
    "query_file='query1.fasta'\n",
    "w = 3\n",
    "\n",
    "db = ''.join(open(db_file).readlines()[1:]).replace('\\n', '')\n",
    "query = ''.join(open(query_file).readlines()[1:]).replace('\\n', '')\n",
    "\n",
    "wmer_map = get_wmer_map(db_file, w)\n",
    "\n",
    "def num_neighbours(wmer: str, T: int) -> int:\n",
    "    l = 0\n",
    "    for _ in iter_neighbours(wmer, T):\n",
    "        l += 1\n",
    "    return l\n",
    "\n",
    "\n",
    "neighbouts_num = {}\n",
    "for T in  tqdm_notebook([5, 9, 12, 15, 20], desc='T'):\n",
    "    sum_neighbours = 0\n",
    "\n",
    "    for wmer in tqdm_notebook(list(wmer_map), desc='wmer'):\n",
    "        sum_neighbours += num_neighbours(wmer, T)\n",
    "        align_score.cache_clear()\n",
    "        \n",
    "    neighbouts_num[T] = sum_neighbours / len(wmer_map)\n"
   ]
  },
  {
   "cell_type": "code",
   "execution_count": 7,
   "metadata": {
    "scrolled": true
   },
   "outputs": [
    {
     "data": {
      "text/plain": [
       "[<matplotlib.lines.Line2D at 0x7f0315cf9278>]"
      ]
     },
     "execution_count": 7,
     "metadata": {},
     "output_type": "execute_result"
    },
    {
     "data": {
      "image/png": "[encoded data removed]",
      "text/plain": [
       "<Figure size 432x288 with 1 Axes>"
      ]
     },
     "metadata": {
      "needs_background": "light"
     },
     "output_type": "display_data"
    }
   ],
   "source": [
    "import matplotlib.pyplot as plt\n",
    "%matplotlib inline \n",
    "\n",
    "plt.ylabel('Num neighbours')\n",
    "plt.xlabel('T')\n",
    "\n",
    "plt.plot(list(neighbouts_num.keys()), list(neighbouts_num.values()))"
   ]
  },
  {
   "cell_type": "code",
   "execution_count": 8,
   "metadata": {},
   "outputs": [
    {
     "data": {
      "application/vnd.jupyter.widget-view+json": {
       "model_id": "9f3e757510d54a158fec253215a46cb0",
       "version_major": 2,
       "version_minor": 0
      },
      "text/plain": [
       "HBox(children=(IntProgress(value=0, description='Window', max=1379, style=ProgressStyle(description_width='ini…"
      ]
     },
     "metadata": {},
     "output_type": "display_data"
    },
    {
     "name": "stdout",
     "output_type": "stream",
     "text": [
      "\n"
     ]
    },
    {
     "data": {
      "application/vnd.jupyter.widget-view+json": {
       "model_id": "d57b9e80b19a498c8294b6845a77f0a8",
       "version_major": 2,
       "version_minor": 0
      },
      "text/plain": [
       "HBox(children=(IntProgress(value=0, description='Window', max=1379, style=ProgressStyle(description_width='ini…"
      ]
     },
     "metadata": {},
     "output_type": "display_data"
    },
    {
     "name": "stdout",
     "output_type": "stream",
     "text": [
      "\n"
     ]
    },
    {
     "data": {
      "application/vnd.jupyter.widget-view+json": {
       "model_id": "41b071ac44c442fa8b5c0372d295e399",
       "version_major": 2,
       "version_minor": 0
      },
      "text/plain": [
       "HBox(children=(IntProgress(value=0, description='Window', max=1379, style=ProgressStyle(description_width='ini…"
      ]
     },
     "metadata": {},
     "output_type": "display_data"
    },
    {
     "name": "stdout",
     "output_type": "stream",
     "text": [
      "\n"
     ]
    },
    {
     "data": {
      "application/vnd.jupyter.widget-view+json": {
       "model_id": "be2a3d731220434095ddc6da893e645d",
       "version_major": 2,
       "version_minor": 0
      },
      "text/plain": [
       "HBox(children=(IntProgress(value=0, description='Window', max=1378, style=ProgressStyle(description_width='ini…"
      ]
     },
     "metadata": {},
     "output_type": "display_data"
    },
    {
     "name": "stdout",
     "output_type": "stream",
     "text": [
      "\n"
     ]
    },
    {
     "data": {
      "application/vnd.jupyter.widget-view+json": {
       "model_id": "28dc9b46c4984a9995218ad4470b9a05",
       "version_major": 2,
       "version_minor": 0
      },
      "text/plain": [
       "HBox(children=(IntProgress(value=0, description='Window', max=1378, style=ProgressStyle(description_width='ini…"
      ]
     },
     "metadata": {},
     "output_type": "display_data"
    },
    {
     "name": "stdout",
     "output_type": "stream",
     "text": [
      "\n"
     ]
    },
    {
     "data": {
      "application/vnd.jupyter.widget-view+json": {
       "model_id": "a86fdc925c4247a1933320052833a911",
       "version_major": 2,
       "version_minor": 0
      },
      "text/plain": [
       "HBox(children=(IntProgress(value=0, description='Window', max=1378, style=ProgressStyle(description_width='ini…"
      ]
     },
     "metadata": {},
     "output_type": "display_data"
    },
    {
     "name": "stdout",
     "output_type": "stream",
     "text": [
      "\n"
     ]
    },
    {
     "data": {
      "text/plain": [
       "{(3, 15, 5): 158.17098331451416,\n",
       " (3, 15, 10): 186.45456171035767,\n",
       " (3, 15, 15): 224.43919801712036,\n",
       " (4, 20, 5): 252.41543841362,\n",
       " (4, 20, 10): 261.6804301738739,\n",
       " (4, 20, 15): 267.2526841163635}"
      ]
     },
     "execution_count": 8,
     "metadata": {},
     "output_type": "execute_result"
    }
   ],
   "source": [
    "# Measure running time (in seconds) using different parameters of 𝑤, 𝑇 and 𝑋\n",
    "param_sets = [\n",
    "    [3, 15, 5],\n",
    "    [3, 15, 10],\n",
    "    [3, 15, 15],\n",
    "    [4, 20, 5],\n",
    "    [4, 20, 10],\n",
    "    [4, 20, 15],\n",
    "]\n",
    "\n",
    "runtime = {}\n",
    "for w, T, X in param_sets:\n",
    "    align_score.cache_clear()\n",
    "    iter_msps_.cache_clear()\n",
    "    \n",
    "    l = lambda: k_best_msps(\n",
    "        db_file='db1.fasta',\n",
    "        query_file='query1.fasta',\n",
    "        w=w, T=T, X=X, k=3\n",
    "    )\n",
    "\n",
    "    runtime[w, T, X] = time_that(l)\n",
    "\n",
    "runtime"
   ]
  },
  {
   "cell_type": "code",
   "execution_count": 9,
   "metadata": {},
   "outputs": [
    {
     "data": {
      "text/plain": [
       "<BarContainer object of 6 artists>"
      ]
     },
     "execution_count": 9,
     "metadata": {},
     "output_type": "execute_result"
    },
    {
     "data": {
      "image/png": "[encoded data removed]",
      "text/plain": [
       "<Figure size 1008x504 with 1 Axes>"
      ]
     },
     "metadata": {
      "needs_background": "light"
     },
     "output_type": "display_data"
    }
   ],
   "source": [
    "plt.figure(figsize=(14,7))\n",
    "plt.bar(list(map(str, list(runtime.keys()))), list(runtime.values()))"
   ]
  },
  {
   "cell_type": "code",
   "execution_count": 10,
   "metadata": {},
   "outputs": [
    {
     "data": {
      "application/vnd.jupyter.widget-view+json": {
       "model_id": "0f42e5cd13fc4db184cd5551533bf937",
       "version_major": 2,
       "version_minor": 0
      },
      "text/plain": [
       "HBox(children=(IntProgress(value=0, description='Window', max=1379, style=ProgressStyle(description_width='ini…"
      ]
     },
     "metadata": {},
     "output_type": "display_data"
    },
    {
     "name": "stdout",
     "output_type": "stream",
     "text": [
      "\n",
      "[MSP(db_index=2993, len=745, score=3841),\n",
      " MSP(db_index=3736, len=615, score=3084),\n",
      " MSP(db_index=4151, len=200, score=1056)]\n",
      "\n",
      " ########################################################## \n",
      "\n",
      "[53.90738060781476, 44.500723589001446, 14.47178002894356]\n"
     ]
    }
   ],
   "source": [
    "l = lambda: k_best_msps(\n",
    "    db_file='db1.fasta',\n",
    "    query_file='query1.fasta',\n",
    "    w=3, T=15, X=12, k=3\n",
    ")\n",
    "\n",
    "msps = l()\n",
    "pprint(msps)\n",
    "\n",
    "print('\\n ########################################################## \\n')\n",
    "\n",
    "coverages = [(msp.len / len(query) * 100) for msp in msps]\n",
    "pprint(coverages)"
   ]
  },
  {
   "cell_type": "markdown",
   "metadata": {},
   "source": [
    "* First scoring MSP is almost adentical to the local alignment\n",
    "* To come closer to local alignment we should increse X - but losing in runtime"
   ]
  },
  {
   "cell_type": "markdown",
   "metadata": {
    "pycharm": {}
   },
   "source": [
    "## Part 3\n",
    "\n",
    "### Input files:\n",
    "- query2.fasta\n",
    "- db2.fasta\n",
    "\n",
    "*query2.fasta* contains a different query than the one in part 2 (alpha globin), and db2 is the database (DB), containing 3 homologs of the query.\n",
    "\n",
    "1. Run local alignment algorithm using the query and the database. \n",
    "     - After running the algorithm, you will get **start** and **end** indices of the local alignment in the database. \n",
    "     - Remove the substring DB[start:end] from the DB string. Run local alignment again, using the new DB string. \n",
    "     - This will help you find locations of all 3 homologs of the query in the database.  \n",
    "\n",
    "In this part you can use your code from Assignment 1, or use local alignment from [Biopython](http://biopython.org/DIST/docs/api/Bio.pairwise2-module.html) to perform a local alignment like this:"
   ]
  },
  {
   "cell_type": "code",
   "execution_count": 11,
   "metadata": {
    "pycharm": {}
   },
   "outputs": [
    {
     "name": "stdout",
     "output_type": "stream",
     "text": [
      "[('EVLKKKKEVLAEVL', '-----------EVL', 13.0, 11, 14),\n",
      " ('EVLKKKKEVLAEVL', '-------EVL----', 13.0, 7, 10),\n",
      " ('EVLKKKKEVLAEVL', 'EVL-----------', 13.0, 0, 3)]\n"
     ]
    }
   ],
   "source": [
    "from Bio import pairwise2\n",
    "from Bio.SubsMat import MatrixInfo as matlist\n",
    "\n",
    "db = 'EVLKKKKEVLAEVL' \n",
    "query = 'EVL'\n",
    "\n",
    "matrix = matlist.blosum62\n",
    "alignments = pairwise2.align.localds(db, query, matrix, -4, -4)\n",
    "\n",
    "align1, align2, score, start, end = alignments[0]\n",
    "\n",
    "pprint(alignments)"
   ]
  },
  {
   "cell_type": "code",
   "execution_count": 12,
   "metadata": {
    "pycharm": {}
   },
   "outputs": [],
   "source": [
    "db_file='db2.fasta'\n",
    "query_file='query2.fasta'\n",
    "\n",
    "db = ''.join(open(db_file).readlines()[1:]).replace('\\n', '')\n",
    "query = ''.join(open(query_file).readlines()[1:]).replace('\\n', '')\n",
    "\n",
    "alignments = []\n",
    "for _ in range(3):\n",
    "    alignments.append(pairwise2.align.localds(db, query, matrix, -4, -4)[0])\n",
    "    _, _, _, start, end = alignments[-1]\n",
    "    db = db[:start] + db[end:]\n"
   ]
  },
  {
   "cell_type": "code",
   "execution_count": 13,
   "metadata": {},
   "outputs": [
    {
     "name": "stdout",
     "output_type": "stream",
     "text": [
      "score: 540.0 start: 2395 end: 2537 len: 142\n",
      "score: 213.0 start: 1348 end: 1495 len: 147\n",
      "score: 204.0 start: 230 end: 379 len: 149\n"
     ]
    }
   ],
   "source": [
    "for align in alignments:\n",
    "    print(f'score: {align[2]} start: {align[3]} end: {align[4]} len: {align[4] - align[3]}')"
   ]
  },
  {
   "cell_type": "markdown",
   "metadata": {
    "pycharm": {}
   },
   "source": [
    "2. Run you BLAST using $w$, $T$ and $X$ parameters that gave you the best results in part 2. Report **5\n",
    "top** scoring MSPs (without duplicates). \n",
    "    - Did you find all 3 homologs in the database? \n",
    "    - Measure Precision and Sensitivity.\n",
    "    - Discuss how parameters $w$, $T$ and $X$ affect Precision and Sensitivity."
   ]
  },
  {
   "cell_type": "code",
   "execution_count": 14,
   "metadata": {
    "pycharm": {}
   },
   "outputs": [
    {
     "data": {
      "application/vnd.jupyter.widget-view+json": {
       "model_id": "dc6c2acc22404be2a515f638e75cc043",
       "version_major": 2,
       "version_minor": 0
      },
      "text/plain": [
       "HBox(children=(IntProgress(value=0, description='Window', max=125, style=ProgressStyle(description_width='init…"
      ]
     },
     "metadata": {},
     "output_type": "display_data"
    },
    {
     "name": "stdout",
     "output_type": "stream",
     "text": [
      "\n",
      "[MSP(db_index=2432, len=74, score=267),\n",
      " MSP(db_index=2492, len=44, score=178),\n",
      " MSP(db_index=1398, len=68, score=136),\n",
      " MSP(db_index=278, len=53, score=111),\n",
      " MSP(db_index=333, len=44, score=79)]\n"
     ]
    }
   ],
   "source": [
    "UNIQ_DIST = 50\n",
    "OVERLAP_TO_BE_SAME = 20\n",
    "\n",
    "l = lambda: k_best_msps(\n",
    "    db_file='db2.fasta',\n",
    "    query_file='query2.fasta',\n",
    "    w=3, T=15, X=12, k=5\n",
    ")\n",
    "\n",
    "msps = l()\n",
    "pprint(msps)"
   ]
  },
  {
   "cell_type": "markdown",
   "metadata": {},
   "source": [
    "* We found all the MSPs but with a partial hit (len)\n",
    "* precision & sensitivity are hard to calculate because we can say they are very high although our blast algorithm only had partial matches\n",
    "* In order to raise precision we should raise T\n",
    "* In order to raise sensitivity we can lower w and raise X"
   ]
  }
 ],
 "metadata": {
  "kernelspec": {
   "display_name": "PyCharm (GenomeAssembly-Part 2.ipynb)",
   "language": "python",
   "name": "pycharm-536c4646"
  },
  "language_info": {
   "codemirror_mode": {
    "name": "ipython",
    "version": 3
   },
   "file_extension": ".py",
   "mimetype": "text/x-python",
   "name": "python",
   "nbconvert_exporter": "python",
   "pygments_lexer": "ipython3",
   "version": "3.6.8"
  },
  "stem_cell": {
   "cell_type": "raw",
   "metadata": {
    "pycharm": {
     "metadata": false
    }
   },
   "source": ""
  }
 },
 "nbformat": 4,
 "nbformat_minor": 2
}
