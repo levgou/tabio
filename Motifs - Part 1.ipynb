{
  "cells": [
    {
      "cell_type": "markdown",
      "metadata": {
        "pycharm": {}
      },
      "source": "# Practical Session - Motifs - Part 1\n\nThis practical session is based on what you learned during the [practical session](https://www.cs.bgu.ac.il/~tabio182/wiki.files/8-Motifs%20-%202018.pdf) regarding Motifs.\n\nIn this practical session you will:\n- Find potential DnaA boxes\n- Deal with actual genomes of *Vibrio cholerae*, *Thermotoga petrophila* and *E. coli*\n\n#### How exciting! Let\u0027s start!\n\u003eStudents names: Lev Gourevitch 314369547"
    },
    {
      "cell_type": "markdown",
      "metadata": {
        "pycharm": {}
      },
      "source": [
        "## 1. Frequent words\n",
        "### 1.1. Frequent words in a known oriC of *Vibrio cholerae*\n",
        "\n",
        "Our plan is to begin with a bacterium in which **oriC** is known, and then determine what makes this genomic region special in order to design a computational approach for finding oriC in other bacteria. \n",
        "\n",
        "Our example is *Vibrio cholerae*, the pathogenic bacterium that causes cholera."
      ]
    },
    {
      "cell_type": "markdown",
      "metadata": {
        "pycharm": {}
      },
      "source": [
        "#### Solve the Frequent Words Problem.\n",
        "- Input: A string **Text** and an integer **k**.\n",
        "- Output: All most frequent k-mers in **Text**, and their number of occurences.\n",
        "\n",
        "**Sample Input:**   \n",
        "text \u003d ACGTTGCATGTCGCATGATGCATGAGAGCT   \n",
        "k \u003d 4\n",
        "\n",
        "**Sample Output:**   \n",
        "\\[\u0027GCAT\u0027, \u0027CATG\u0027\\], 3\n",
        "\n",
        "**Running time should be: $O(|Text|*k$)**   \n"
      ]
    },
    {
      "cell_type": "markdown",
      "metadata": {
        "pycharm": {}
      },
      "source": "\u003e **Guidance:** Use the *Counter* data structure. It is like a dictionary of items (in your case k-mers) where the key is a k-mer and the value is the number of times it appears.  \nFor example:\n"
    },
    {
      "cell_type": "code",
      "execution_count": null,
      "metadata": {
        "pycharm": {}
      },
      "outputs": [],
      "source": [
        "from collections import Counter\n",
        "\n",
        "words \u003d [\u0027cat\u0027, \u0027dog\u0027, \u0027cat\u0027]\n",
        "counter \u003d Counter()\n",
        "\n",
        "for word in words:\n",
        "    counter[word] +\u003d 1\n",
        "    \n",
        "print(\u0027cat\u0027, counter[\u0027cat\u0027])\n",
        "\n",
        "for word, count in counter.items():\n",
        "    print(word, count)"
      ]
    },
    {
      "cell_type": "code",
      "execution_count": 17,
      "metadata": {
        "pycharm": {
          "is_executing": false
        }
      },
      "outputs": [],
      "source": "from collections import Counter\n\nfrom itertools import islice\n\ndef window(seq, n\u003d2):\n    \"Returns a sliding window (of width n) over data from the iterable\"\n    \"   s -\u003e (s0,s1,...s[n-1]), (s1,s2,...,sn), ...                   \"\n    it \u003d iter(seq)\n    result \u003d tuple(islice(it, n))\n    if len(result) \u003d\u003d n:\n        yield \"\".join(result)\n    for elem in it:\n        result \u003d result[1:] + (elem,)\n        yield \"\".join(result)\n\ndef freq_words(text, k):\n    result \u003d []\n    max_count \u003d 0\n    cnt \u003d Counter()\n    \n    for w in window(text, k):\n        cnt[w] +\u003d 1\n        \n    max_count \u003d cnt.most_common(1)[0][1]\n    result \u003d [item[0] for item in cnt.items() if item[1] \u003d\u003d max_count]\n    \n    return result, max_count\n\n"
    },
    {
      "cell_type": "markdown",
      "metadata": {
        "pycharm": {}
      },
      "source": "Test your algorithm:"
    },
    {
      "cell_type": "code",
      "execution_count": 18,
      "metadata": {
        "pycharm": {
          "is_executing": false
        }
      },
      "outputs": [],
      "source": "assert freq_words(\u0027ACGTTGCATGTCGCATGATGCATGAGAGCT\u0027, 4) \u003d\u003d ([\u0027GCAT\u0027, \u0027CATG\u0027], 3)"
    },
    {
      "cell_type": "markdown",
      "metadata": {
        "pycharm": {}
      },
      "source": [
        "### 1.2. oriC of Vibrio cholerae"
      ]
    },
    {
      "cell_type": "markdown",
      "metadata": {
        "pycharm": {}
      },
      "source": [
        "Experiments have revealed that bacterial DnaA boxes are usually **nine** nucleotides long. \n",
        "\n",
        "This is the oriC of *Vibrio cholerae*. Find the most frequent 9-mers. "
      ]
    },
    {
      "cell_type": "code",
      "execution_count": 19,
      "metadata": {
        "pycharm": {
          "is_executing": false
        }
      },
      "outputs": [],
      "source": [
        "vibrio_cholerae_oric \u003d \u0027\u0027\u0027ATCAATGATCAACGTAAGCTTCTAAGCATGATCAAGGTGCTCACACAGTTTATCCACAAC\n",
        "CTGAGTGGATGACATCAAGATAGGTCGTTGTATCTCCTTCCTCTCGTACTCTCATGACCA\n",
        "CGGAAAGATGATCAAGAGAGGATGATTTCTTGGCCATATCGCAATGAATACTTGTGACTT\n",
        "GTGCTTCCAATTGACATCTTCAGCGCCATATTGCGCTGGCCAAGGTGACGGAGCGGGATT\n",
        "ACGAAAGCATGATCATGGCTGTTGTTCTGTTTATCTTGTTTTGACTGAGACTTGTTAGGA\n",
        "TAGACGGTTTTTCATCACTGACTAGCCAAAGCCTTACTCTGCCTGACATCGACCGTAAAT\n",
        "TGATAATGAATTTACATGCTTCCGCGACGATTTACCTCTTGATCATCGATCCGATTGAAG\n",
        "ATCTTCAATTGTTAATTCTCTTGCCTCGACTCATAGCCATGATGAGCTCTTGATCATGTT\n",
        "TCCTTAACCCTCTATTTTTTACGGAAGAATGATCAAGCTGCTGCTCTTGATCATCGTTTC\u0027\u0027\u0027"
      ]
    },
    {
      "cell_type": "code",
      "execution_count": 20,
      "metadata": {
        "pycharm": {
          "is_executing": false
        }
      },
      "outputs": [],
      "source": [
        "assert freq_words(vibrio_cholerae_oric, 9) \u003d\u003d ([\u0027ATGATCAAG\u0027, \u0027CTCTTGATC\u0027, \u0027TCTTGATCA\u0027, \u0027CTTGATCAT\u0027], 3)"
      ]
    },
    {
      "cell_type": "markdown",
      "metadata": {
        "pycharm": {}
      },
      "source": [
        "### 1.3. Reverse Compliments"
      ]
    },
    {
      "cell_type": "markdown",
      "metadata": {
        "pycharm": {}
      },
      "source": [
        "**ATGATCAAG** and **CTTGATCAT** are **reverse complements** of each other, resulting in the six total occurrences of these strings in *Vibrio cholerae*."
      ]
    },
    {
      "cell_type": "markdown",
      "metadata": {
        "pycharm": {}
      },
      "source": [
        "#### Find the reverse complement of a DNA string.\n",
        "- Input: A DNA string Pattern.\n",
        "- Output: The reverse complement of Pattern. The pattern could be lower case or upper case.\n",
        "\n",
        "**Sample Input:**  \n",
        "AAAACCCGGT\n",
        "\n",
        "**Sample Output:**  \n",
        "ACCGGGTTTT\n",
        "\n",
        "**Sample Input:**  \n",
        "aaaccc\n",
        "\n",
        "**Sample Output:**  \n",
        "gggttt"
      ]
    },
    {
      "cell_type": "code",
      "execution_count": 40,
      "metadata": {
        "pycharm": {
          "is_executing": false
        }
      },
      "outputs": [],
      "source": "COMP \u003d {\u0027a\u0027: \u0027t\u0027, \u0027c\u0027: \u0027g\u0027}\nCOMP.update({v: k for k, v in COMP.items()})\nCOMP.update({k.upper(): v.upper() for k, v in COMP.items()})\ndef reversec(pattern):\n    return \"\".join(reversed([COMP[c] for c in pattern]))\n       "
    },
    {
      "cell_type": "markdown",
      "metadata": {
        "pycharm": {}
      },
      "source": [
        "Test your algorithm:"
      ]
    },
    {
      "cell_type": "code",
      "execution_count": 41,
      "metadata": {
        "pycharm": {
          "is_executing": false
        }
      },
      "outputs": [
        {
          "data": {
            "text/plain": "\u0027ACCGGGTTTT\u0027"
          },
          "metadata": {},
          "output_type": "execute_result",
          "execution_count": 41
        }
      ],
      "source": [
        "reversec(\u0027AAAACCCGGT\u0027)"
      ]
    },
    {
      "cell_type": "markdown",
      "metadata": {
        "pycharm": {}
      },
      "source": [
        "### 1.4. Checking if the frequent 9-mers we found, are found in the entire genome of Vibrio cholerae"
      ]
    },
    {
      "cell_type": "markdown",
      "metadata": {
        "pycharm": {}
      },
      "source": [
        "Finding a 9-mer that appears six times (either as itself or as its reverse complement) in a DNA string of length 500 is far more surprising than finding a 9-mer that appears three times (as itself). This observation leads us to the working hypothesis that **ATGATCAAG** and its reverse complement **CTTGATCAT** indeed represent DnaA boxes in Vibrio cholerae. This computational conclusion makes sense biologically because the DnaA protein that binds to DnaA boxes and initiates replication does not care which of the two strands it binds to. Thus, for our purposes, both **ATGATCAAG** and **CTTGATCAT** represent DnaA boxes.\n",
        "\n",
        "However, before concluding that we have found the DnaA box of Vibrio cholerae, the careful bioinformatician should check if there are other short regions in the Vibrio cholerae genome exhibiting multiple occurrences of **ATGATCAAG** (or **CTTGATCAT**). After all, maybe these strings occur as repeats throughout the entire Vibrio cholerae genome, rather than just in the ori regionC. To this end, we need to solve the following problem."
      ]
    },
    {
      "cell_type": "markdown",
      "metadata": {
        "pycharm": {}
      },
      "source": [
        "#### Pattern Matching Problem: Find all occurrences of a pattern in a string.\n",
        "- Input: Two strings, **Pattern** and **Genome**.\n",
        "- Output: A list of integers specifying all starting positions where **Pattern** appears as a substring of **Genome**\n",
        "\n",
        "**Sample Input:**  \n",
        "ATAT  \n",
        "GATATATGCATATACTT\n",
        "\n",
        "**Sample Output:**  \n",
        "1 3 9"
      ]
    },
    {
      "cell_type": "code",
      "execution_count": 42,
      "metadata": {
        "pycharm": {
          "is_executing": false
        }
      },
      "outputs": [],
      "source": "def find_all(a_str, sub):\n    start \u003d 0\n    while True:\n        start \u003d a_str.find(sub, start)\n        if start \u003d\u003d -1: return\n        yield start\n        start +\u003d 1\n        \ndef pattern_matching(pattern, genome):\n    return list(find_all(genome, pattern))\n"
    },
    {
      "cell_type": "markdown",
      "metadata": {
        "pycharm": {}
      },
      "source": [
        "Test your algorithm:"
      ]
    },
    {
      "cell_type": "code",
      "execution_count": 43,
      "metadata": {
        "pycharm": {
          "is_executing": false
        }
      },
      "outputs": [
        {
          "data": {
            "text/plain": "[1, 3, 9]"
          },
          "metadata": {},
          "output_type": "execute_result",
          "execution_count": 43
        }
      ],
      "source": [
        "pattern_matching(\u0027ATAT\u0027, \u0027GATATATGCATATACTT\u0027)"
      ]
    },
    {
      "cell_type": "markdown",
      "metadata": {
        "pycharm": {}
      },
      "source": [
        "Find all starting positions (in increasing order) where **ATGATCAAG** appears as a substring in the *Vibrio cholerae* genome."
      ]
    },
    {
      "cell_type": "code",
      "execution_count": 44,
      "metadata": {
        "scrolled": true,
        "pycharm": {
          "is_executing": false
        }
      },
      "outputs": [
        {
          "name": "stdout",
          "text": [
            "[116556,\n 149355,\n 151913,\n 152013,\n 152394,\n 186189,\n 194276,\n 200076,\n 224527,\n 307692,\n 479770,\n 610980,\n 653338,\n 679985,\n 768828,\n 878903,\n 985368]\n17\n"
          ],
          "output_type": "stream"
        }
      ],
      "source": "from pprint import pprint\nvibrio_cholerae_genome \u003d open(\u0027Vibrio_cholerae.txt\u0027).readlines()[0].strip()\nmathch_indeces \u003d pattern_matching(\u0027ATGATCAAG\u0027, vibrio_cholerae_genome)\npprint(mathch_indeces)\nprint(len(mathch_indeces))\n"
    },
    {
      "cell_type": "markdown",
      "metadata": {
        "pycharm": {}
      },
      "source": [
        "We discover that **ATGATCAAG** appears 17 times in *Vibrio cholerae* genome. \n",
        "Only the three occurrences of **ATGATCAAG** in oriC at starting positions 151913, 152013, and 152394  form **clumps**, i.e., appear close to each other in a small region of the genome. \n",
        "\n",
        "You may check that the same conclusion is reached when searching for the reverse compliment **CTTGATCAT**. We now have strong statistical evidence that **ATGATCAAG/CTTGATCAT** may represent the hidden message to DnaA to start replication."
      ]
    },
    {
      "cell_type": "markdown",
      "metadata": {
        "pycharm": {}
      },
      "source": [
        "### 1.5. Thermotoga petrophila oriC\n",
        "\n",
        "Let\u0027s check if **ATGATCAAG/CTTGATCAT** occurs in the oriC region of *Thermotoga petrophila*, a bacterium that thrives in extremely hot environments; its name derives from its discovery in the water beneath oil reservoirs, where temperatures can exceed 80° Celsius."
      ]
    },
    {
      "cell_type": "code",
      "execution_count": 56,
      "metadata": {
        "pycharm": {
          "is_executing": false
        }
      },
      "outputs": [
        {
          "name": "stdout",
          "text": [
            "[]\n[]\n"
          ],
          "output_type": "stream"
        }
      ],
      "source": "thermotoga_petrophila_oric \u003d \"\"\"AACTCTATACCTCCTTTTTGTCGAATTTGTGTGATTTATAGAGAAAATCTTATTAACTGA\nAACTAAAATGGTAGGTTTGGTGGTAGGTTTTGTGTACATTTTGTAGTATCTGATTTTTAA\nTTACATACCGTATATTGTATTAAATTGACGAACAATTGCATGGAATTGAATATATGCAAA\nACAAACCTACCACCAAACTCTGTATTGACCATTTTAGGACAACTTCAGGGTGGTAGGTTT\nCTGAAGCTCTCATCAATAGACTATTTTAGTCTTTACAAACAATATTACCGTTCAGATTCA\nAGATTCTACAACGCTGTTTTAATGGGCGTTGCAGAAAACTTACCACCTAAAATCCAGTAT\nCCAAGCCGATTTCAGAGAAACCTACCACTTACCTACCACTTACCTACCACCCGGGTGGTA\nAGTTGCAGACATTATTAAAAACCTCATCAGAAGCTTGTTCAAAAATTTCAATACTCGAAA\nCCTACCACCTGCGTCCCCTATTATTTACTACTACTAATAATAGCAGTATAATTGATCTGA\"\"\"\n\nthermotoga_petrophila_oric \u003d \"\".join(thermotoga_petrophila_oric.split(\u0027\\n\u0027))\n\nprint(pattern_matching(\u0027ATGATCAAG\u0027, thermotoga_petrophila_oric))\nprint(pattern_matching(\u0027CTTGATCAT\u0027, thermotoga_petrophila_oric))"
    },
    {
      "cell_type": "code",
      "execution_count": 57,
      "metadata": {
        "pycharm": {
          "is_executing": false
        }
      },
      "outputs": [],
      "source": [
        "assert pattern_matching(\u0027ATGATCAAG\u0027, thermotoga_petrophila_oric) \u003d\u003d []\n",
        "assert pattern_matching(\u0027CTTGATCAT\u0027, thermotoga_petrophila_oric) \u003d\u003d []"
      ]
    },
    {
      "cell_type": "markdown",
      "metadata": {
        "pycharm": {}
      },
      "source": [
        "This region does not contain a single occurrence of **ATGATCAAG** or **CTTGATCAT**! Thus, different bacteria may use different DnaA boxes as \"hidden messages\" to the DnaA protein.\n",
        "\n",
        "### 1.6. Frequent words in *Thermotoga petrophila* oriC\n",
        "We want to find **9-mers** in oriC of *Thermotoga petrophila* appearing **5** times or more (including their reverse compliment).\n",
        "Let\u0027s modify *freq_words* function to achieve that."
      ]
    },
    {
      "cell_type": "markdown",
      "metadata": {
        "pycharm": {}
      },
      "source": [
        "#### Modified Frequent Words Problem.\n",
        "- Input: A string **Text** and integers **k, c**.\n",
        "- Output: Pairs of k-mers and their reverse compliments in **Text** that apear **c** or more times, and their number of occurrences, without duplications.\n",
        "\n",
        "**Sample Input:**   \n",
        "text \u003d ACGTTGCATTCGCATATGATTCATGAGAGCT   \n",
        "k \u003d 4  \n",
        "c \u003d 3\n",
        "\n",
        "**Sample Output:**   \n",
        "\\[(\u0027ATGA\u0027, 2, \u0027TCAT\u0027, 1, 3)\\]\n",
        "\n",
        "In this example k-mer **ATGA** appers 2 times, its reverse compliment **TCAT** appears 1 time, total occurrences 3 times."
      ]
    },
    {
      "cell_type": "code",
      "execution_count": 58,
      "metadata": {
        "pycharm": {
          "is_executing": false
        }
      },
      "outputs": [],
      "source": "from collections import Counter\n\ndef freq_words2(text, k, c):\n    cnt \u003d Counter()\n    pairs \u003d []\n    \n    for w in window(text, k):\n        cnt[w] +\u003d 1\n        \n    unique_pairs \u003d {tuple(sorted([kmer, reversec(kmer)])) for kmer in cnt}\n    \n    for kmer, rev_kmer in unique_pairs:\n        if cnt[kmer] + cnt[rev_kmer] \u003e\u003d c:\n            pairs.append((kmer, cnt[kmer], rev_kmer, cnt[rev_kmer], cnt[kmer] + cnt[rev_kmer]))\n        \n    return sorted(pairs, key\u003dlambda t: t[4], reverse\u003dTrue)\n    \n    "
    },
    {
      "cell_type": "markdown",
      "metadata": {
        "pycharm": {}
      },
      "source": [
        "Test your algorithm:"
      ]
    },
    {
      "cell_type": "code",
      "execution_count": 59,
      "metadata": {
        "scrolled": true,
        "pycharm": {
          "is_executing": false
        }
      },
      "outputs": [
        {
          "name": "stdout",
          "text": [
            "[(\u0027ATGA\u0027, 2, \u0027TCAT\u0027, 1, 3)]\n"
          ],
          "output_type": "stream"
        }
      ],
      "source": "freqs \u003d freq_words2(\u0027ACGTTGCATTCGCATATGATTCATGAGAGCT\u0027, 4, 3)\nprint(freqs)\nassert freqs \u003d\u003d [(\u0027ATGA\u0027, 2, \u0027TCAT\u0027, 1, 3)]"
    },
    {
      "cell_type": "markdown",
      "metadata": {
        "pycharm": {}
      },
      "source": [
        "And now in the oriC of *Thermotoga petrophila*."
      ]
    },
    {
      "cell_type": "code",
      "execution_count": 60,
      "metadata": {
        "pycharm": {
          "is_executing": false
        }
      },
      "outputs": [
        {
          "data": {
            "text/plain": "[(\u0027ACCTACCAC\u0027, 5, \u0027GTGGTAGGT\u0027, 2, 7),\n (\u0027AACCTACCA\u0027, 3, \u0027TGGTAGGTT\u0027, 3, 6),\n (\u0027AAACCTACC\u0027, 3, \u0027GGTAGGTTT\u0027, 3, 6),\n (\u0027CCTACCACC\u0027, 3, \u0027GGTGGTAGG\u0027, 2, 5)]"
          },
          "metadata": {},
          "output_type": "execute_result",
          "execution_count": 60
        }
      ],
      "source": [
        "freq_words2(thermotoga_petrophila_oric, 9, 5)"
      ]
    },
    {
      "cell_type": "markdown",
      "metadata": {
        "pycharm": {}
      },
      "source": [
        "It is **extremely unlikely** that 4 different 9-mers will occur so frequently within the same short region in a random string. We will cheat a little and consult with *Ori-Finder*, a software tool for finding replication origins in DNA sequences. \n",
        "\n",
        "This software chooses **CCTACCACC** (along with its reverse complement **GGTGGTAGG**) as a working hypothesis for the DnaA box in Thermotoga petrophila. Together, these two complementary 9-mers appear five times in the replication origin."
      ]
    }
  ],
  "metadata": {
    "kernelspec": {
      "name": "pycharm-536c4646",
      "language": "python",
      "display_name": "PyCharm (GenomeAssembly-Part 2.ipynb)"
    },
    "language_info": {
      "codemirror_mode": {
        "name": "ipython",
        "version": 3
      },
      "file_extension": ".py",
      "mimetype": "text/x-python",
      "name": "python",
      "nbconvert_exporter": "python",
      "pygments_lexer": "ipython3",
      "version": "3.6.4"
    }
  },
  "nbformat": 4,
  "nbformat_minor": 2
}