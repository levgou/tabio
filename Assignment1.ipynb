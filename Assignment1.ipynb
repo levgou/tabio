{
 "cells": [
  {
   "cell_type": "markdown",
   "metadata": {},
   "source": [
    "# Assignment 1\n",
    "\n",
    "## Submission Guidlines\n",
    "- Sumbit you Assignmet to the [Submission System](https://cs-serv.cs.bgu.ac.il/cs_service/subsys.html) as a single *.ipynb file\n",
    "- The submission is alone or in pairs\n",
    "- Write only in English   \n",
    "- When drawing graphs, you should add a title, you should also label the x and y axes\n",
    "\n",
    "## Overview\n",
    "In this Assignment, you will:\n",
    "\n",
    "1. Implement local sequence alignment algorithm\n",
    "2. Use your algoirthm to align a short protein sequence (**query**) with a very long protein sequence (**database**)\n",
    "3. Analyze your results\n",
    "\n",
    "## Submitting \n",
    "* Doron Har-Noy 204209209 \n",
    "* Lev Gourevitch 314369547\n"
   ]
  },
  {
   "cell_type": "markdown",
   "metadata": {},
   "source": [
    "## 1. Local Sequence Alignment Algorithm\n",
    "\n",
    "Implement Local Sequence Alignment Algorithm that was studied in class (see first practical session for a reminder)\n",
    "\n",
    "**Input:**\n",
    "\n",
    "- Two amino-acid input sequences $S_1, S_2$\n",
    "- A scoring matrix - can be found in the file *blosum_62.txt*\n",
    "    - This is BLOSUM62 scroing matrix for proteins  \n",
    "    The sign '\\*' in a row or column represents indels score\n",
    "\n",
    "**Output:**\n",
    "- Optimal local alignment of $S_1, S_2$\n",
    "- Optimal alignment score\n",
    "- Start and end indices of the local alignment in $S_1$ and $S_2$\n",
    "- The Dynamic Programming table after the computation is done\n",
    "\n",
    "For example, local alignment of:  "
   ]
  },
  {
   "cell_type": "code",
   "execution_count": 1,
   "metadata": {
    "ExecuteTime": {
     "end_time": "2019-03-26T20:49:52.934489Z",
     "start_time": "2019-03-26T20:49:52.929023Z"
    }
   },
   "outputs": [],
   "source": [
    "s1 = 'YVEGLKMF'  \n",
    "s2 = 'ELGLMBAR'"
   ]
  },
  {
   "cell_type": "markdown",
   "metadata": {},
   "source": [
    "should return the following output:"
   ]
  },
  {
   "cell_type": "code",
   "execution_count": 2,
   "metadata": {
    "ExecuteTime": {
     "end_time": "2019-03-26T20:49:52.973447Z",
     "start_time": "2019-03-26T20:49:52.953765Z"
    }
   },
   "outputs": [
    {
     "name": "stdout",
     "output_type": "stream",
     "text": [
      "E_GLKM\n",
      "ELGL_M\n",
      "score = 12\n",
      "s1 (2, 7)\n",
      "s2 (0, 5)\n"
     ]
    }
   ],
   "source": [
    "print('\\n'.join(['E_GLKM','ELGL_M','score = 12','s1 (2, 7)','s2 (0, 5)']))"
   ]
  },
  {
   "cell_type": "markdown",
   "metadata": {},
   "source": [
    "You don't need to print the dynamic programming table, but keep it for part 2"
   ]
  },
  {
   "cell_type": "markdown",
   "metadata": {},
   "source": [
    "In this example, the optimal local alignment is between **seq1[2:7]** and **seq2[0:5]** (the last index is not included)"
   ]
  },
  {
   "cell_type": "code",
   "execution_count": 3,
   "metadata": {
    "ExecuteTime": {
     "end_time": "2019-03-26T20:49:53.023491Z",
     "start_time": "2019-03-26T20:49:52.977712Z"
    }
   },
   "outputs": [
    {
     "name": "stdout",
     "output_type": "stream",
     "text": [
      "EGLKM\n",
      "ELGLM\n"
     ]
    }
   ],
   "source": [
    "print(s1[2:7])\n",
    "print(s2[0:5])"
   ]
  },
  {
   "cell_type": "markdown",
   "metadata": {},
   "source": [
    "### 1.1 Implementation of the Seq. align alg."
   ]
  },
  {
   "cell_type": "code",
   "execution_count": 4,
   "metadata": {
    "ExecuteTime": {
     "end_time": "2019-03-26T20:49:54.221916Z",
     "start_time": "2019-03-26T20:49:53.027034Z"
    }
   },
   "outputs": [],
   "source": [
    "import pandas as pd\n",
    "import numpy as np\n",
    "import functools\n",
    "\n",
    "# Enable this if you want a for loop with progress bar:\n",
    "# from tqdm import tqdm_notebook   "
   ]
  },
  {
   "cell_type": "code",
   "execution_count": 5,
   "metadata": {
    "ExecuteTime": {
     "end_time": "2019-03-26T20:49:54.255615Z",
     "start_time": "2019-03-26T20:49:54.224328Z"
    },
    "code_folding": [
     0,
     21,
     28,
     37,
     51,
     78
    ]
   },
   "outputs": [],
   "source": [
    "def get_blosom_dict_from_file() -> pd.DataFrame:\n",
    "    with open(\"blosum_62.txt\") as f:\n",
    "        lines = f.readlines()\n",
    "        table_lines = filter(lambda l: not l.startswith('#'), lines)\n",
    "        no_endl_lines = map(str.rstrip, table_lines)\n",
    "        split_lines = list(map(str.split, no_endl_lines))\n",
    "        \n",
    "        df = pd.DataFrame(split_lines[1:])\n",
    "        df = df.set_index(df.columns[0])\n",
    "        df.columns = split_lines[0]\n",
    "        df = df.applymap(int)\n",
    "        \n",
    "        # convert to dict for much faster lookup times\n",
    "        score_dict = {}\n",
    "        for r in df.index:\n",
    "            for c in df.index:\n",
    "                score_dict[(r, c)] = df.loc[r, c]\n",
    "        \n",
    "        return score_dict\n",
    "\n",
    "    \n",
    "def load_seq_from_file(filname: str) -> str:\n",
    "    with open(filname) as f:\n",
    "        lines = f.readlines()[1:]\n",
    "        no_endl_lines = map(str.rstrip, lines)\n",
    "        return ''.join(no_endl_lines)\n",
    "    \n",
    "\n",
    "def run_alg(matrix, seq_str, db_str, sub_dict):\n",
    "    max_score = -1\n",
    "    max_score_coord = (-1, -1)\n",
    "\n",
    "    for row in range(1, len(seq_str)):\n",
    "        \n",
    "# replace the for above with this one to see progress bar\n",
    "#    for row in tqdm_notebook(range(1, len(seq_str)), desc='rows'):\n",
    "        for col in range(1, len(db_str)):\n",
    "            matrix[row, col] = max(\n",
    "                matrix[row - 1, col] + sub_dict[(seq_str[row - 1], '*')],\n",
    "                matrix[row, col - 1] + sub_dict[('*', db_str[col - 1])],\n",
    "                matrix[row - 1, col - 1] + sub_dict[(seq_str[row - 1], db_str[col - 1])],\n",
    "                0\n",
    "            )\n",
    "    \n",
    "            if matrix[row, col] > max_score:\n",
    "                max_score = matrix[row, col]\n",
    "                max_score_coord = (row, col)\n",
    "                \n",
    "    return max_score, max_score_coord       \n",
    "\n",
    "\n",
    "def get_alignment_s1_s2(matrix, seq_str, db_str, sub_dict, row_max, col_max):\n",
    "    s1_align_reconstruction = []\n",
    "    s2_align_reconstruction = []\n",
    "    \n",
    "    while matrix[row_max, col_max]:\n",
    "        if matrix[row_max - 1, col_max] + sub_dict[(seq_str[row_max - 1], '*')] == matrix[row_max, col_max]:\n",
    "            s1_align_reconstruction.append(seq_str[row_max - 1])\n",
    "            s2_align_reconstruction.append('_')\n",
    "            row_max -= 1\n",
    "        \n",
    "        elif matrix[row_max, col_max - 1] + sub_dict[('*', db_str[col_max - 1])] == matrix[row_max, col_max]:\n",
    "            s2_align_reconstruction.append(db_str[col_max - 1])\n",
    "            s1_align_reconstruction.append('_')\n",
    "            col_max -= 1\n",
    "            \n",
    "        else:\n",
    "            s1_align_reconstruction.append(seq_str[row_max - 1])\n",
    "            s2_align_reconstruction.append(db_str[col_max - 1])\n",
    "            row_max -= 1\n",
    "            col_max -= 1\n",
    "            \n",
    "    s1_align = ''.join(reversed(s1_align_reconstruction))\n",
    "    s2_align = ''.join(reversed(s2_align_reconstruction))\n",
    "    \n",
    "    return s1_align, s2_align\n",
    "\n",
    "\n",
    "def find_coords_of_align(seq_str, s1_align, db_str, s2_align):\n",
    "    s1_align_clean, s2_align_clean = s1_align.replace('_', ''), s2_align.replace('_', '')\n",
    "    s1_index = seq_str.find(s1_align_clean)\n",
    "    s2_index = db_str.find(s2_align_clean)\n",
    "    \n",
    "    return (s1_index, s1_index + len(s1_align_clean)), (s2_index, s2_index + len(s2_align_clean))\n",
    "\n",
    "\n",
    "def pretty_alignment_lines(s1, s2):\n",
    "    all_lines = []\n",
    "    while s1:\n",
    "        first_line = s1[:120]\n",
    "        second_line = s2[:120]\n",
    "        middle_line = map(lambda t: '|' if '_' not in [t[0], t[1]] else ' ', zip(first_line, second_line))\n",
    "        middle_line_str = ''.join(middle_line)\n",
    "\n",
    "        all_lines = [*all_lines, first_line, middle_line_str, second_line, '']\n",
    "\n",
    "        s1 = s1[120:]\n",
    "        s2 = s2[120:]\n",
    "        \n",
    "    return all_lines\n",
    "\n",
    "\n",
    "def print_align_results(matrix, max_score, row_max, col_max, seq_str, db_str, sub_dict):\n",
    "    s1_align, s2_align =  get_alignment_s1_s2(matrix, seq_str, db_str, \n",
    "                                              sub_dict, row_max, col_max)\n",
    "    \n",
    "    alignment_lines = pretty_alignment_lines(s1_align, s2_align)\n",
    "    \n",
    "    s1_coords, s2_coords = find_coords_of_align(seq_str, s1_align, db_str, s2_align)\n",
    "    \n",
    "    [print(l) for l in alignment_lines]\n",
    "    print(\n",
    "        f'score = {max_score}\\n'\n",
    "        f's1 {s1_coords}\\n'\n",
    "        f's2 {s2_coords}\\n'\n",
    "        )\n"
   ]
  },
  {
   "cell_type": "code",
   "execution_count": 6,
   "metadata": {
    "ExecuteTime": {
     "end_time": "2019-03-26T20:49:54.350416Z",
     "start_time": "2019-03-26T20:49:54.259208Z"
    }
   },
   "outputs": [
    {
     "name": "stdout",
     "output_type": "stream",
     "text": [
      "seq len: 1382, db len:  101352\n"
     ]
    }
   ],
   "source": [
    "blosum_dict = get_blosom_dict_from_file()\n",
    "seq_str = load_seq_from_file('seq1.fasta')\n",
    "db_str = load_seq_from_file('seq2.fasta')\n",
    "\n",
    "print(f'seq len: {len(seq_str)}, db len:  {len(db_str)}')"
   ]
  },
  {
   "cell_type": "code",
   "execution_count": 7,
   "metadata": {
    "ExecuteTime": {
     "end_time": "2019-03-26T20:49:54.369906Z",
     "start_time": "2019-03-26T20:49:54.353623Z"
    }
   },
   "outputs": [
    {
     "name": "stdout",
     "output_type": "stream",
     "text": [
      "E_GLKM\n",
      "| || |\n",
      "ELGL_M\n",
      "\n",
      "score = 12.0\n",
      "s1 (2, 7)\n",
      "s2 (0, 5)\n",
      "\n"
     ]
    }
   ],
   "source": [
    "# Sanity test:\n",
    "\"\"\"\n",
    "E_GLKM\n",
    "ELGL_M\n",
    "score = 12\n",
    "s1 (2, 7)\n",
    "s2 (0, 5)\n",
    "\"\"\"\n",
    "\n",
    "test_matrix = np.zeros([len(s1), len(s2)])\n",
    "max_score, max_score_coord = run_alg(test_matrix, s1, s2, blosum_dict)\n",
    "\n",
    "print_align_results(test_matrix, max_score,\n",
    "                    max_score_coord[0], max_score_coord[1],\n",
    "                    s1, s2, blosum_dict)\n"
   ]
  },
  {
   "cell_type": "markdown",
   "metadata": {},
   "source": [
    "## 2. Running the algorithm and analyzing the results\n",
    "\n",
    "In this section, you will run your algorithm on the sequences from *seq1.fasta* and *seq2.fasta* files\n",
    "\n",
    "**Input:**\n",
    "\n",
    "- **query** protein: The file *seq1.fasta* contains a single protein:  \n",
    "    The first line starts with '>' and the name of the sequecne.  \n",
    "    The concatenation of all lines that come after '>' is the sequence itself.\n",
    "\n",
    "- **database**: The file *seq2.fasta* contains a very long sequence of amino acids, representing a database of proteins (same format as *seq1.fasta*)\n",
    "- A scoring matrix - can be found in the file blosum_62.txt\n",
    "\n",
    "> Note: In the Dynamic Programming table, the **query** should be represented by the **rows** and the **database** should be represented by the **columns**\n",
    "\n",
    "Execute local alignment of the query against the database and **report**:\n",
    "- Optimal alignment of query and database\n",
    "- Optimal alignment score\n",
    "- Start and end indices of the local alignment in **query** and **database**\n",
    "- Runtime performance"
   ]
  },
  {
   "cell_type": "code",
   "execution_count": 8,
   "metadata": {
    "ExecuteTime": {
     "end_time": "2019-03-26T20:55:58.385832Z",
     "start_time": "2019-03-26T20:49:54.372481Z"
    }
   },
   "outputs": [
    {
     "name": "stdout",
     "output_type": "stream",
     "text": [
      "CPU times: user 5min 24s, sys: 38 s, total: 6min 2s\n",
      "Wall time: 6min 3s\n"
     ]
    }
   ],
   "source": [
    "%%time\n",
    "#report your results here\n",
    "\n",
    "align_matrix = np.zeros([len(seq_str), len(db_str)])\n",
    "max_score, max_score_coord = run_alg(align_matrix, seq_str, db_str, blosum_dict)\n"
   ]
  },
  {
   "cell_type": "code",
   "execution_count": 9,
   "metadata": {
    "ExecuteTime": {
     "end_time": "2019-03-26T20:55:58.408847Z",
     "start_time": "2019-03-26T20:55:58.389803Z"
    }
   },
   "outputs": [
    {
     "name": "stdout",
     "output_type": "stream",
     "text": [
      "AVAALLLGAA_GHLYPGEVCPGMDIRNNLTRLHELENCSVIEGHLQILLMFKTRPEDFRDLSFPKLIMITDYLLLFRVYGLESLKDLFPNLTVIRGSRLFFNYALVIFEMVHLKELGLYN\n",
      "|||||||||| | |||||||||||||||||||||||||||||||||||||||||||||||||||||||||||||||||||||||||||||||||||||||||||||||||||||||||||\n",
      "AMACLLTCLAFG_LFLLLVCPGMDIRNNLTRLHELANCSVIEGHLQILLMFKTRPEDFRDLSFPKLIMITDYLLLFRVYGLESLKDLFPNLTVIRGSRLFFNYALVIFEMVHLKELGLYS\n",
      "\n",
      "LMNITRGSVRIEKNNELCYLATIDWSRILDSVEDNYIVLNKDDNEECGDICPGTAKGKTNCPATVINGQFVERCWTHSHCQKVCPTICKSHGCTAEGLCCHSECLGNCSQPDDPTKCVAC\n",
      "||||||||||||||||||||||||||||||||||||||||||||||||||||||||||||||||||||||||||||||||||||||||||||||||||||||||||||||||||||||||\n",
      "LMNITRGSVRIEKNNELCYLATIDWSRILDSVEDNYIVLNKDDNEECGDICPGTAKGKTSCPATVINGQFVERCWTHSHCQKVCPTICKSHGCTSEGLCCHSECLGNCSEPDDPTKCVAC\n",
      "\n",
      "RNFYLDGRCVETCPPPYYHFQDWRCVNFSFCQDLHHKCKNSRRQGCHQYVIHNNKCIPECPSGYTMNSSNLLCTPCLGPCPKVCHLLEGEKTIDSVTSAQELRGCTVINGSLIINIRGGN\n",
      "||||||||||||||||||||||||||||||||||||||||||||||||||||||||||||||||||||||||||||||||||||||||||||||||||||||||||||||||||||||||\n",
      "RNFYLDGRCVETCPPPYYHFQDWRCVNFSFCQDLHNKCKNSRRQGCHQYVIHNNKCIPECPSGYTMNSSNLMCTPCLGPCPKVCHILEGEKTIDSVTSAQELRGCTVVNGSLIINIRGGN\n",
      "\n",
      "NLAAELEANLGLIEEISGYLKIRRSYALVSLSFFRKLRLIRGETLEIGNYSFYALDNQNLRQLWDWSKHNLTITQGKLFFHYNPKLCLSEIHKMEEVSGTKGRQERNDIALKTNGDQASC\n",
      "||||||||||||||||||||||||||||||||||||||||||||||||||||||||||||||||||||||||||||||||||||||||||||||||||||||||||||||||||||||||\n",
      "NLAAELEANLGLIEEISGYLKIRRSYALVSLSFFRKLRLIRGETLEIGNYSFYALDNQNLRQLWDWSKHNLTITQGKLFFHYNPKLCLSEIHKMEEVSGTKGRQERNDIALKTNGDQASC\n",
      "\n",
      "ENELLKFSYIRTSFDKILLRWEPYWPPDFRDLLGFMLFYKEAPYQNVTEFDGQDACGSNSWTVVDIDPPLRSNDPKSQNHPGWLMRGLKPWTQYAIFVKTLVTFSDERRTYGAKSDIIYV\n",
      "||||||||||||||||||||||||||||||||||||||||||||||||||||||||||||||||||||||||||||||||||||||||||||||||||||||||||||||||||||||||\n",
      "ENELLKFSYIRTSYDKILLKWEPYWPPDFRDLLGFMLFYKEAPYQNVTEFDGQDACGSNSWTVVDIDPPLRSNDPKSQNHPGWLMRGLKPWTQYAIFVKTLVTFSDERRTYGAKSDIIYV\n",
      "\n",
      "QTDATNPSVPLDPISVSNSSSQIILKWKPPSDPNGNITHYLVFWERQAEDSELFELDYCLKGLKLPSRTWSPPFESEDSQKHNQSEYEDSAGECCSCPKTDSQILKELEESSFRKTFEDY\n",
      "||||||||||||||||||||||||||||||||||||||||||||||||||||||||||||||||||||||||||||||||||||||||||||||||||||||||||||||||||||||||\n",
      "QTDATNPSVPLDPISVSNSSSQIILKWKPPSDPNGNITHYLVFWERQAEDSELYELDYCLKGLKLPSRTWSPPFEAEGSPKHNQSEHEESAGECCSCPKTDSQILKELEESSFRKTFEDY\n",
      "\n",
      "LHNVVFVPRKTSSGTGAEDPRPSRKRRSLGDVGNVTVAVPTVAAFPNTSSTSVPTSPEEHRPFEKVVNKESLVISGLRHFTGYRIELQACNQDTPEERCSVAAYVSARTMPEAKADDIVG\n",
      "|||||||||          |  ||||||||||||||||||||||||||| ||||||||||||||||||||||||||||||||||||||||||||||||||||||||||||||||||||||\n",
      "LHNVVFVPR__________P__SRKRRALRDVANVTAAVPTAAGFPNTS_TSTPTSPEERKPFEKVVNKESLVISGLRHFTGYRIELQACNQDAPEERCSVAAYVSARTMPEAKADDIVG\n",
      "\n",
      "PVTHEIFENNVVHLMWQEPKEPNGLIVLYEVSYRRYGDEELHLCVSRKHFALERGCRLRGLSPGNYSVRIRATSLAGNGSWTEPTYFYVTDYLDVPSNIAKIIIGPLIFVFLFSVVIGSI\n",
      "||||||||||||||||||||||||||||||||||||||||||||||||||||||||||||||||||||||||||||||||||||||||||||||||||||||||||||||||||||||||\n",
      "PVTHEIFENNVVHLMWQEPKEPNGLIVLYEVSYRRYGDEELHLCVSRRHFALERGCRLRGLPPGNYSVRVRATSLAGNGSWTEATYFYVTDYLDVPSNIAKIIIGPLIFVFLFSVVIGSI\n",
      "\n",
      "YLFLRKRQPDGPLGPLYASSNPEYLSASDVFPCSVYVPDEWEVSREKITLLRELGQGSFGMVYEGNARDIIKGEAETRVAVKTVNESASLRERIEFLNEASVMKGFTCHHVVRLLGVVSK\n",
      "||||||||||||||||||||||||||||||||||||||||||||||||||||||||||||||||||||||||||||||||||||||||||||||||||||||||||||||||||||||||\n",
      "YLFLRKRQPDGPLGPLYASSNPEYLSASDVFPCSVYVPDEWEVPREKITLLRELGQGSFGMVYEGNARDIVKGEAETRVAVKTVNESASLRERIEFLNEASVMKGFTCHHVVRLLGVVSK\n",
      "\n",
      "GQPTLVVMELMAHGDLKSYLRSLRPEAENNPGRPPPTLQEMIQMAAEIADGMAYLNAKKFVHRDLAARNCMVAHDFTVKIGDFGMTRDIYETDYYRKGGKGLLPVRWMAPESLKDGVFTT\n",
      "||||||||||||||||||||||||||||||||||||||||||||||||||||||||||||||||||||||||||||||||||||||||||||||||||||||||||||||||||||||||\n",
      "GQPTLVVMELMAHGDLKSYLRSLRPEAENNPGRPPPTLQEMIQMAAEIADGMAYLNAKKFVHRDLAARNCMVAHDFTVKIGDFGMTRDIYETDYYRKGGKGLLPVRWMAPESLKDGVFTT\n",
      "\n",
      "SSDMWSFGVVLWEITSLAEQPYQGLSNEQVLKFVMDGGYLDQPDNCPERVTDLMRMCWQFNPKMRPTFLEIVNLLKDDLHPSFPEVSFFHSEENKAPESEELEMEFEDMENVPLDRSSHC\n",
      "||||||||||||||||||||||||||||||||||||||||||||||||||||||||||||||||||||||||||||||||||||||||||||||||||||||||||||||||||||||||\n",
      "SSDMWSFGVVLWEITSLAEQPYQGLSNEQVLKFVMDGGYLDQPDNCPERVTDLMRMCWQFNPKMRPTFLEIVDLLKDDLHPSFPEVSFFHSEENKAPESEELEMEFEDMESVPLDRASHS\n",
      "\n",
      "QREEAGGRDGGSSLGFKRSYEEHIPYTHMNGGKKNGRILTLPRSNP\n",
      "||||||||||||||||||||||||||||||||||||||||||||||\n",
      "QREEAGGRDGGSSLGLKRNYEEHIPYTHMNGGKKNGRILTLPRSNP\n",
      "\n",
      "score = 6983.0\n",
      "s1 (16, 1381)\n",
      "s2 (2999, 4351)\n",
      "\n"
     ]
    }
   ],
   "source": [
    "print_align_results(align_matrix, max_score, \n",
    "                    max_score_coord[0], max_score_coord[1],\n",
    "                    seq_str, db_str, blosum_dict)"
   ]
  },
  {
   "cell_type": "markdown",
   "metadata": {},
   "source": [
    "## Questions\n",
    "\n",
    "Answer the 6 questions below:\n",
    "\n",
    "1. What protein sequence will get the highest possible score when aligned against the **query** (using Local Alignment and the given scoring matrix)? Compute this score."
   ]
  },
  {
   "cell_type": "markdown",
   "metadata": {},
   "source": [
    "### Answer:  \n",
    "Because we see that each letter gets the highest score when \"replaced\"\n",
    "by itself - the highest score will be computed if the **query** is aigned\n",
    "with a string **S** such as **query** is part of **S**."
   ]
  },
  {
   "cell_type": "code",
   "execution_count": 10,
   "metadata": {
    "ExecuteTime": {
     "end_time": "2019-03-26T20:56:04.262457Z",
     "start_time": "2019-03-26T20:55:58.413301Z"
    }
   },
   "outputs": [
    {
     "name": "stdout",
     "output_type": "stream",
     "text": [
      "Max score: 7424.0, %of optimal score: [94.05980603448276%]\n"
     ]
    }
   ],
   "source": [
    "#compute the score here\n",
    "align_matrix_opt = np.zeros([len(seq_str), len(seq_str)])\n",
    "max_score_opt, max_score_coord = run_alg(align_matrix_opt, seq_str, seq_str, blosum_dict)\n",
    "\n",
    "print(f'Max score: {max_score_opt},'\n",
    "      f' %of optimal score: [{(max_score / max_score_opt) * 100}%]')"
   ]
  },
  {
   "cell_type": "markdown",
   "metadata": {},
   "source": [
    "2. What is the optimal score of a local alignment between query and database, in comparison to the score computed in (1)? What can you conclude? "
   ]
  },
  {
   "cell_type": "markdown",
   "metadata": {},
   "source": [
    "### Answer:  \n",
    "We can see that the alignment score is 94% of the optimal score.\n",
    "Thus we can conclude that the quality of the alignment is very high\n",
    "(Very high similiraty)"
   ]
  },
  {
   "cell_type": "markdown",
   "metadata": {},
   "source": [
    "3. Plot a heatmap of the dynamic programming table, using [matplotlib.pyplot.imshow](https://matplotlib.org/api/_as_gen/matplotlib.pyplot.imshow.html), for example:"
   ]
  },
  {
   "cell_type": "code",
   "execution_count": 11,
   "metadata": {
    "ExecuteTime": {
     "end_time": "2019-03-26T20:56:05.423031Z",
     "start_time": "2019-03-26T20:56:04.266414Z"
    }
   },
   "outputs": [
    {
     "data": {
      "text/plain": [
       "<matplotlib.image.AxesImage at 0x7f1e17a4acf8>"
      ]
     },
     "execution_count": 11,
     "metadata": {},
     "output_type": "execute_result"
    },
    {
     "data": {
      "image/png": "[encoded data removed]",
      "text/plain": [
       "<Figure size 1296x216 with 1 Axes>"
      ]
     },
     "metadata": {},
     "output_type": "display_data"
    }
   ],
   "source": [
    "import matplotlib.pyplot as plt\n",
    "%matplotlib inline \n",
    "\n",
    "matrix = [[1, 0, 5],\n",
    "          [5, 6, 20],\n",
    "          [0, 17, 0]]\n",
    "plt.figure(figsize=(18,3))\n",
    "plt.imshow(matrix, aspect='auto', cmap='inferno')"
   ]
  },
  {
   "cell_type": "markdown",
   "metadata": {},
   "source": [
    "It is recommended you use figure size and color map from this example"
   ]
  },
  {
   "cell_type": "code",
   "execution_count": 12,
   "metadata": {
    "ExecuteTime": {
     "end_time": "2019-03-26T20:56:25.692459Z",
     "start_time": "2019-03-26T20:56:05.426288Z"
    }
   },
   "outputs": [
    {
     "data": {
      "text/plain": [
       "<matplotlib.image.AxesImage at 0x7f1e179e7198>"
      ]
     },
     "execution_count": 12,
     "metadata": {},
     "output_type": "execute_result"
    },
    {
     "data": {
      "image/png": "[encoded data removed]",
      "text/plain": [
       "<Figure size 1296x360 with 1 Axes>"
      ]
     },
     "metadata": {},
     "output_type": "display_data"
    }
   ],
   "source": [
    "#plot heatmap here\n",
    "plt.figure(figsize=(18,5))\n",
    "plt.imshow(align_matrix, aspect='auto', cmap='inferno')"
   ]
  },
  {
   "cell_type": "markdown",
   "metadata": {},
   "source": [
    "4. What can you tell from this heatmap about the query and the database?"
   ]
  },
  {
   "cell_type": "markdown",
   "metadata": {},
   "source": [
    "### Answer:  \n",
    "We can see that there is only a very narrow \"corridor\" with positive values - meaning that we could skip calculation for most of the alignment matrix."
   ]
  },
  {
   "cell_type": "markdown",
   "metadata": {},
   "source": [
    "5. Run a [BlastP](https://blast.ncbi.nlm.nih.gov/Blast.cgi?PAGE=Proteins) search (Blast for proteins) using the query. Just copy the sequence into the input box and press on 'BLAST' button. What did you get?\n",
    " "
   ]
  },
  {
   "cell_type": "markdown",
   "metadata": {},
   "source": [
    "### Answer:  \n",
    "We found a **100% match** with - insulin receptor isoform Long preproprotein [Homo sapiens]"
   ]
  },
  {
   "cell_type": "markdown",
   "metadata": {},
   "source": [
    "6. Run BlastP on the **database[start:end]** where start is the first index of the optimal alignment and end is the end index of the alignment. What did you get?"
   ]
  },
  {
   "cell_type": "markdown",
   "metadata": {},
   "source": [
    "### Answer:  \n",
    "We found 100% match with - PREDICTED: insulin receptor isoform X3 [Mustela putorius furo]\n",
    "We can suspect that this prediction was made by comparing to the sequence we've queried before (or by a one similar to it)"
   ]
  }
 ],
 "metadata": {
  "kernelspec": {
   "display_name": "Python 3",
   "language": "python",
   "name": "python3"
  },
  "language_info": {
   "codemirror_mode": {
    "name": "ipython",
    "version": 3
   },
   "file_extension": ".py",
   "mimetype": "text/x-python",
   "name": "python",
   "nbconvert_exporter": "python",
   "pygments_lexer": "ipython3",
   "version": "3.6.8"
  },
  "toc": {
   "base_numbering": 1,
   "nav_menu": {},
   "number_sections": true,
   "sideBar": true,
   "skip_h1_title": false,
   "title_cell": "Table of Contents",
   "title_sidebar": "Contents",
   "toc_cell": false,
   "toc_position": {},
   "toc_section_display": true,
   "toc_window_display": false
  },
  "varInspector": {
   "cols": {
    "lenName": 16,
    "lenType": 16,
    "lenVar": 40
   },
   "kernels_config": {
    "python": {
     "delete_cmd_postfix": "",
     "delete_cmd_prefix": "del ",
     "library": "var_list.py",
     "varRefreshCmd": "print(var_dic_list())"
    },
    "r": {
     "delete_cmd_postfix": ") ",
     "delete_cmd_prefix": "rm(",
     "library": "var_list.r",
     "varRefreshCmd": "cat(var_dic_list()) "
    }
   },
   "position": {
    "height": "533.2px",
    "left": "742px",
    "right": "20px",
    "top": "95px",
    "width": "758.6px"
   },
   "types_to_exclude": [
    "module",
    "function",
    "builtin_function_or_method",
    "instance",
    "_Feature"
   ],
   "window_display": false
  }
 },
 "nbformat": 4,
 "nbformat_minor": 2
}
